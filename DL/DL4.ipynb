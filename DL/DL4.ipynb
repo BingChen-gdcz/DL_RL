{
  "nbformat": 4,
  "nbformat_minor": 0,
  "metadata": {
    "colab": {
      "name": "DL4.ipynb",
      "version": "0.3.2",
      "provenance": [],
      "collapsed_sections": []
    },
    "kernelspec": {
      "name": "python2",
      "display_name": "Python 2"
    },
    "accelerator": "GPU"
  },
  "cells": [
    {
      "metadata": {
        "id": "GHl6N3Xfkctm",
        "colab_type": "text"
      },
      "cell_type": "markdown",
      "source": [
        "# Deep Learning Homework 4\n",
        "\n",
        "\n",
        "-----------------------------------\n",
        "\n",
        "\n",
        "**Start date:** *13th March 2018*\n",
        "\n",
        "**Due date:** *29th March 2018, 11:55 pm*\n",
        "\n",
        "------------------------------------\n",
        "\n",
        "## How to Submit\n",
        "\n",
        "When you have completed the exercises and everything has finsihed running, click on 'File' in the menu-bar and then 'Download .ipynb'. This file must be submitted to Moodle named as **studentnumber_DL_hw4.ipynb** before the deadline above.\n",
        "\n",
        "Also send a **sharable link** to the notebook at the following email: ucl.coursework.submit@gmail.com. You can also make it sharable via link to everyone, up to you.\n",
        "\n",
        "Please compile all results, all plots/figures and all answers to the understanding/analysis results questions into a PDF. Name convention: **studentnumber_DL_hw4.pdf**. Do not include any of the code (we will use the notebook for that). \n",
        "\n",
        "**Page limit: 15 pg **.\n",
        "\n",
        "------------------------------------\n",
        "\n",
        "## PART 1: MNIST as a sequence (follow-up from last assignment)\n",
        "In this assignment we will be using the [MNIST digit dataset](https://yann.lecun.com/exdb/mnist/). The dataset contains images of hand-written digits ($0-9$), and the corresponding labels. The images have a resolution of $28\\times 28$ pixels. This is the same dataset as in Assignment 1, but we will be using this data a bit differently this time around. Since this assignment will be focusing on recurrent networks that model sequential data, we will be looking at each image as a sequence: the networks you train will be \"reading\" the image one row at a time, from top to bottom (we could even do pixel-by-pixel, but in the interest of time we'll do row-by-row which is faster).  Also, we will work with a binarized version of MNIST -- we constrain the values of the pixels to be either $0$ or $1$. You can do this by applying the method `binarize`, defined below, to the raw images.\n",
        "\n",
        "<img src=\"https://github.com/bodono/files/blob/master/mnist_as_sequence.png?raw=true\">\n",
        "\n",
        "* We take the MNIST images, binarise them, and interpret them as a sequence of pixels from top-left to bottom-right. (\"Task 2\" refers to the next homework, wherein you will be using the sequence for pixel prediction).\n",
        "\n",
        "## Recurrent Models for MNIST\n",
        "\n",
        "As discussed in the lectures, there are various ways and tasks for which we can use recurrent models. A depiction of the most common scenarios is available in the Figure below. In this assignment and the following one we will look at two of these forms: **many-to-one** (sequence to label/decision) and the **many-to-many** scenario where the model receives an input and produces an output at every time step. You will use these to solve the following tasks: i) pixel prediction  and ii) in-painting.\n",
        "\n",
        "<img src=\"https://github.com/bodono/files/blob/master/rnn_models.png?raw=true\">\n",
        "* ([Figure adapted from Karpathy's The Unreasonable Effectiveness of Recurrent Neural Networks](http://karpathy.github.io/2015/05/21/rnn-effectiveness)). You will be implementing variants of *many-to-one* for classification (in this homework), and *many-to-many* for prediction (in the next homework).\n"
      ]
    },
    {
      "metadata": {
        "id": "Dj6WmOJKYRTB",
        "colab_type": "text"
      },
      "cell_type": "markdown",
      "source": [
        "## Task 1: (Next) Pixel prediction (35 pts)\n",
        "In this part, you will train a **many-to-many** recurrent model: at each time $t$, the model receives as input a pixel value $x_t$ and tries to predict the next pixel in the images $x_{t+1}$ based on the current input and the recurrent state. Thus, your output function is now a probability over the value of pixel $x_{t+1}$ -- which can be either $0$ or $1$ (black or white).\n",
        "\\begin{equation}\n",
        "    \\hat{p}(x_{t+1}|x_{1:t}) = g(x_{t}, h_{t}, c_{t})\n",
        "\\end{equation}\n",
        "Once we get to observe the actual value of $x_{t+1}$ at the next time-step, we can compute the cross-entropy between our predicted probability $\\hat{p}(x_{t+1}|x_{1:t})$ and the observed value (pixel in the image). We can (and will) do that for every time-step prediction within a sequence. This will provide us with the training signal for optimizing the parameters of the mapping $g$ and the recurrent connections -- remember these are shared!, they do not change with $t$.\n",
        "\n",
        "\n",
        "\n"
      ]
    },
    {
      "metadata": {
        "id": "cqrTk9bLYTpp",
        "colab_type": "text"
      },
      "cell_type": "markdown",
      "source": [
        "### Optimization\n",
        "Use the Adam optimizer (with default settings other than the learning rate) for training.\n",
        "\n",
        "**[Optional]** Sometimes dropout has been shown to be beneficial in training recurrent models, so feel free to use it or any other form of regularization that seems to improve performance. It might be also worth trying out batch-normalization. [Reference](https://arxiv.org/pdf/1603.09025.pdf).\n",
        "\n",
        "### Models: Your models will have the following structure:\n",
        "1. [(Red Block)] The *input* (current binarised row of pixels) can be fed directly into the recurrent connection without  much further pre-processing.\n",
        "2. [(Blue Block)] The *output* (probabilities over the activation of the pixel) is produced by looking at the last output of the recurrent units, transforming them via an affine transformation.\n",
        "3. [(Green Block)] For the *recurrent* part of the network, please implement and compare the following architectures:\n",
        "    * LSTM with 32 units. **[15 pts]**\n",
        "    \n",
        "    **OR**\n",
        "    \n",
        "    * GRU with 32 units. **[15 pts]**\n",
        "\n",
        "Your network should look like:\n",
        "\\begin{equation}\n",
        "\\textrm{Input} \\Rightarrow \\textrm{RNN cell} \\Rightarrow \\textrm{Relu} \\Rightarrow \\textrm{Fully connected} \\Rightarrow \\textrm{Relu} \\Rightarrow \\textrm{Fully connected} \\Rightarrow \\textrm{Output}\n",
        "\\end{equation}\n",
        "You might find the function `tf.nn.dynamic_rnn` useful.\n",
        "\n",
        "### Hyper-parameters \n",
        "For all cases train the model with these hyper-parameter settings:\n",
        "\n",
        "- *num_epochs*=5, *learning_rate*=0.001, *batch_size*=256, *fully_connected_hidden_units=64*\n",
        "\n",
        "With these hyper-parameters you should give you a good perfomance on both GRUs/LSTMs. It is worth noting that in $5$ epochs the model has yet converged, but in the interest of time (the training should have $\\approx$ 1h). That being said, feel free to try other settings, there are certainly better choices, but please report the results with these exact hyper-parameters and/or train for longer -- the models should still improve (convergence is achieved around 25-30 epochs). \n",
        "\n",
        "### Tasks:\n",
        "\n",
        "1) Implement and train the previously described model (choose either GRU **or** LSTM). Please report the *cross-entropy* on the *test set* and *training set* of the models trained. Use the `plot_summary_table` method below to format the table. Provide the learning curves (both training and testing loss) -- choose appropiate reporting interval here (at least 20 points).\n",
        "\n",
        "2) Using the previously trained model, visualize the 1-step predictions, 10-step predictions, one row prediction (28 steps) and filling out the image (fill out all the pixels using the recurrent model). \n",
        "\n",
        "*   **Generate a small in-painting dataset.** Sample $100$ images from your test set. Mask/Remove the last $300$ pixels (roughly 10 rows and a half).\n",
        "\n",
        "*   **Predict missing parts and compare with GT**. Given the above generated partial sequences as input to your train models, generate the continuation of these masked images (for the next 1, 10, 28, 300 pixels).\n",
        "Report the cross-entropy of your in-paintings for the trained model at beginning of training(0 epochs), after 1 epoch and at the end of training. Discuss the results: contrasting long/short time prediction; compare these with the cross-entropy of the ground truth images. For multiple steps in-paintings, average the loss over $10$ samples. **[10 pts]**\n",
        "\n",
        "*   **Visualize completing the image**. Pick out $3$ examples from your in-painting dataset to visualize  the resulting images -- this can be done at random, but should include *a successful example, failure example and one that displays high variance between samples.* For each example picked, please provide $5$ samples for the last three scenarios (10, 28, 300 pixels) and $1$ for the 1-pixel prediction -- total 16 samples/exampls. The samples should be generated recursively by sampling the generative process provided by the trained recurrent connections. Total number of in-painting to report: 16 samples x 3 examples = 48 **[10 pts]**\n",
        "\n"
      ]
    },
    {
      "metadata": {
        "id": "_xkdbD4mcfLk",
        "colab_type": "text"
      },
      "cell_type": "markdown",
      "source": [
        "## Task 2: Using pixel-to-pixel: In-painting task (25 pts)\n",
        "\n",
        "Using the models trained in the previous section, please in-paint the missing pixels in the following datasets:\n",
        "* [One-pixel missing](https://github.com/dianaborsa/compgi22_dl_cw4/blob/master/one_pixel_inpainting.npy)\n",
        "* [Window of 2x2 pixels missing](https://github.com/dianaborsa/compgi22_dl_cw4/blob/master/2X2_pixels_inpainting.npy)\n",
        "\n",
        "This is similar to Task 1.b, but now you have information not only about the past(previous pixels in the image) but also future (pixels that come after your predictive target)\n",
        "\n",
        "### Results\n",
        "1) Provide the formula used to compute the probability over the missing pixel and respectively for the missing patch **[5+5 pts]**\n",
        "\n",
        "2) Visualize the most probable in-painting, according to your model. How does this compare to the ground truth? (Compare cross-entropy between your most probable sample and the ground truth). Explain the difference. It is enough to include just one example per task/dataset. **[10 pts]**\n"
      ]
    },
    {
      "metadata": {
        "id": "72eL--uyop0z",
        "colab_type": "text"
      },
      "cell_type": "markdown",
      "source": [
        "### In-painting data \n",
        "\n",
        "We provide two datasets (one corresponing to the one-pixel in-painting tasks and the other one with a 2x2 patch missing). The datasets are available on [git](https://github.com/dianaborsa/compgi22_dl_cw4/blob/master/). Links are available in the description and code is provide below to load the dataset and visualize. Both datasets have 1000 sampled images from MNIST(test). Both dataset sets have the same simple structure: cropped images and their ground truth (GT). in this second task, you will consider the copped images and use your pixel-to-pixel model, try to predict the missing pixel/patches.\n"
      ]
    },
    {
      "metadata": {
        "id": "0wg-OYIMm8cW",
        "colab_type": "text"
      },
      "cell_type": "markdown",
      "source": [
        "# Imports and utility functions (do not modify!)"
      ]
    },
    {
      "metadata": {
        "id": "rPYnfzQfltxp",
        "colab_type": "code",
        "colab": {},
        "cellView": "code"
      },
      "cell_type": "code",
      "source": [
        "#@title Import libraries\n",
        "#@test {\"output\": \"ignore\"}\n",
        "\n",
        "# Import useful libraries.\n",
        "import tensorflow as tf\n",
        "import matplotlib.pyplot as plt\n",
        "import numpy as np\n",
        "from tensorflow.examples.tutorials.mnist import input_data\n",
        "import os\n",
        "from google.colab import files\n",
        "\n",
        "# Binarize the images\n",
        "def binarize(images, threshold=0.1):\n",
        "  return (threshold < images).astype('float32')\n",
        "\n",
        "# Import dataset with one-hot encoding of the class labels.\n",
        "def get_data():\n",
        "  return input_data.read_data_sets(\"MNIST_data/\", one_hot=True)\n",
        "\n",
        "# Placeholders to feed train and test data into the graph.\n",
        "# Since batch dimension is 'None', we can reuse them both for train and eval.\n",
        "def get_placeholders():\n",
        "  x = tf.placeholder(tf.float32, [None, 783])\n",
        "  y = tf.placeholder(tf.float32, [None, 783])\n",
        "  return x, y\n",
        "\n",
        "# Generate summary table of results. This function expects a dict with the\n",
        "# following structure: keys of 'LSTM' (or 'GRU') and the values for each key are a\n",
        "# list of tuples consisting of (test_loss, test_accuracy), and the list is\n",
        "# ordered as the results from 0 epoch (beginning of training), 1 epoch, 5 epochs (or end of training):\n",
        "# {\n",
        "#  'LSTM': [(loss,acc), (loss, acc), (loss, acc)]\n",
        "# }\n",
        "def plot_summary_table(experiment_results):\n",
        "  # Fill Data.\n",
        "  cell_text = []\n",
        "  columns = ['(Beginning - 0 epochs)', '(Mid-training - 1 epoch)', '(End of training - 5 epochs)']\n",
        "  for k, v in experiment_results.iteritems():\n",
        "    rows = ['Test loss', 'Test accuracy']\n",
        "    cell_text=[[],[]]\n",
        "    for (l, _) in v:\n",
        "      cell_text[0].append(str(l))\n",
        "    for (_, a) in v:\n",
        "      cell_text[1].append(str(a))\n",
        "\n",
        "    fig=plt.figure(frameon=False)\n",
        "    ax = plt.gca()\n",
        "    the_table = ax.table(\n",
        "      cellText=cell_text,\n",
        "      rowLabels=rows,\n",
        "      colLabels=columns,\n",
        "      loc='center')\n",
        "    the_table.scale(2, 8)\n",
        "    # Prettify.\n",
        "    ax.patch.set_facecolor('None')\n",
        "    ax.xaxis.set_visible(False)\n",
        "    ax.yaxis.set_visible(False)\n",
        "    ax.text(-0.73, 0.9, k, fontsize=18)\n",
        "    \n",
        "    \n",
        "    \n",
        "def plot_learning_curves(training_loss, testing_loss):\n",
        "  plt.figure()\n",
        "  plt.plot(training_loss)\n",
        "  plt.plot(testing_loss, 'g')\n",
        "  plt.legend(['Training loss', 'Testing loss'])\n",
        "   "
      ],
      "execution_count": 0,
      "outputs": []
    },
    {
      "metadata": {
        "id": "y4RzisaFntQG",
        "colab_type": "code",
        "colab": {}
      },
      "cell_type": "code",
      "source": [
        ""
      ],
      "execution_count": 0,
      "outputs": []
    },
    {
      "metadata": {
        "id": "xm9jZeiYphO8",
        "colab_type": "text"
      },
      "cell_type": "markdown",
      "source": [
        "# Train Models\n",
        "\n",
        "Generate summary table of results. This function expects a dict with the\n",
        "following structure: keys of 'LSTM' (or 'GRU') and the values for each key are a\n",
        "list of tuples consisting of (test_loss, test_accuracy), and the list is\n",
        "ordered as the results from 0 epoch (beginning of training), 1 epoch, 5 epochs (or end of training) i.e. expected dictionary (final performace only):\n",
        "\n",
        "```python\n",
        "{\n",
        "  'LSTM': [(loss,acc), (loss, acc), (loss, acc)]\n",
        "}\n",
        "```"
      ]
    },
    {
      "metadata": {
        "id": "vLHuJ7Ncq7Jm",
        "colab_type": "code",
        "colab": {
          "base_uri": "https://localhost:8080/",
          "height": 54
        },
        "cellView": "both",
        "outputId": "089a6d59-8c05-4fcd-8e0f-22cb2a74607d"
      },
      "cell_type": "code",
      "source": [
        "#@title Your models\n",
        "experiment_results = {}\n",
        "num_epochs=5\n",
        "learning_rate=0.001\n",
        "batch_size=256\n",
        "#fully_connected_hidden_units=64\n",
        "\n",
        "def LSTMRnn(x): #x:[-1,783]\n",
        "  \n",
        "  hidden_units = 64\n",
        "  time_step = 783 #783\n",
        "  n_input = 1\n",
        "  lstm_size = 32\n",
        "  batch_size=256\n",
        "  \n",
        "  initializer = tf.contrib.layers.xavier_initializer()\n",
        "  fc1_w = tf.Variable(initializer([lstm_size,hidden_units]))\n",
        "  fc1_b = tf.Variable(initializer([hidden_units]))\n",
        "  fc2_w = tf.Variable(initializer([hidden_units,n_input]))\n",
        "  fc2_b = tf.Variable(initializer([n_input]))\n",
        "  \n",
        "  x_ = tf.reshape(x,(-1,time_step,n_input))\n",
        "  lstmcell = tf.contrib.rnn.BasicLSTMCell(lstm_size,forget_bias=1.0)\n",
        "  #output:[batchsize,time_step,lstmsize]--[n,783,32]\n",
        "  rnn_op,_ = tf.nn.dynamic_rnn(lstmcell,x_,dtype=tf.float32,time_major=False)\n",
        "  rnn_op = tf.reshape(rnn_op,(-1,lstm_size))\n",
        "  relu_op = tf.nn.relu(rnn_op) #[batch*783,lstmsize]\n",
        "  fc1_op = tf.nn.relu(tf.matmul(relu_op,fc1_w)+fc1_b)#[batch*783,hidden_units]\n",
        "  fc2_op = tf.matmul(fc1_op,fc2_w)+fc2_b#[batch*783,1]\n",
        "  y = tf.reshape(fc2_op,[-1,783])\n",
        " \n",
        "  return y\n",
        "    \n",
        "'''\n",
        "# Advisable to you GPU for this part\n",
        "with tf.device('/device:GPU:*'):\n",
        "\n",
        "  tf.reset_default_graph()\n",
        "  \n",
        "  \n",
        "  # your model here....  \n",
        "  x, y_ = get_placeholders()\n",
        "  mnist = get_data()\n",
        "  eval_mnist = get_data()\n",
        "  \n",
        "  y = LSTMRnn(x)\n",
        "  loss = tf.reduce_mean(tf.nn.sigmoid_cross_entropy_with_logits(labels=y_,logits=y))\n",
        "  opt = tf.train.AdamOptimizer(learning_rate=learning_rate).minimize(loss)\n",
        "  correct = tf.equal(tf.argmax(y,1),tf.argmax(y_,1))\n",
        "  accuracy = tf.reduce_mean(tf.cast(correct,tf.float32))\n",
        "  \n",
        "'''  "
      ],
      "execution_count": 0,
      "outputs": [
        {
          "output_type": "execute_result",
          "data": {
            "text/plain": [
              "\"\\n# Advisable to you GPU for this part\\nwith tf.device('/device:GPU:*'):\\n\\n  tf.reset_default_graph()\\n  \\n  \\n  # your model here....  \\n  x, y_ = get_placeholders()\\n  mnist = get_data()\\n  eval_mnist = get_data()\\n  \\n  y = LSTMRnn(x)\\n  loss = tf.reduce_mean(tf.nn.sigmoid_cross_entropy_with_logits(labels=y_,logits=y))\\n  opt = tf.train.AdamOptimizer(learning_rate=learning_rate).minimize(loss)\\n  correct = tf.equal(tf.argmax(y,1),tf.argmax(y_,1))\\n  accuracy = tf.reduce_mean(tf.cast(correct,tf.float32))\\n  \\n\""
            ]
          },
          "metadata": {
            "tags": []
          },
          "execution_count": 5
        }
      ]
    },
    {
      "metadata": {
        "id": "MDSEh0VujBHe",
        "colab_type": "code",
        "colab": {
          "base_uri": "https://localhost:8080/",
          "height": 649
        },
        "cellView": "both",
        "outputId": "53c4461a-0aac-4fd3-89b4-35aa10b3a0bf"
      },
      "cell_type": "code",
      "source": [
        "#@title Training\n",
        "#@test {\"output\": \"ignore\"}\n",
        "\n",
        "experiment_results = {}\n",
        "num_epochs=5\n",
        "learning_rate=0.001\n",
        "batch_size=256\n",
        "#fully_connected_hidden_units=64\n",
        "\n",
        "experiment_results['LSTM'] = []\n",
        "test_loss = []\n",
        "train_loss = []\n",
        "\n",
        "\n",
        "\n",
        "# Advisable to you GPU for this part\n",
        "with tf.device('/device:GPU:*'):\n",
        "\n",
        "  tf.reset_default_graph()\n",
        "  \n",
        "  \n",
        "  # your model here....  \n",
        "  x, y_ = get_placeholders()\n",
        "  mnist = get_data()\n",
        "  eval_mnist = get_data()\n",
        "  \n",
        "  y = LSTMRnn(x)\n",
        "  #y[-1,783,1]\n",
        "  loss = tf.reduce_mean(tf.nn.sigmoid_cross_entropy_with_logits(labels=y_,logits=y))\n",
        "  #loss = -tf.reduce_mean(y_*tf.log(y))\n",
        "  opt = tf.train.AdamOptimizer(learning_rate=learning_rate).minimize(loss)\n",
        "  y_sig = tf.sigmoid(y)\n",
        "  correct = tf.equal(tf.to_float(y_sig>0.5),y_)\n",
        "  accuracy = tf.reduce_mean(tf.cast(correct,tf.float32))\n",
        "\n",
        "  i = 0\n",
        "  train_size = len(mnist.train.images)\n",
        "  batch_step = train_size/batch_size\n",
        "  test_xs = binarize(eval_mnist.test.images)\n",
        "  te_x = test_xs[:,:783]\n",
        "  te_y = test_xs[:,-783:]\n",
        "  train_xs = binarize(mnist.train.images)\n",
        "  tr_x = train_xs[:,:783]\n",
        "  tr_y = train_xs[:,-783:]\n",
        "  index = np.random.randint(0,train_size,size=10000)\n",
        "  saver = tf.train.Saver()\n",
        "  \n",
        "  init = tf.global_variables_initializer()\n",
        "    \n",
        "      \n",
        "  with tf.Session() as sess:    \n",
        "      #with tf.train.MonitoredSession() as sess:  \n",
        "      sess.run(init)\n",
        "      while mnist.train.epochs_completed < num_epochs:        \n",
        "        c = mnist.train.epochs_completed        \n",
        "        batch_xs,batch_ys = mnist.train.next_batch(batch_size)   \n",
        "        batch_xs = binarize(batch_xs)        \n",
        "        sess.run(opt,feed_dict={x:batch_xs[:,:783],y_:batch_xs[:,-783:]})\n",
        "        i += 1        \n",
        "        if i%50==0:\n",
        "          print('epoch:'+str(c)+'--'+str(i))             \n",
        "          tr_xs = tr_x[index,:]\n",
        "          tr_ys = tr_y[index,:]\n",
        "          test_loss.append(sess.run(loss,feed_dict={x:te_x,y_:te_y}))         \n",
        "          train_loss.append(sess.run(loss,feed_dict={x:tr_xs,y_:tr_ys}))      \n",
        "        if i%batch_step==0:\n",
        "          print('epoch:'+str(c)+'done!')\n",
        "          if c==0 or c==1 or c==4: \n",
        "            ckpt_path = 'model/task-e'+str(c)+'.ckpt'\n",
        "            save_path = saver.save(sess, ckpt_path)\n",
        "            t_loss = sess.run(loss,feed_dict={x:te_x,y_:te_y})\n",
        "            test_accuracy = sess.run(accuracy,feed_dict={x:te_x,y_:te_y})  \n",
        "            experiment_results['LSTM'].append((t_loss,test_accuracy))\n",
        "      #save_path = saver.save(sess, ckpt_path)\n",
        "      print( os.getcwd() )\n",
        "      print( os.listdir('model') )\n",
        "      #files.download( \"model/task1.ckpt.meta\" ) \n",
        " \n",
        "\n",
        "\n",
        "  \n",
        "  \n",
        "  \n",
        "  \n",
        "\n"
      ],
      "execution_count": 0,
      "outputs": [
        {
          "output_type": "stream",
          "text": [
            "Extracting MNIST_data/train-images-idx3-ubyte.gz\n",
            "Extracting MNIST_data/train-labels-idx1-ubyte.gz\n",
            "Extracting MNIST_data/t10k-images-idx3-ubyte.gz\n",
            "Extracting MNIST_data/t10k-labels-idx1-ubyte.gz\n",
            "Extracting MNIST_data/train-images-idx3-ubyte.gz\n",
            "Extracting MNIST_data/train-labels-idx1-ubyte.gz\n",
            "Extracting MNIST_data/t10k-images-idx3-ubyte.gz\n",
            "Extracting MNIST_data/t10k-labels-idx1-ubyte.gz\n",
            "epoch:0--50\n",
            "epoch:0--100\n",
            "epoch:0--150\n",
            "epoch:0--200\n",
            "epoch:0done!\n",
            "epoch:1--250\n",
            "epoch:1--300\n",
            "epoch:1--350\n",
            "epoch:1--400\n",
            "epoch:1done!\n",
            "epoch:2--450\n",
            "epoch:2--500\n",
            "epoch:2--550\n",
            "epoch:2--600\n",
            "epoch:2done!\n",
            "epoch:3--650\n",
            "epoch:3--700\n",
            "epoch:3--750\n",
            "epoch:3--800\n",
            "epoch:3--850\n",
            "epoch:3done!\n",
            "epoch:4--900\n",
            "epoch:4--950\n",
            "epoch:4--1000\n",
            "epoch:4--1050\n",
            "epoch:4done!\n",
            "/content\n",
            "['task-e4.ckpt.meta', 'task-e0.ckpt.index', 'task-e1.ckpt.meta', 'task-e4.ckpt.data-00000-of-00001', 'task-e0.ckpt.data-00000-of-00001', 'task-e1.ckpt.index', 'task-e0.ckpt.meta', 'checkpoint', 'task-e4.ckpt.index', 'task-e1.ckpt.data-00000-of-00001']\n"
          ],
          "name": "stdout"
        }
      ]
    },
    {
      "metadata": {
        "id": "SQSrWQzzDSXQ",
        "colab_type": "code",
        "colab": {
          "base_uri": "https://localhost:8080/",
          "height": 34
        },
        "outputId": "df2d681e-a070-46af-9653-026d0b95e5bb"
      },
      "cell_type": "code",
      "source": [
        "#files.download( \"model/task1.ckpt.meta\" ) \n",
        "#files.upload('')"
      ],
      "execution_count": 0,
      "outputs": [
        {
          "output_type": "execute_result",
          "data": {
            "text/plain": [
              "{'LSTM': []}"
            ]
          },
          "metadata": {
            "tags": []
          },
          "execution_count": 57
        }
      ]
    },
    {
      "metadata": {
        "id": "hr-L9cZl37ek",
        "colab_type": "text"
      },
      "cell_type": "markdown",
      "source": [
        "#Results"
      ]
    },
    {
      "metadata": {
        "id": "CtDksStF35Vb",
        "colab_type": "code",
        "colab": {
          "base_uri": "https://localhost:8080/",
          "height": 330
        },
        "outputId": "25f8b175-7b88-4130-8d17-775f54c54cea"
      },
      "cell_type": "code",
      "source": [
        "plot_summary_table(experiment_results)\n"
      ],
      "execution_count": 0,
      "outputs": [
        {
          "output_type": "display_data",
          "data": {
            "image/png": "[encoded data removed]",
            "text/plain": [
              "<matplotlib.figure.Figure at 0x7f14de2b6690>"
            ]
          },
          "metadata": {
            "tags": []
          }
        }
      ]
    },
    {
      "metadata": {
        "id": "2M0YQJRblGP6",
        "colab_type": "code",
        "colab": {
          "base_uri": "https://localhost:8080/",
          "height": 347
        },
        "outputId": "71e6b423-59b2-4339-8a90-ac1b5e2b8da4"
      },
      "cell_type": "code",
      "source": [
        "plot_learning_curves(train_loss, test_loss)"
      ],
      "execution_count": 0,
      "outputs": [
        {
          "output_type": "display_data",
          "data": {
            "image/png": "[encoded data removed]",
            "text/plain": [
              "<matplotlib.figure.Figure at 0x7f14dde22f10>"
            ]
          },
          "metadata": {
            "tags": []
          }
        }
      ]
    },
    {
      "metadata": {
        "id": "F_rFe-_etVol",
        "colab_type": "code",
        "colab": {}
      },
      "cell_type": "code",
      "source": [
        "#plt.plot(train_loss)"
      ],
      "execution_count": 0,
      "outputs": []
    },
    {
      "metadata": {
        "id": "BKNhs1sHoVZh",
        "colab_type": "text"
      },
      "cell_type": "markdown",
      "source": [
        "# Pixel prediction"
      ]
    },
    {
      "metadata": {
        "id": "KPI6CZ35sFzt",
        "colab_type": "text"
      },
      "cell_type": "markdown",
      "source": [
        "### Generate a small in-painting dataset.\n",
        "Sample $100$ images from your test set. Mask/Remove the last $300$ pixels (roughly 10 rows and a half)."
      ]
    },
    {
      "metadata": {
        "id": "tjNLq2JjsNEd",
        "colab_type": "code",
        "colab": {}
      },
      "cell_type": "code",
      "source": [
        "#Sample 100 images + mask \n",
        "#eval_mnist = get_data()  \n",
        "test_data = eval_mnist.test.images\n",
        "length = test_data.shape[0]\n",
        "index = np.random.randint(0,length,size=100)\n",
        "samples = test_data[index,:]\n",
        "samples = binarize(samples)\n",
        "samples_y_ = samples[:,-783:]\n",
        "samples_mask = np.copy(samples)\n",
        "samples_mask[:,-300:] = samples_mask[:,-300:]*0.\n"
      ],
      "execution_count": 0,
      "outputs": []
    },
    {
      "metadata": {
        "id": "8yO15xCYsONg",
        "colab_type": "text"
      },
      "cell_type": "markdown",
      "source": [
        "### Predict missing parts and compare with the ground truth. \n",
        "Given the above generated partial sequences as input to your train models, generate the continuation of these masked images (for the next 1, 10, 28, 300 pixels)."
      ]
    },
    {
      "metadata": {
        "id": "vTgoUCyBsNok",
        "colab_type": "code",
        "colab": {
          "base_uri": "https://localhost:8080/",
          "height": 68
        },
        "cellView": "both",
        "outputId": "6073feff-b901-4c8f-8650-6e08619e3153"
      },
      "cell_type": "code",
      "source": [
        "#Use the model for predictions and compare log likelihood\n",
        "#@title \n",
        "#@test {\"output\": \"ignore\"}\n",
        "\n",
        "experiment_results = {}\n",
        "num_epochs=5\n",
        "learning_rate=0.001\n",
        "batch_size=256\n",
        "#fully_connected_hidden_units=64\n",
        "\n",
        "experiment_results['LSTM'] = []\n",
        "test_loss = []\n",
        "train_loss = []\n",
        "\n",
        "def generatesample(p):\n",
        "  value = [0,1]\n",
        "  samples = []\n",
        "  for i in range(len(p)):\n",
        "    samples.append(np.random.choice(value,p=[(1-p[i]),p[i]]))\n",
        "  return samples\n",
        "\n",
        "# Advisable to you GPU for this part\n",
        "with tf.device('/device:GPU:*'):\n",
        "\n",
        "  tf.reset_default_graph()\n",
        "  \n",
        "  \n",
        "  # your model here....  \n",
        "  x, y_ = get_placeholders()\n",
        "  #mnist = get_data()\n",
        "  #eval_mnist = get_data()\n",
        "  \n",
        "  y = LSTMRnn(x)\n",
        "  \n",
        "  loss = tf.reduce_mean(tf.nn.sigmoid_cross_entropy_with_logits(labels=y_,logits=y))\n",
        "  #loss = -tf.reduce_mean(y_*tf.log(y))\n",
        "  opt = tf.train.AdamOptimizer(learning_rate=learning_rate).minimize(loss)\n",
        "  y_sig = tf.sigmoid(y)\n",
        "  correct = tf.equal(tf.to_float(y_sig>0.5),y_)\n",
        "  accuracy = tf.reduce_mean(tf.cast(correct,tf.float32))\n",
        "\n",
        "\n",
        "  #train_size = len(mnist.train.images)\n",
        "  #test_xs = binarize(eval_mnist.test.images)\n",
        "  #te_x = test_xs[:,:783]\n",
        "  #te_y = test_xs[:,-783:]\n",
        "  #train_xs = binarize(mnist.train.images)\n",
        "  #tr_x = train_xs[:,:783]\n",
        "  #tr_y = train_xs[:,-783:]\n",
        "  #index = np.random.randint(0,train_size,size=10000)\n",
        "\n",
        "  '''\n",
        "  with tf.Session() as sess4:    \n",
        "      #with tf.train.MonitoredSession() as sess: \n",
        "      saver = tf.train.Saver()\n",
        "      ckpt_path = './model/task-e4.ckpt'\n",
        "      saver.restore(sess4, ckpt_path)\n",
        "      y_samtest1 = sess4.run(y,feed_dict={x:sam_test})\n",
        "  '''\n",
        "    \n",
        "  with tf.Session() as sess0:    \n",
        "      #with tf.train.MonitoredSession() as sess: \n",
        "      saver = tf.train.Saver()\n",
        "      ckpt_path = './model/task-e0.ckpt'\n",
        "      saver.restore(sess0, ckpt_path)\n",
        "      samples_x0 = np.copy(samples_mask[:,:783])\n",
        "      for i in range(300):\n",
        "        samples_y0 = sess0.run(y_sig,feed_dict={x:samples_x0})\n",
        "        update_index = -300+i\n",
        "        p = samples_y0[:,update_index]\n",
        "        updatepixel = generatesample(p)\n",
        "        samples_x0[:,update_index+1] = updatepixel\n",
        "      #samples_y0 = sess0.run(y,feed_dict={x:samples_x0})\n",
        "      loss0 = sess0.run(loss,feed_dict={y_:samples_y_,y:samples_y0})\n",
        "      \n",
        "  with tf.Session() as sess1:    \n",
        "      #with tf.train.MonitoredSession() as sess:  \n",
        "      saver = tf.train.Saver()\n",
        "      ckpt_path = './model/task-e1.ckpt'\n",
        "      saver.restore(sess1, ckpt_path)\n",
        "      samples_x1 = np.copy(samples_mask[:,:783])\n",
        "      for i in range(300):\n",
        "        samples_y1 = sess1.run(y_sig,feed_dict={x:samples_x1})\n",
        "        update_index = -300+i\n",
        "        p = samples_y1[:,update_index]\n",
        "        updatepixel = generatesample(p)\n",
        "        samples_x1[:,update_index+1] = updatepixel\n",
        "      #samples_y1 = sess1.run(y,feed_dict={x:samples_x1})\n",
        "      loss1 = sess1.run(loss,feed_dict={y_:samples_y_,y:samples_y1})\n",
        "    \n",
        "  with tf.Session() as sess4:    \n",
        "      #with tf.train.MonitoredSession() as sess:  \n",
        "      saver = tf.train.Saver()\n",
        "      ckpt_path = './model/task-e4.ckpt'\n",
        "      saver.restore(sess4, ckpt_path)\n",
        "      samples_x4 = np.copy(samples_mask[:,:783])\n",
        "      for i in range(300):\n",
        "        samples_y4 = sess4.run(y_sig,feed_dict={x:samples_x4})\n",
        "        update_index = -300+i\n",
        "        p = samples_y4[:,update_index]\n",
        "        updatepixel = generatesample(p)\n",
        "        samples_x4[:,update_index+1] = updatepixel\n",
        "      #samples_y4 = sess4.run(y,feed_dict={x:samples_x4})\n",
        "      loss4 = sess4.run(loss,feed_dict={y_:samples_y_,y:samples_y4})\n",
        "   \n",
        "  "
      ],
      "execution_count": 0,
      "outputs": [
        {
          "output_type": "stream",
          "text": [
            "INFO:tensorflow:Restoring parameters from ./model/task-e0.ckpt\n",
            "INFO:tensorflow:Restoring parameters from ./model/task-e1.ckpt\n",
            "INFO:tensorflow:Restoring parameters from ./model/task-e4.ckpt\n"
          ],
          "name": "stdout"
        }
      ]
    },
    {
      "metadata": {
        "id": "lHj7MfAgIFPo",
        "colab_type": "code",
        "colab": {}
      },
      "cell_type": "code",
      "source": [
        "#ten samples\n",
        "\n",
        "#calc cross entropy\n",
        "\n",
        "def sampleset(p):\n",
        "  l1,l2 = p.shape #100,300\n",
        "  samples = np.zeros((10,l1,l2))\n",
        "  for i in range(10):\n",
        "    for j in range(l1):\n",
        "      pp = p[j,:]\n",
        "      s = generatesample(pp)\n",
        "      samples[i,j,:] = s\n",
        "  return samples\n",
        "\n",
        "\n",
        "y = tf.placeholder(tf.float32, [None, None])\n",
        "y_ = tf.placeholder(tf.float32, [None, None])\n",
        "\n",
        "\n",
        "#epoch0\n",
        "#p: samples_y0 [100,783]\n",
        "#300 pixels [10,100,300]\n",
        "p_e0_300 = np.copy(samples_y0[:,-300:])\n",
        "#p_e0_300_sig = tf.sigmoid(p_e0_300)\n",
        "#10,100,300\n",
        "\n",
        "p_e1_300 = np.copy(samples_y1[:,-300:])\n",
        "#p_e1_300_sig = tf.sigmoid(p_e1_300)\n",
        "                  \n",
        "\n",
        "p_e4_300 = np.copy(samples_y4[:,-300:])\n",
        "#p_e4_300_sig = tf.sigmoid(p_e4_300)\n",
        "\n",
        "\n",
        "\n",
        "loss = tf.reduce_mean(tf.nn.sigmoid_cross_entropy_with_logits(labels=y_,logits=y))\n",
        "loss0 = np.zeros((10,4))\n",
        "loss1 = np.zeros((10,4))\n",
        "loss4 = np.zeros((10,4))\n",
        "with tf.Session() as sess: \n",
        "  \n",
        "   \n",
        "  #p_e0_300_sig = sess.run(p_e0_300_sig)\n",
        "  #p_e1_300_sig = sess.run(p_e1_300_sig)\n",
        "  #p_e4_300_sig = sess.run(p_e4_300_sig)\n",
        "  samples_e0_300 = sampleset(p_e0_300) #get 10,100,300 samples\n",
        "  samples_e1_300 = sampleset(p_e1_300)\n",
        "  samples_e4_300 = sampleset(p_e4_300) \n",
        "  \n",
        "  for j in range(10):\n",
        "    for i in range(4):\n",
        "      ind = [1,10,28,300][i]\n",
        "      img0 = np.copy(samples_mask)\n",
        "      img_ = np.copy(samples)\n",
        "      \n",
        "      img0[:,484:ind+484] = samples_e0_300[j,:,:ind]\n",
        "      loss0[j,i] = sess.run(loss,feed_dict={y_:img_[:,484:ind+484],y:img0[:,484:ind+484]})\n",
        "      #loss0[j,i] = sess.run(loss,feed_dict={y_:img_,y:img0})\n",
        "      img1 = np.copy(samples_mask)\n",
        "      img1[:,484:ind+484] = samples_e1_300[j,:,:ind]\n",
        "      loss1[j,i] = sess.run(loss,feed_dict={y_:img_[:,484:ind+484],y:img1[:,484:ind+484]})\n",
        "      #loss1[j,i] = sess.run(loss,feed_dict={y_:img_,y:img1}) #samples_mask--img_\n",
        "      img4 = np.copy(samples_mask)\n",
        "      img4[:,484:ind+484] = samples_e4_300[j,:,:ind]\n",
        "      loss4[j,i] = sess.run(loss,feed_dict={y_:img_[:,484:ind+484],y:img4[:,484:ind+484]})\n",
        "      #loss4[j,i] = sess.run(loss,feed_dict={y_:img_,y:img4})\n",
        "      \n",
        "            \n",
        "\n"
      ],
      "execution_count": 0,
      "outputs": []
    },
    {
      "metadata": {
        "id": "zigJ6bJVA99H",
        "colab_type": "code",
        "colab": {
          "base_uri": "https://localhost:8080/",
          "height": 347
        },
        "outputId": "0afea01e-a370-471e-d618-9cc6f42383cb"
      },
      "cell_type": "code",
      "source": [
        "loss0_ = np.mean(loss0,axis=0)\n",
        "loss1_ = np.mean(loss1,axis=0)\n",
        "loss4_ = np.mean(loss4,axis=0)\n",
        "plt.plot(loss0_,'g')\n",
        "plt.plot(loss1_,'r')\n",
        "plt.plot(loss4_,'b')\n",
        "plt.legend(['loss-epoch0', 'loss-epoch1','loss-epoch4'])\n",
        "plt.show()\n",
        "#1,10,28,300"
      ],
      "execution_count": 0,
      "outputs": [
        {
          "output_type": "display_data",
          "data": {
            "image/png": "[encoded data removed]",
            "text/plain": [
              "<matplotlib.figure.Figure at 0x7f56407fdc50>"
            ]
          },
          "metadata": {
            "tags": []
          }
        }
      ]
    },
    {
      "metadata": {
        "id": "cro3_pp1Likj",
        "colab_type": "code",
        "colab": {
          "base_uri": "https://localhost:8080/",
          "height": 34
        },
        "outputId": "41355fd1-ce92-4331-9020-faaf0a94d9e8"
      },
      "cell_type": "code",
      "source": [
        "loss4_"
      ],
      "execution_count": 0,
      "outputs": [
        {
          "output_type": "execute_result",
          "data": {
            "text/plain": [
              "array([0.5934666 , 0.61887535, 0.6574011 , 0.72280255])"
            ]
          },
          "metadata": {
            "tags": []
          },
          "execution_count": 24
        }
      ]
    },
    {
      "metadata": {
        "id": "UIPRf0hLFpC_",
        "colab_type": "code",
        "colab": {}
      },
      "cell_type": "code",
      "source": [
        ""
      ],
      "execution_count": 0,
      "outputs": []
    },
    {
      "metadata": {
        "id": "Pw7aagcfM4IU",
        "colab_type": "code",
        "colab": {
          "base_uri": "https://localhost:8080/",
          "height": 362
        },
        "outputId": "ddf4fa2e-7be6-4023-e73d-ca0f16857d00"
      },
      "cell_type": "code",
      "source": [
        "#model e0,e1,e4\n",
        "num = 4\n",
        "img_mask = np.copy(samples_mask)\n",
        "img_GT = np.copy(samples)\n",
        "index = np.random.randint(0,100,size=4)\n",
        "index2 = np.random.randint(0,10,size=1)\n",
        "imgs_e0 = samples_e0_300[index2,index,:] #10,100,300 -- 1,4,300\n",
        "imgs_e1 = samples_e1_300[index2,index,:]\n",
        "imgs_e4 = samples_e4_300[index2,index,:]\n",
        "img_mask_show = img_mask[index,:]\n",
        "img_GT_show = img_GT[index,:]\n",
        "for i in range(num):\n",
        "  plt.subplot(num,5,i*5+1)\n",
        "  img = np.reshape(np.concatenate((img_mask_show[i,:-300], imgs_e0[i,:]), axis=0),(28,28))\n",
        "  plt.imshow(img)\n",
        "  plt.title('model e0')\n",
        "  plt.subplot(num,5,i*5+2)\n",
        "  img2 = np.reshape(np.concatenate((img_mask_show[i,:-300], imgs_e1[i,:]), axis=0),(28,28))\n",
        "  plt.imshow(img2)\n",
        "  plt.title('model e1')\n",
        "  plt.subplot(num,5,i*5+3)\n",
        "  img3 = np.reshape(np.concatenate((img_mask_show[i,:-300], imgs_e4[i,:]), axis=0),(28,28))\n",
        "  plt.imshow(img3)\n",
        "  plt.title('model e4')\n",
        "  plt.subplot(num,5,i*5+4)\n",
        "  img4 = np.reshape(img_mask_show[i,:],(28,28))\n",
        "  plt.imshow(img4)\n",
        "  plt.title('img_mask')\n",
        "  plt.subplot(num,5,i*5+5)\n",
        "  img5 = np.reshape(img_GT_show[i,:],(28,28))\n",
        "  plt.imshow(img5)\n",
        "  plt.title('img_GT')\n",
        "plt.show()\n",
        "\n",
        "    \n"
      ],
      "execution_count": 0,
      "outputs": [
        {
          "output_type": "display_data",
          "data": {
            "image/png": "[encoded data removed]",
            "text/plain": [
              "<matplotlib.figure.Figure at 0x7f56433bcf10>"
            ]
          },
          "metadata": {
            "tags": []
          }
        }
      ]
    },
    {
      "metadata": {
        "id": "ZqJaRZ4mRw4y",
        "colab_type": "code",
        "colab": {
          "base_uri": "https://localhost:8080/",
          "height": 34
        },
        "outputId": "3e78705c-ff0c-4865-f568-37f6bdc4baf3"
      },
      "cell_type": "code",
      "source": [
        "index"
      ],
      "execution_count": 0,
      "outputs": [
        {
          "output_type": "execute_result",
          "data": {
            "text/plain": [
              "array([15, 18, 35, 46])"
            ]
          },
          "metadata": {
            "tags": []
          },
          "execution_count": 37
        }
      ]
    },
    {
      "metadata": {
        "id": "FC06V0nJsbz8",
        "colab_type": "text"
      },
      "cell_type": "markdown",
      "source": [
        "### Visualize completing the image. \n",
        "Pick out $3$ examples from your in-painting dataset to visualize  the resulting images -- this can be done at random, but should include \\textit{a successful example, failure example and one that displays high variance between samples.}"
      ]
    },
    {
      "metadata": {
        "id": "4yf7jlPWsbZ8",
        "colab_type": "code",
        "colab": {
          "base_uri": "https://localhost:8080/",
          "height": 362
        },
        "outputId": "38dafd06-2c1b-430d-e7b0-ffc3304e3eb9"
      },
      "cell_type": "code",
      "source": [
        "#Visualize samples\n",
        "\n",
        "# successful example 63\n",
        "imgs_mask = np.copy(samples_mask)\n",
        "imgs_GT = np.copy(samples)\n",
        "#index = np.random.randint(0,100,size=1)\n",
        "index = 57#97\n",
        "index2 = np.random.randint(0,10,size=5)\n",
        "img_mask_sp = imgs_mask[index,:]\n",
        "imgs_GT_sp = imgs_GT[index,:]\n",
        "img_5sp = samples_e4_300[index2,index,:] #5,1,300\n",
        "for j in range(3):\n",
        "  for i in range(5):\n",
        "    pixels = [300,28,10][j]\n",
        "    img = np.copy(img_mask_sp)\n",
        "    img[484:484+pixels] = img_5sp[i,:pixels]\n",
        "    img = np.reshape(img,(28,28)) \n",
        "    plt.subplot(4,5,j*5+i+1)\n",
        "    plt.imshow(img)\n",
        "    plt.title('pixels-'+str(pixels))\n",
        "    \n",
        "img = np.copy(img_mask_sp)\n",
        "img[484:485] = img_5sp[0,0]\n",
        "img = np.reshape(img,(28,28)) \n",
        "plt.subplot(4,5,16)\n",
        "plt.imshow(img)\n",
        "plt.title('pixels-1')\n",
        "\n",
        "img = np.copy(img_mask_sp)\n",
        "img = np.reshape(img,(28,28)) \n",
        "plt.subplot(4,5,17)\n",
        "plt.imshow(img)\n",
        "plt.title('mask')\n",
        "\n",
        "img = np.copy(imgs_GT_sp)\n",
        "img = np.reshape(img,(28,28)) \n",
        "plt.subplot(4,5,18)\n",
        "plt.imshow(img)\n",
        "plt.title('GT')\n",
        "plt.show()\n",
        "\n"
      ],
      "execution_count": 0,
      "outputs": [
        {
          "output_type": "display_data",
          "data": {
            "image/png": "[encoded data removed]",
            "text/plain": [
              "<matplotlib.figure.Figure at 0x7f563f14d190>"
            ]
          },
          "metadata": {
            "tags": []
          }
        }
      ]
    },
    {
      "metadata": {
        "id": "Y0qEORBKWYhO",
        "colab_type": "code",
        "colab": {
          "base_uri": "https://localhost:8080/",
          "height": 362
        },
        "outputId": "d569d9a7-2ba1-43c0-af89-3c84214ee94d"
      },
      "cell_type": "code",
      "source": [
        "#failure example\n",
        "imgs_mask = np.copy(samples_mask)\n",
        "imgs_GT = np.copy(samples)\n",
        "#index = np.random.randint(0,100,size=1)\n",
        "index = 60\n",
        "index2 = np.random.randint(0,10,size=5)\n",
        "img_mask_sp = imgs_mask[index,:]\n",
        "imgs_GT_sp = imgs_GT[index,:]\n",
        "img_5sp = samples_e4_300[index2,index,:] #5,1,300\n",
        "for j in range(3):\n",
        "  for i in range(5):\n",
        "    pixels = [300,28,10][j]\n",
        "    img = np.copy(img_mask_sp)\n",
        "    img[484:484+pixels] = img_5sp[i,:pixels]\n",
        "    img = np.reshape(img,(28,28)) \n",
        "    plt.subplot(4,5,j*5+i+1)\n",
        "    plt.imshow(img)\n",
        "    plt.title('pixels-'+str(pixels))\n",
        "    \n",
        "img = np.copy(img_mask_sp)\n",
        "img[484:485] = img_5sp[0,0]\n",
        "img = np.reshape(img,(28,28)) \n",
        "plt.subplot(4,5,16)\n",
        "plt.imshow(img)\n",
        "plt.title('pixels-1')\n",
        "\n",
        "img = np.copy(img_mask_sp)\n",
        "img = np.reshape(img,(28,28)) \n",
        "plt.subplot(4,5,17)\n",
        "plt.imshow(img)\n",
        "plt.title('mask')\n",
        "\n",
        "img = np.copy(imgs_GT_sp)\n",
        "img = np.reshape(img,(28,28)) \n",
        "plt.subplot(4,5,18)\n",
        "plt.imshow(img)\n",
        "plt.title('GT')\n",
        "plt.show()\n"
      ],
      "execution_count": 0,
      "outputs": [
        {
          "output_type": "display_data",
          "data": {
            "image/png": "[encoded data removed]",
            "text/plain": [
              "<matplotlib.figure.Figure at 0x7f56406c6850>"
            ]
          },
          "metadata": {
            "tags": []
          }
        }
      ]
    },
    {
      "metadata": {
        "id": "ImW6f3MtWroE",
        "colab_type": "code",
        "colab": {
          "base_uri": "https://localhost:8080/",
          "height": 362
        },
        "outputId": "ba87a47f-4809-43d2-fce8-48d49ac82de8"
      },
      "cell_type": "code",
      "source": [
        "#one that displays high variance between samples\n",
        "imgs_mask = np.copy(samples_mask)\n",
        "imgs_GT = np.copy(samples)\n",
        "#index = np.random.randint(0,100,size=1)\n",
        "index = 15\n",
        "index2 = np.random.randint(0,10,size=5)\n",
        "img_mask_sp = imgs_mask[index,:]\n",
        "imgs_GT_sp = imgs_GT[index,:]\n",
        "img_5sp = samples_e4_300[index2,index,:] #5,1,300\n",
        "for j in range(3):\n",
        "  for i in range(5):\n",
        "    pixels = [300,28,10][j]\n",
        "    img = np.copy(img_mask_sp)\n",
        "    img[484:484+pixels] = img_5sp[i,:pixels]\n",
        "    img = np.reshape(img,(28,28)) \n",
        "    plt.subplot(4,5,j*5+i+1)\n",
        "    plt.imshow(img)\n",
        "    plt.title('pixels-'+str(pixels))\n",
        "    \n",
        "img = np.copy(img_mask_sp)\n",
        "img[484:485] = img_5sp[0,0]\n",
        "img = np.reshape(img,(28,28)) \n",
        "plt.subplot(4,5,16)\n",
        "plt.imshow(img)\n",
        "plt.title('pixels-1')\n",
        "\n",
        "img = np.copy(img_mask_sp)\n",
        "img = np.reshape(img,(28,28)) \n",
        "plt.subplot(4,5,17)\n",
        "plt.imshow(img)\n",
        "plt.title('mask')\n",
        "\n",
        "img = np.copy(imgs_GT_sp)\n",
        "img = np.reshape(img,(28,28)) \n",
        "plt.subplot(4,5,18)\n",
        "plt.imshow(img)\n",
        "plt.title('GT')\n",
        "plt.show()\n"
      ],
      "execution_count": 0,
      "outputs": [
        {
          "output_type": "display_data",
          "data": {
            "image/png": "[encoded data removed]",
            "text/plain": [
              "<matplotlib.figure.Figure at 0x7f563d8aaed0>"
            ]
          },
          "metadata": {
            "tags": []
          }
        }
      ]
    },
    {
      "metadata": {
        "id": "kuHRuG8nr1Ne",
        "colab_type": "text"
      },
      "cell_type": "markdown",
      "source": [
        "# In-painting Task"
      ]
    },
    {
      "metadata": {
        "id": "ZDPntgyZjPWO",
        "colab_type": "text"
      },
      "cell_type": "markdown",
      "source": [
        "### In-painting data \n",
        "\n",
        "We provide two datasets (one corresponing to the one-pixel in-painting tasks and the other one with a 2x2 patch missing). The datasets are available on [git](https://github.com/dianaborsa/compgi22_dl_cw4/blob/master/). Links are available in the description and code is provide below to load the dataset and visualize. Both datasets have 1000 sampled images from MNIST(test). Both dataset sets have the same simple structure: cropped images and their ground truth (GT). in this second task, you will consider the copped images and use your pixel-to-pixel model, try to predict the missing pixel/patches.\n"
      ]
    },
    {
      "metadata": {
        "id": "ur-UmPh9ce4N",
        "colab_type": "code",
        "colab": {
          "base_uri": "https://localhost:8080/",
          "height": 102
        },
        "outputId": "088b7c99-54ac-4255-c2db-cc42c336075f"
      },
      "cell_type": "code",
      "source": [
        "# Downloading the inpainting datasets\n",
        "!git clone https://github.com/dianaborsa/compgi22_dl_cw4.git"
      ],
      "execution_count": 0,
      "outputs": [
        {
          "output_type": "stream",
          "text": [
            "Cloning into 'compgi22_dl_cw4'...\n",
            "remote: Counting objects: 16, done.\u001b[K\n",
            "remote: Compressing objects: 100% (14/14), done.\u001b[K\n",
            "remote: Total 16 (delta 6), reused 3 (delta 0), pack-reused 0\u001b[K\n",
            "Unpacking objects: 100% (16/16), done.\n"
          ],
          "name": "stdout"
        }
      ]
    },
    {
      "metadata": {
        "id": "XD0JMYbqb9t_",
        "colab_type": "code",
        "colab": {}
      },
      "cell_type": "code",
      "source": [
        "# Load the dataset (2X2)\n",
        "dataset = np.load('compgi22_dl_cw4/2X2_pixels_inpainting.npy')"
      ],
      "execution_count": 0,
      "outputs": []
    },
    {
      "metadata": {
        "id": "ftjlfCA-cY2X",
        "colab_type": "code",
        "colab": {
          "base_uri": "https://localhost:8080/",
          "height": 781
        },
        "outputId": "917e24a5-c402-41d3-db52-1a34731366b2"
      },
      "cell_type": "code",
      "source": [
        "# checking loading\n",
        "images    = dataset[0]\n",
        "gt_images = dataset[1] \n",
        "\n",
        "nSamples, ndim = gt_images.shape\n",
        "print('Loaded dataset has {} samples: cropped + GT'.format(nSamples))\n",
        "\n",
        "# randomly visualize a few samples\n",
        "for SampleID in np.random.randint(nSamples,size=3):\n",
        "  plt.figure()\n",
        "  plt.subplot(1,2,1)\n",
        "  plt.imshow(np.reshape(gt_images[SampleID],(28,28)), interpolation='None',vmin=-1, vmax=1)\n",
        "  plt.title(\"GT image\")\n",
        "  plt.grid(False)\n",
        "  plt.axis('off')\n",
        "  plt.subplot(1,2,2)\n",
        "  plt.imshow(np.reshape(images[SampleID],(28,28)), interpolation='None',vmin=-1, vmax=1)\n",
        "  plt.title(\"Cropped image\")\n",
        "  plt.grid(False)\n",
        "  plt.axis('off')"
      ],
      "execution_count": 0,
      "outputs": [
        {
          "output_type": "stream",
          "text": [
            "Loaded dataset has 1000 samples: cropped + GT\n"
          ],
          "name": "stdout"
        },
        {
          "output_type": "display_data",
          "data": {
            "image/png": "[encoded data removed]",
            "text/plain": [
              "<matplotlib.figure.Figure at 0x7f564046f450>"
            ]
          },
          "metadata": {
            "tags": []
          }
        },
        {
          "output_type": "display_data",
          "data": {
            "image/png": "[encoded data removed]",
            "text/plain": [
              "<matplotlib.figure.Figure at 0x7f563d8647d0>"
            ]
          },
          "metadata": {
            "tags": []
          }
        },
        {
          "output_type": "display_data",
          "data": {
            "image/png": "[encoded data removed]",
            "text/plain": [
              "<matplotlib.figure.Figure at 0x7f563db9f750>"
            ]
          },
          "metadata": {
            "tags": []
          }
        }
      ]
    },
    {
      "metadata": {
        "id": "_LmYlCRQXrBY",
        "colab_type": "code",
        "colab": {}
      },
      "cell_type": "code",
      "source": [
        "# Load the dataset (1 pixel)\n",
        "dataset1 = np.load('compgi22_dl_cw4/one_pixel_inpainting.npy')"
      ],
      "execution_count": 0,
      "outputs": []
    },
    {
      "metadata": {
        "id": "QL4ujNKiXrMu",
        "colab_type": "code",
        "colab": {
          "base_uri": "https://localhost:8080/",
          "height": 781
        },
        "outputId": "78633129-ed3c-4e23-9fa5-a72771d947bf"
      },
      "cell_type": "code",
      "source": [
        "# checking loading\n",
        "images1    = dataset1[0]\n",
        "gt_images1 = dataset1[1] \n",
        "\n",
        "nSamples, ndim = gt_images1.shape\n",
        "print('Loaded dataset has {} samples: cropped + GT'.format(nSamples))\n",
        "\n",
        "# randomly visualize a few samples\n",
        "for SampleID in np.random.randint(nSamples,size=3):\n",
        "  plt.figure()\n",
        "  plt.subplot(1,2,1)\n",
        "  plt.imshow(np.reshape(gt_images1[SampleID],(28,28)), interpolation='None',vmin=-1, vmax=1)\n",
        "  plt.title(\"GT image\")\n",
        "  plt.grid(False)\n",
        "  plt.axis('off')\n",
        "  plt.subplot(1,2,2)\n",
        "  plt.imshow(np.reshape(images1[SampleID],(28,28)), interpolation='None',vmin=-1, vmax=1)\n",
        "  plt.title(\"Cropped image\")\n",
        "  plt.grid(False)\n",
        "  plt.axis('off')"
      ],
      "execution_count": 0,
      "outputs": [
        {
          "output_type": "stream",
          "text": [
            "Loaded dataset has 1000 samples: cropped + GT\n"
          ],
          "name": "stdout"
        },
        {
          "output_type": "display_data",
          "data": {
            "image/png": "[encoded data removed]",
            "text/plain": [
              "<matplotlib.figure.Figure at 0x7f563d86f2d0>"
            ]
          },
          "metadata": {
            "tags": []
          }
        },
        {
          "output_type": "display_data",
          "data": {
            "image/png": "[encoded data removed]",
            "text/plain": [
              "<matplotlib.figure.Figure at 0x7f5640a01d50>"
            ]
          },
          "metadata": {
            "tags": []
          }
        },
        {
          "output_type": "display_data",
          "data": {
            "image/png": "[encoded data removed]",
            "text/plain": [
              "<matplotlib.figure.Figure at 0x7f56435cdcd0>"
            ]
          },
          "metadata": {
            "tags": []
          }
        }
      ]
    },
    {
      "metadata": {
        "id": "G9RAXOberfI9",
        "colab_type": "text"
      },
      "cell_type": "markdown",
      "source": [
        "### One-pixel prediction "
      ]
    },
    {
      "metadata": {
        "id": "PGeeQQMZrjpu",
        "colab_type": "code",
        "colab": {
          "base_uri": "https://localhost:8080/",
          "height": 51
        },
        "outputId": "e1676aa0-f8a0-4113-ba52-e15215ff7e14"
      },
      "cell_type": "code",
      "source": [
        "# Predicting the missing pixel\n",
        "#images1 1000,784\n",
        "\n",
        "experiment_results = {}\n",
        "num_epochs=5\n",
        "learning_rate=0.001\n",
        "batch_size=256\n",
        "#fully_connected_hidden_units=64\n",
        "\n",
        "experiment_results['LSTM'] = []\n",
        "test_loss = []\n",
        "train_loss = []\n",
        "\n",
        "def generatesample(p):\n",
        "  value = [0,1]\n",
        "  samples = []\n",
        "  for i in range(len(p)):\n",
        "    samples.append(np.random.choice(value,p=[(1-p[i]),p[i]]))\n",
        "  return samples\n",
        "\n",
        "# Advisable to you GPU for this part\n",
        "with tf.device('/device:GPU:*'):\n",
        "\n",
        "  tf.reset_default_graph()\n",
        "  \n",
        "  \n",
        "  # your model here....  \n",
        "  x, y_ = get_placeholders()\n",
        "  \n",
        "  y = LSTMRnn(x)\n",
        "  \n",
        "  loss = tf.reduce_mean(tf.nn.sigmoid_cross_entropy_with_logits(labels=y_,logits=y))\n",
        "  #loss = -tf.reduce_mean(y_*tf.log(y))\n",
        "  opt = tf.train.AdamOptimizer(learning_rate=learning_rate).minimize(loss)\n",
        "  y_sig = tf.sigmoid(y)\n",
        "  correct = tf.equal(tf.to_float(y_sig>0.5),y_)\n",
        "  accuracy = tf.reduce_mean(tf.cast(correct,tf.float32))\n",
        "\n",
        "\n",
        " \n",
        " \n",
        "\n",
        "def predmissing(data): #one missing pixel\n",
        "  missing_index = np.where(data==-1)\n",
        "  img0 = np.copy(data)\n",
        "  #when missing pixel is 0:\n",
        "  img0[missing_index] = 0\n",
        "  img0_x = img0[:,:783]\n",
        "  img1 = np.copy(data)\n",
        "  #when missing pixel is 1\n",
        "  img1[missing_index] = 1\n",
        "  img1_x = img1[:,:783]\n",
        "  with tf.Session() as sess:    \n",
        "      #with tf.train.MonitoredSession() as sess:  \n",
        "      saver = tf.train.Saver()\n",
        "      ckpt_path = './model/task-e4.ckpt'\n",
        "      saver.restore(sess, ckpt_path)\n",
        "      y0 = sess.run(y_sig,feed_dict={x:img0_x}) \n",
        "      y1 = sess.run(y_sig,feed_dict={x:img1_x})\n",
        "  #calc probability\n",
        "  prob0 = []\n",
        "  prob1 = []\n",
        "  for i in range(len(missing_index[0])):\n",
        "    a0 = missing_index[0][i] #index of img from 1-1000\n",
        "    a1 = missing_index[1][i] #missing pixel in each img\n",
        "    y0[a0,a1-1:] #the prob of pixel when pixel=1\n",
        "    y_0 = img0[a0,a1:]*y0[a0,a1-1:]+(img0[a0,a1:]<1)*(1-y0[a0,a1-1:])\n",
        "    y_1 = img1[a0,a1:]*y1[a0,a1-1:]+(img1[a0,a1:]<1)*(1-y1[a0,a1-1:])#\n",
        "    prob0.append(np.prod(y_0))\n",
        "    prob1.append(np.prod(y_1))\n",
        "  prob = np.vstack((prob0,prob1))\n",
        "  div = np.array(prob0)+np.array(prob1)\n",
        "  prob = np.divide(np.array(prob, dtype=float), np.array(div, dtype=float))\n",
        "  prediction = np.argmax(prob,axis=0)\n",
        "  \n",
        "  return prediction,prob\n",
        "\n",
        "prediction1,prob1 = predmissing(images1)\n"
      ],
      "execution_count": 0,
      "outputs": [
        {
          "output_type": "stream",
          "text": [
            "INFO:tensorflow:Restoring parameters from ./model/task-e4.ckpt\n"
          ],
          "name": "stdout"
        },
        {
          "output_type": "stream",
          "text": [
            "/usr/local/lib/python2.7/dist-packages/ipykernel_launcher.py:71: RuntimeWarning: invalid value encountered in divide\n"
          ],
          "name": "stderr"
        }
      ]
    },
    {
      "metadata": {
        "id": "qO1a6jAiKj7D",
        "colab_type": "code",
        "colab": {
          "base_uri": "https://localhost:8080/",
          "height": 194
        },
        "outputId": "8c9b7a32-d73d-48d4-93de-cf1bbd5f8f6a"
      },
      "cell_type": "code",
      "source": [
        "# Visualize samples\n",
        "#the most probable\n",
        "most_index = np.argmax(prob1) #2: 0--prob for0,1: for1\n",
        "#most_a0 = most_index/1000 #1\n",
        "most_a1 = most_index%1000 #895\n",
        "pred = prediction1[most_a1]\n",
        "imgs_GT = np.copy(gt_images1[most_a1,:]) #GT\n",
        "imgs = np.copy(images1[most_a1,:]) # with pred\n",
        "imgs_m = np.copy(images1[most_a1,:]) #with missing\n",
        "miss = np.where(imgs==-1)\n",
        "imgs[miss] = pred\n",
        "plt.subplot(1,3,1)\n",
        "plt.imshow(np.reshape(imgs,(28,28)), interpolation='None',vmin=-1, vmax=1)\n",
        "plt.title('predicted img')\n",
        "plt.subplot(1,3,2)\n",
        "plt.imshow(np.reshape(imgs_m,(28,28)), interpolation='None',vmin=-1, vmax=1)\n",
        "plt.title('img with missing pixel')\n",
        "plt.subplot(1,3,3)\n",
        "plt.imshow(np.reshape(imgs_GT,(28,28)), interpolation='None',vmin=-1, vmax=1)\n",
        "plt.title('img_GT')\n",
        "plt.show()"
      ],
      "execution_count": 0,
      "outputs": [
        {
          "output_type": "display_data",
          "data": {
            "image/png": "[encoded data removed]",
            "text/plain": [
              "<matplotlib.figure.Figure at 0x7f563d9fc950>"
            ]
          },
          "metadata": {
            "tags": []
          }
        }
      ]
    },
    {
      "metadata": {
        "id": "EH8U4N_YSj3h",
        "colab_type": "code",
        "colab": {
          "base_uri": "https://localhost:8080/",
          "height": 34
        },
        "outputId": "22c9a969-4453-4093-dc74-1ea1090f9b47"
      },
      "cell_type": "code",
      "source": [
        "#Calc cross-entropy\n",
        "missing_index = np.where(images1==-1)\n",
        "img_pred = np.copy(images1)\n",
        "img_m = np.copy(images1)\n",
        "img_pred[missing_index] = prediction1\n",
        "imgs_GT = np.copy(gt_images1) #100,784\n",
        "\n",
        "experiment_results = {}\n",
        "num_epochs=5\n",
        "learning_rate=0.001\n",
        "batch_size=256\n",
        "#fully_connected_hidden_units=64\n",
        "\n",
        "\n",
        "# Advisable to you GPU for this part\n",
        "with tf.device('/device:GPU:*'):\n",
        "\n",
        "  tf.reset_default_graph()\n",
        "  \n",
        "  \n",
        "  # your model here....  \n",
        "  x, y_ = get_placeholders()\n",
        "  y = LSTMRnn(x)\n",
        "  \n",
        "  loss = tf.reduce_mean(tf.nn.sigmoid_cross_entropy_with_logits(labels=y_,logits=y))\n",
        "  #loss2 = -tf.reduce_mean(y_*tf.log(y)+(1-y_)*tf.log(1-y))\n",
        "  opt = tf.train.AdamOptimizer(learning_rate=learning_rate).minimize(loss)\n",
        "  y_sig = tf.sigmoid(y)\n",
        "  correct = tf.equal(tf.to_float(y_sig>0.5),y_)\n",
        "  accuracy = tf.reduce_mean(tf.cast(correct,tf.float32))\n",
        "\n",
        " \n",
        "  with tf.Session() as sess:    \n",
        "    #with tf.train.MonitoredSession() as sess:  \n",
        "    saver = tf.train.Saver()\n",
        "    ckpt_path = './model/task-e4.ckpt'\n",
        "    saver.restore(sess, ckpt_path)\n",
        "    loss_GTp = sess.run(loss,feed_dict={y_:np.reshape(imgs_GT[most_a1,:783],(1,783)),y:np.reshape(img_pred[most_a1,:783],(1,783))})\n",
        "    loss_GTm = sess.run(loss,feed_dict={y_:np.reshape(imgs_GT[most_a1,:783],(1,783)),y:np.reshape(img_m[most_a1,:783],(1,783))})\n",
        "   "
      ],
      "execution_count": 0,
      "outputs": [
        {
          "output_type": "stream",
          "text": [
            "INFO:tensorflow:Restoring parameters from ./model/task-e4.ckpt\n"
          ],
          "name": "stdout"
        }
      ]
    },
    {
      "metadata": {
        "id": "cjwxQLO-hMDD",
        "colab_type": "code",
        "colab": {
          "base_uri": "https://localhost:8080/",
          "height": 51
        },
        "outputId": "88c72629-6f5e-464e-9279-68abb75fb98f"
      },
      "cell_type": "code",
      "source": [
        "print(loss_GTp)\n",
        "print(loss_GTm)"
      ],
      "execution_count": 0,
      "outputs": [
        {
          "output_type": "stream",
          "text": [
            "0.5864105\n",
            "0.58592534\n"
          ],
          "name": "stdout"
        }
      ]
    },
    {
      "metadata": {
        "id": "ge6uG0G3ECAu",
        "colab_type": "code",
        "colab": {}
      },
      "cell_type": "code",
      "source": [
        ""
      ],
      "execution_count": 0,
      "outputs": []
    },
    {
      "metadata": {
        "id": "BfAXkujUtJ3O",
        "colab_type": "text"
      },
      "cell_type": "markdown",
      "source": [
        "### Two-by-two patch prediction "
      ]
    },
    {
      "metadata": {
        "id": "9YayTWkNtJ3P",
        "colab_type": "code",
        "colab": {
          "base_uri": "https://localhost:8080/",
          "height": 34
        },
        "outputId": "7440425f-ee1c-4dea-f695-6279523937b9"
      },
      "cell_type": "code",
      "source": [
        "# Predicting the missing patch\n",
        "\n",
        "  #images1 1000,784\n",
        "\n",
        "experiment_results = {}\n",
        "num_epochs=5\n",
        "learning_rate=0.001\n",
        "batch_size=256\n",
        "#fully_connected_hidden_units=64\n",
        "\n",
        "experiment_results['LSTM'] = []\n",
        "test_loss = []\n",
        "train_loss = []\n",
        "\n",
        "# Advisable to you GPU for this part\n",
        "with tf.device('/device:GPU:*'):\n",
        "\n",
        "  tf.reset_default_graph()\n",
        "  \n",
        "  \n",
        "  # your model here....  \n",
        "  x, y_ = get_placeholders()\n",
        "  \n",
        "  y = LSTMRnn(x)\n",
        "  \n",
        "  loss = tf.reduce_mean(tf.nn.sigmoid_cross_entropy_with_logits(labels=y_,logits=y))\n",
        "  #loss = -tf.reduce_mean(y_*tf.log(y))\n",
        "  opt = tf.train.AdamOptimizer(learning_rate=learning_rate).minimize(loss)\n",
        "  y_sig = tf.sigmoid(y)\n",
        "  correct = tf.equal(tf.to_float(y_sig>0.5),y_)\n",
        "  accuracy = tf.reduce_mean(tf.cast(correct,tf.float32))\n",
        " \n",
        "  #images and gt_images\n",
        "  miss_index = np.where(images==-1)\n",
        "  miss_index0 = [miss_index[1][i*4] for i in range(1000)]\n",
        "  miss_index1 = [miss_index[1][i*4+1] for i in range(1000)]\n",
        "  miss_index2 = [miss_index[1][i*4+2] for i in range(1000)]\n",
        "  miss_index3 = [miss_index[1][i*4+3] for i in range(1000)]\n",
        "  miss_index_ = np.arange(1000)\n",
        "  img_filled = np.zeros((16,1000,784))\n",
        "  \n",
        "  #get the imgs of 16 combinations\n",
        "  i = 0\n",
        "  combinations = []\n",
        "  for p0 in [0,1]:\n",
        "    for p1 in [0,1]:\n",
        "      for p2 in [0,1]:\n",
        "        for p3 in [0,1]:         \n",
        "          img = np.copy(images)\n",
        "          img[miss_index_,miss_index0] = p0\n",
        "          img[miss_index_,miss_index1] = p1\n",
        "          img[miss_index_,miss_index2] = p2\n",
        "          img[miss_index_,miss_index3] = p3\n",
        "          img_filled[i,:,:] = img\n",
        "          i += 1\n",
        "          combinations.append((p0,p1,p2,p3))\n",
        "  prob = np.zeros((16,1000))\n",
        "  with tf.Session() as sess:\n",
        "    saver = tf.train.Saver()\n",
        "    ckpt_path = './model/task-e4.ckpt'\n",
        "    saver.restore(sess, ckpt_path)\n",
        "    for i in range(16):\n",
        "      img_f = np.copy(img_filled[i,:,:]) #images after fill the missing pixels\n",
        "      img_input = img_f[:,:783]    \n",
        "      y = sess.run(y_sig,feed_dict={x:img_input})  #1000,783\n",
        "      y_crt = img_f[:,1:]*y+(img_f[:,1:]<1)*(1-y) #[1000,783]\n",
        "      prob[i,:] = np.prod(y_crt,axis=1) #[1000,]\n",
        "     \n",
        "  div = np.sum(prob,axis=0) #1000,\n",
        "  prob_nor = np.divide(np.array(prob, dtype=float), np.array(div, dtype=float))\n",
        "  prediction = np.argmax(prob_nor,axis=0) #[1000]              "
      ],
      "execution_count": 0,
      "outputs": [
        {
          "output_type": "stream",
          "text": [
            "INFO:tensorflow:Restoring parameters from ./model/task-e4.ckpt\n"
          ],
          "name": "stdout"
        }
      ]
    },
    {
      "metadata": {
        "id": "SGoQnvQkycPY",
        "colab_type": "code",
        "colab": {
          "base_uri": "https://localhost:8080/",
          "height": 194
        },
        "outputId": "004920d4-ba7b-40a1-eb23-dfb0bca8391b"
      },
      "cell_type": "code",
      "source": [
        "# Visualize samples\n",
        "#the most probable\n",
        "most_index = np.argmax(prob_nor) #prob_nor[16,1000]\n",
        "#most_a0 = most_index/1000 #1\n",
        "most_a1 = most_index%1000 #return num of image\n",
        "pred = prediction[most_a1]\n",
        "values = combinations[pred]\n",
        "imgs_GT = np.copy(gt_images[most_a1,:]) #GT\n",
        "imgs = np.copy(images[most_a1,:]) # with pred\n",
        "imgs_m = np.copy(images[most_a1,:]) #with missing\n",
        "miss = np.where(imgs==-1)\n",
        "imgs[miss] = pred\n",
        "plt.subplot(1,3,1)\n",
        "plt.imshow(np.reshape(imgs,(28,28)), interpolation='None',vmin=-1, vmax=1)\n",
        "plt.title('predicted img')\n",
        "plt.subplot(1,3,2)\n",
        "plt.imshow(np.reshape(imgs_m,(28,28)), interpolation='None',vmin=-1, vmax=1)\n",
        "plt.title('img with missing pixel')\n",
        "plt.subplot(1,3,3)\n",
        "plt.imshow(np.reshape(imgs_GT,(28,28)), interpolation='None',vmin=-1, vmax=1)\n",
        "plt.title('img_GT')\n",
        "plt.show()"
      ],
      "execution_count": 0,
      "outputs": [
        {
          "output_type": "display_data",
          "data": {
            "image/png": "[encoded data removed]",
            "text/plain": [
              "<matplotlib.figure.Figure at 0x7f563d9a2850>"
            ]
          },
          "metadata": {
            "tags": []
          }
        }
      ]
    },
    {
      "metadata": {
        "id": "uYvazmSUzeW2",
        "colab_type": "code",
        "colab": {
          "base_uri": "https://localhost:8080/",
          "height": 34
        },
        "outputId": "4f46601f-90e6-4e1d-cd16-1df92d4e7866"
      },
      "cell_type": "code",
      "source": [
        "#Calc cross-entropy\n",
        "\n",
        "\n",
        "experiment_results = {}\n",
        "num_epochs=5\n",
        "learning_rate=0.001\n",
        "batch_size=256\n",
        "#fully_connected_hidden_units=64\n",
        "\n",
        "experiment_results['LSTM'] = []\n",
        "test_loss = []\n",
        "train_loss = []\n",
        "\n",
        "# Advisable to you GPU for this part\n",
        "with tf.device('/device:GPU:*'):\n",
        "\n",
        "  tf.reset_default_graph()\n",
        "  \n",
        "  \n",
        "  # your model here....  \n",
        "  x, y_ = get_placeholders()\n",
        "\n",
        "  \n",
        "  y = LSTMRnn(x)\n",
        "  \n",
        "  loss = tf.reduce_mean(tf.nn.sigmoid_cross_entropy_with_logits(labels=y_,logits=y))\n",
        "  #loss = -tf.reduce_mean(y_*tf.log(y))\n",
        "  opt = tf.train.AdamOptimizer(learning_rate=learning_rate).minimize(loss)\n",
        "  y_sig = tf.sigmoid(y)\n",
        "  correct = tf.equal(tf.to_float(y_sig>0.5),y_)\n",
        "  accuracy = tf.reduce_mean(tf.cast(correct,tf.float32))\n",
        "\n",
        "  imgs_GT = np.copy(gt_images)\n",
        "  img_pred = np.copy(images) #[1000,784]\n",
        "  img_m = np.copy(images)\n",
        "  for i in range(1000):\n",
        "    pred = prediction[i]\n",
        "    v = combinations[pred]    \n",
        "    img = np.copy(img_pred[i,:])\n",
        "    miss = np.where(img==-1)\n",
        "    img[miss] = v\n",
        "    img_pred[i,:] = img\n",
        "  \n",
        " \n",
        "  with tf.Session() as sess:    \n",
        "    #with tf.train.MonitoredSession() as sess:  \n",
        "    saver = tf.train.Saver()\n",
        "    ckpt_path = './model/task-e4.ckpt'\n",
        "    saver.restore(sess, ckpt_path)\n",
        "    loss_GTp = sess.run(loss,feed_dict={y_:np.reshape(imgs_GT[most_a1,:783],(1,783)),y:np.reshape(img_pred[most_a1,:783],(1,783))})\n",
        "    loss_GTm = sess.run(loss,feed_dict={y_:np.reshape(imgs_GT[most_a1,:783],(1,783)),y:np.reshape(img_m[most_a1,:783],(1,783))})\n",
        "\n"
      ],
      "execution_count": 0,
      "outputs": [
        {
          "output_type": "stream",
          "text": [
            "INFO:tensorflow:Restoring parameters from ./model/task-e4.ckpt\n"
          ],
          "name": "stdout"
        }
      ]
    },
    {
      "metadata": {
        "id": "VK65kogjywyI",
        "colab_type": "code",
        "colab": {
          "base_uri": "https://localhost:8080/",
          "height": 51
        },
        "outputId": "49bda299-6543-466f-9e0e-490413831c96"
      },
      "cell_type": "code",
      "source": [
        "print(loss_GTp)\n",
        "print(loss_GTm)"
      ],
      "execution_count": 0,
      "outputs": [
        {
          "output_type": "stream",
          "text": [
            "0.5888364\n",
            "0.5868957\n"
          ],
          "name": "stdout"
        }
      ]
    },
    {
      "metadata": {
        "id": "1aOSX6qUkoTE",
        "colab_type": "code",
        "colab": {
          "base_uri": "https://localhost:8080/",
          "height": 194
        },
        "outputId": "1f8f3e2c-869e-40ed-9a94-aeb445fe276f"
      },
      "cell_type": "code",
      "source": [
        "# Visualize samples\n",
        "#test \n",
        "\n",
        "most_a1 = np.random.choice(1000,1)[0] #prob_nor[16,1000]\n",
        "#most_a0 = most_index/1000 #1\n",
        "#most_a1 = most_index%1000 #return num of image\n",
        "pred = prediction[most_a1]\n",
        "values = combinations[pred]\n",
        "imgs_GT = np.copy(gt_images[most_a1,:]) #GT\n",
        "imgs = np.copy(images[most_a1,:]) # with pred\n",
        "imgs_m = np.copy(images[most_a1,:]) #with missing\n",
        "miss = np.where(imgs==-1)\n",
        "imgs[miss] = pred\n",
        "plt.subplot(1,3,1)\n",
        "plt.imshow(np.reshape(imgs,(28,28)), interpolation='None',vmin=-1, vmax=1)\n",
        "plt.title('predicted img')\n",
        "plt.subplot(1,3,2)\n",
        "plt.imshow(np.reshape(imgs_m,(28,28)), interpolation='None',vmin=-1, vmax=1)\n",
        "plt.title('img with missing pixel')\n",
        "plt.subplot(1,3,3)\n",
        "plt.imshow(np.reshape(imgs_GT,(28,28)), interpolation='None',vmin=-1, vmax=1)\n",
        "plt.title('img_GT')\n",
        "plt.show()\n"
      ],
      "execution_count": 0,
      "outputs": [
        {
          "output_type": "display_data",
          "data": {
            "image/png": "[encoded data removed]",
            "text/plain": [
              "<matplotlib.figure.Figure at 0x7f563dbcb690>"
            ]
          },
          "metadata": {
            "tags": []
          }
        }
      ]
    },
    {
      "metadata": {
        "id": "3-nWwpWryjBO",
        "colab_type": "text"
      },
      "cell_type": "markdown",
      "source": [
        "----------------------------------------------------------------------\n",
        "\n",
        "## PART 2: Learning multiple tasks with LSTM-s (40 pts)\n",
        "(Credits to Pedro Ortega for insipring the task and insights behind it)"
      ]
    },
    {
      "metadata": {
        "id": "xUSn2r_Q1ahS",
        "colab_type": "text"
      },
      "cell_type": "markdown",
      "source": [
        "### Task Description\n",
        "\n",
        "Consider the following generative model: \n",
        "* We have $3$ symbols that will be generates from a multinomial/categorical distribution, with parameters $\\textbf{p}=(p_1, p_2, p_3)$: symbol 1 is generated with probability $p_1$, symbol 2 is generated with probability $p_2$, symbol 3 with probability $p_3$. \n",
        "$$X \\sim Categorical(3, \\textbf{p})$$\n",
        "\n",
        "* The parameter vector $\\textbf{p}$ is drawn from a Dirichlet prior: $$\\textbf{p} \\sim Dirichlet(\\alpha)$$\n",
        "\n",
        "We are going to use the above to generate sequences (a continuous stream of data/observations), in the following way:\n",
        "* Step 1: We sample $\\textbf{p}$ from the prior\n",
        "* Step 2: Given this $\\textbf{p}$, for $T-1$ time-steps we will generate i.i.d observations by sampling one of the $3$ symbols from the categorical distribution induced by $\\textbf{p}$\n",
        "$$ (X_1, X_2, \\cdots X_{T-1}) , s.t. X_i \\sim Categorical(3, \\textbf{p})$$\n",
        "* Step 3: At the end of the sequence we append a fourth symbol (RESET): $(X_1, X_2, \\cdots X_T, RESET)$\n",
        "* Step 4: Return to Step 1 and resample $\\textbf{p}$. \n",
        "* Repeat this 'forever'.\n",
        "\n",
        "This will give rise to a continuous stream of data, of the form: $ x_1, x_2, \\cdots x_{T-1}, RESET, x_{T+1}, x_{T+2}, \\cdots x_{2T}, RESET, \\cdots, x_{kT+1}, x_{kT+2}, \\cdots x_{(k+1)T}, RESET, \\cdots$.\n",
        "\n",
        "Note: Data generation is provided for you in the cell below. (You just need to call the minibatch function to get a sequence of this form).\n",
        "\n",
        "### Model\n",
        "\n",
        "We are going to consider an simple LSTM (32 units hidden state) and present this (generated) sequence of data as an input. Similar to the pixel-to-pixel model, at each time step the LSTM will receive one bit of information (gets to observe the symbol recorded at this time step) and need to output the probability distribution for the next symbol. Thus, at time $t$ the LSTM get as input the symbol $x_t$ and will return a probability over the next state $P(x_{t+1}| x_{t}, LSTM_{t-1})$.\n",
        "\n",
        "### Questions\n",
        "\n",
        "1) **Without running any experiments (5 pts)**, try to think about the following scenarios and answer these questions: \n",
        "* Consider we generate the data with $Dirichlet(\\alpha)$, where $\\alpha = (10.,1.,1.)$. What do you think the LSTM model will learn, if anything? Remember we are effectively changing the prediction task, every time we are resampling the probability vector $\\textbf{p}$. * Hint: Think about the distribution over $\\textbf{p}$ that this prior induces. *  \n",
        "\n",
        "LSTM will tend to preduce more symbol1 because according to the prior, symbol1 tend to be with higher probability.\n",
        "\n",
        "* What if we consider a more uniformative prior, like $\\alpha=(1.1, 1.1, 1.1)$?  \n",
        "\n",
        "* How does this (learning ability and generalization) depend on the lenght of the tasks $T$ and the unrolling length on the LSTM? It might be helpful to consider the two extremes: \n",
        "i) $T=1$ (we reset the task at every time step). What should the model learn in this case?, ii) $T=\\infty$ (we sample the task once and keep it forever). What should the model learn in this case? (Answer this for both previous priors)\n",
        "\n",
        "\n",
        "* Does this increase or descrease the complexity of the prediction problem? What about the ability to generalize to unseen $\\textbf{p}$?\n",
        "\n",
        "2) **Time to check your intuitions (10 pts)** \n",
        "\n",
        "Implement a similar LSTM model as in PART 1. This will take as input a one-hot description of the obsevation ($[1,0,0,0]$ for symbol 1. $[0,1,0,0]$ for symbol 2, $[0,0,1,0]$ for symbol 3, $[0,0,0,1]$ for the RESET symbol). This input is fed into a 32-unit LSTM and LSTM output is processed as before: $\\textrm{Relu} \\Rightarrow \\textrm{Fully connected} \\Rightarrow \\textrm{Relu} \\Rightarrow \\textrm{Fully connected} \\Rightarrow \\textrm{Output}$ . The model will be trained, as before, by cross-entropy on predicting the next symbol. You will notice that the setup is really similar to the previous tasks, so feel free to re-use whenever appropiate.\n",
        "\n",
        "Train the following models:\n",
        "* T = 5, and T=20 with the data generated from a Dirichlet with $\\alpha = (10.,1.,1.)$. Unrolling length for the LSTM = 100. Minibatch size = 64. (M1, M2)\n",
        "* T = 5, and T=20 with the data generated from a Dirichlet with$\\alpha = (1.3, 1.3, 1.3)$ Unrolling length for the LSTM = 100. Minibatch size = 64. (M3, M4)\n",
        "\n",
        "Train the models for $1000$ iterations ($1000$ minibatches). Record the training and testing preformance (every 10-20 iterations). Plot the curves over training time. What do you observe? (Is this curve smooth? Do any of them plateau?). **[2x5 pts]**\n",
        "\n",
        "\n",
        "3) **Analysis results (10 pts)**\n",
        "\n",
        "In this section, we will investigate what the models have actaully learnt. For this we will generate a few test sequences:\n",
        "* *Test sequence 1*: generate a test sequence that changes tasks every T=5 steps from a a Dirichlet with $\\alpha = (10.,1.,1.)$.\n",
        "* *Test sequence 2*: generate a test sequence that changes tasks every T=5 steps from a a Dirichlet with $\\alpha = (1.3,1.3,1.3)$.\n",
        "* *Test sequence 3*: generate a test sequence that 'changes tasks' every T=5 steps, but keep sampling according to the same probability vector $\\textbf{p}=(1,0,0)$ (You can use any of the extreme here).\n",
        "\n",
        "i) Test the preformance of M1 and M3 and these test sequences. In addition plot the actual prediction the models do (probability of symbols over time). This should give you more insight in what the model does. Does this correspond or contradict your previous intuitions? **[5 pts]**\n",
        "\n",
        "ii) Repeat the same procedure for task length $T=20$ and models M2 and M4. What do you observe? How do M2 and M4 compare to each other and how to their compare to M1 and M3 (the models trained on the shorter task length). **[5 pts]**\n",
        "\n",
        "4) **Comparison to the Bayesian update (15 pts)**\n",
        "\n",
        "Going back to the generative process in the task description. For a given prior, for each the mini-tasks (selecting/sampling a $\\textbf{p}$), one could compute the Bayesian posterior at each time step.  We start with a prior and every time we observe a symbol with update our posterior over the parameters\n",
        " $\\textbf{p}$ given the data. We do this every time step, till we reach the RESET symbol which marks the end of the task. Then we start again, from the prior.\n",
        "\n",
        "i) Derive the posterior update for each time step. (Hint: since the two distribution are conjugates or each other, the posterior has a closed form). **[3 pts]**\n",
        "\n",
        "ii) Implement this posterior update and use it to infer the probabilities over the next symbol, for the previously generated test sequences. This will tell you, what the inferred probabilities would be, if we knew the structure of the model, the prior and that the reset symbol means the tasks has finished and we should reset our estimate to the prior. (For test sequence 1 and 2, use the prior that generated them, for test sequence 3 compute the updates starting from both priors) **[5 pts]**\n",
        "\n",
        "iii) Compare this to what the LSTM predictions are. What do you observe? What are the failure cases -- can you explain why this might happen? (For test sequence 1 and 2, use the prior that generated them, for test sequence 3 compute the updates starting from both priors). **[7 pts]**\n",
        " \n",
        "For this analysis, only consider $T=20$ and respectively models M2 and M4.\n",
        "\n",
        "5) **Play (not for credit, just for fun)**\n",
        "\n",
        "Visualize the hidden state of the LSTM. Look at the eigenvalues: How many of these are actual revelant? What do they correspond to?\n",
        "\n",
        "\n"
      ]
    },
    {
      "metadata": {
        "id": "7D0rGNa-ytbO",
        "colab_type": "code",
        "colab": {},
        "cellView": "both"
      },
      "cell_type": "code",
      "source": [
        "#@title Generate data function\n",
        "\n",
        "n_symbols = 3\n",
        "def get_data_per_task(number_samples_per_task=10, p=None, alpha=None):\n",
        "  if p == None:\n",
        "    # sample task\n",
        "    if alpha == None:\n",
        "      p = np.random.dirichlet((1.3, 1.3, 1.3), 1)[0]\n",
        "    else:\n",
        "      p = np.random.dirichlet(alpha, 1)[0]\n",
        "    \n",
        "  p = np.append(p, [0])\n",
        "  sample = np.random.multinomial(1, p, size = number_samples_per_task)\n",
        "  \n",
        "  sample = np.append(sample,[[0,0,0,1]], axis=0)\n",
        "  return sample\n",
        "  \n",
        "\n",
        "def get_data(ntasks, nsamples_per_task, p=None, alpha=None):\n",
        "  sample = []\n",
        "  for task_id in range(ntasks):\n",
        "    sample.append(get_data_per_task(number_samples_per_task = nsamples_per_task, p=p, alpha=alpha))\n",
        "  return np.concatenate(sample)\n",
        "\n",
        "\n",
        "def get_minibatch(batch_size, ntasks, nsamples_per_task, p=None, alpha=None):\n",
        "  sample = get_data(batch_size*ntasks, nsamples_per_task, p=p, alpha=alpha)\n",
        "  return np.reshape(sample, [batch_size, ntasks*(nsamples_per_task+1), n_symbols+1])\n",
        "  "
      ],
      "execution_count": 0,
      "outputs": []
    },
    {
      "metadata": {
        "id": "YeVJ2gGdieG-",
        "colab_type": "text"
      },
      "cell_type": "markdown",
      "source": [
        "### Training your recurrent model"
      ]
    },
    {
      "metadata": {
        "id": "GpSBS2IKgZY3",
        "colab_type": "code",
        "colab": {},
        "cellView": "both"
      },
      "cell_type": "code",
      "source": [
        "#@title Your models\n",
        "#@title Your models\n",
        "import tensorflow as tf\n",
        "import matplotlib.pyplot as plt\n",
        "import numpy as np\n",
        "from tensorflow.examples.tutorials.mnist import input_data\n",
        "import os\n",
        "from google.colab import files\n",
        "\n",
        "def LSTMRnn(x): #x:[-1,783]\n",
        "  \n",
        "  hidden_units = 64\n",
        "  time_step = 100\n",
        "  num_input = 4\n",
        "  lstm_size = 32\n",
        "  batch_size=64\n",
        "  \n",
        "  initializer = tf.contrib.layers.xavier_initializer()\n",
        "  fc1_w = tf.Variable(initializer([lstm_size,hidden_units]))\n",
        "  fc1_b = tf.Variable(initializer([hidden_units]))\n",
        "  fc2_w = tf.Variable(initializer([hidden_units,num_input]))\n",
        "  fc2_b = tf.Variable(initializer([num_input]))\n",
        "  \n",
        "  #x_ = tf.reshape(x,(-1,time_step,n_input))\n",
        "  lstmcell = tf.contrib.rnn.BasicLSTMCell(lstm_size,forget_bias=1.0)\n",
        "  #output:[batchsize,time_step,lstmsize]--[n,100,32]\n",
        "  rnn_op,_ = tf.nn.dynamic_rnn(lstmcell,x,dtype=tf.float32,time_major=False)\n",
        "  rnn_op = tf.reshape(rnn_op,(-1,lstm_size)) #-[n*100,32]\n",
        "  relu_op = tf.nn.relu(rnn_op) #[batch*100,lstmsize]\n",
        "  fc1_op = tf.nn.relu(tf.matmul(relu_op,fc1_w)+fc1_b)#[batch*100,hidden_units]\n",
        "  fc2_op = tf.matmul(fc1_op,fc2_w)+fc2_b#[batch*100,4]\n",
        "  y = tf.reshape(fc2_op,[-1,100,4])#[batch,100,4]\n",
        " \n",
        "  return y\n",
        "  \n",
        "def model(ntasks, nsamples_per_task, alpha,modelname):\n",
        "  experiment_results = {}\n",
        "  num_epochs=1000\n",
        "  learning_rate=0.001\n",
        "  batch_size=64\n",
        "\n",
        "\n",
        "  experiment_results['LSTM'] = []\n",
        "  test_loss = []\n",
        "  train_loss = []\n",
        "  test_acc = []\n",
        "  train_acc = []\n",
        "\n",
        "  # Advisable to you GPU for this part\n",
        "  with tf.device('/device:GPU:*'):\n",
        " \n",
        "    tf.reset_default_graph()\n",
        "    #your model here.... \n",
        "    x = tf.placeholder(tf.float32, [None, 100,4])\n",
        "    y_ = tf.placeholder(tf.float32, [None, 99,4])\n",
        "    y = LSTMRnn(x)\n",
        "    ys = tf.reshape(y[:,:-1,:],(-1,4))\n",
        "    ys_ = tf.reshape(y_,(-1,4))\n",
        "  \n",
        "    loss = tf.reduce_mean(tf.nn.softmax_cross_entropy_with_logits(labels=ys_,logits=ys))\n",
        "    opt = tf.train.AdamOptimizer(learning_rate=learning_rate).minimize(loss)\n",
        "    correct = tf.equal(tf.argmax(ys,1),tf.argmax(ys_,1)) #axis=2\n",
        "    accuracy = tf.reduce_mean(tf.cast(correct,tf.float32))\n",
        "    test_xs = np.zeros((batch_size*10,100,4))\n",
        "    for i in range(10):\n",
        "      test_xs[i*batch_size:(i+1)*batch_size,:,:] = get_minibatch(batch_size, ntasks, nsamples_per_task, alpha=alpha) \n",
        "\n",
        "\n",
        "    init = tf.global_variables_initializer()\n",
        "    saver = tf.train.Saver()\n",
        "    iter = 0\n",
        "    with tf.Session() as sess:    \n",
        "      #with tf.train.MonitoredSession() as sess:  \n",
        "      sess.run(init)\n",
        "      while iter < num_epochs:                \n",
        "        batch_xs = get_minibatch(batch_size, ntasks, nsamples_per_task, alpha=alpha)     \n",
        "        sess.run(opt,feed_dict={x:batch_xs,y_:batch_xs[:,1:,:]})\n",
        "        iter += 1       \n",
        "        if iter%20==0:\n",
        "          print(modelname+'--epoch:'+str(iter))             \n",
        "          test_loss.append(sess.run(loss,feed_dict={x:test_xs,y_:test_xs[:,1:,:]}))         \n",
        "          train_loss.append(sess.run(loss,feed_dict={x:batch_xs,y_:batch_xs[:,1:,:]}))  \n",
        "          train_acc.append(sess.run(accuracy,feed_dict={x:batch_xs,y_:batch_xs[:,1:,:]}))\n",
        "          test_acc.append(sess.run(accuracy,feed_dict={x:test_xs,y_:test_xs[:,1:,:]}))\n",
        "      ckpt_path = 'model/part2-'+modelname+'.ckpt'\n",
        "      save_path = saver.save(sess, ckpt_path)\n",
        "      print( os.getcwd() )\n",
        "      print( os.listdir('model') )\n",
        "      #files.download( \"model/task1.ckpt.meta\" ) \n",
        "      \n",
        "  return  train_loss,test_loss,train_acc,test_acc\n",
        "\n",
        "\n",
        "\n",
        "  \n",
        "\n",
        "    "
      ],
      "execution_count": 0,
      "outputs": []
    },
    {
      "metadata": {
        "id": "zUGYk0AggZY8",
        "colab_type": "code",
        "colab": {
          "base_uri": "https://localhost:8080/",
          "height": 3819
        },
        "cellView": "both",
        "outputId": "5210aed8-65ac-4a33-9503-2b60366b0dd1"
      },
      "cell_type": "code",
      "source": [
        "#@title Training\n",
        "#@title Training\n",
        "#@test {\"output\": \"ignore\"}\n",
        "#get data\n",
        "alpha = [(10.,1.,1.),(1.3,1.3,1.3)]\n",
        "T = [5,20]\n",
        "batch_size = 64\n",
        "time_step = 100\n",
        "ntasks = [100/t for t in T]\n",
        "train_loss_m1,test_loss_m1,train_acc_m1,test_acc_m1 =  model(ntasks[0], 4, alpha[0],'m1')\n",
        "train_loss_m2,test_loss_m2,train_acc_m2,test_acc_m2 =  model(ntasks[1], 19, alpha[0],'m2')\n",
        "train_loss_m3,test_loss_m3,train_acc_m3,test_acc_m3 =  model(ntasks[0], 4, alpha[1],'m3')\n",
        "train_loss_m4,test_loss_m4,train_acc_m4,test_acc_m4 =  model(ntasks[1], 19, alpha[1],'m4')\n"
      ],
      "execution_count": 0,
      "outputs": [
        {
          "output_type": "stream",
          "text": [
            "m1--epoch:20\n",
            "m1--epoch:40\n",
            "m1--epoch:60\n",
            "m1--epoch:80\n",
            "m1--epoch:100\n",
            "m1--epoch:120\n",
            "m1--epoch:140\n",
            "m1--epoch:160\n",
            "m1--epoch:180\n",
            "m1--epoch:200\n",
            "m1--epoch:220\n",
            "m1--epoch:240\n",
            "m1--epoch:260\n",
            "m1--epoch:280\n",
            "m1--epoch:300\n",
            "m1--epoch:320\n",
            "m1--epoch:340\n",
            "m1--epoch:360\n",
            "m1--epoch:380\n",
            "m1--epoch:400\n",
            "m1--epoch:420\n",
            "m1--epoch:440\n",
            "m1--epoch:460\n",
            "m1--epoch:480\n",
            "m1--epoch:500\n",
            "m1--epoch:520\n",
            "m1--epoch:540\n",
            "m1--epoch:560\n",
            "m1--epoch:580\n",
            "m1--epoch:600\n",
            "m1--epoch:620\n",
            "m1--epoch:640\n",
            "m1--epoch:660\n",
            "m1--epoch:680\n",
            "m1--epoch:700\n",
            "m1--epoch:720\n",
            "m1--epoch:740\n",
            "m1--epoch:760\n",
            "m1--epoch:780\n",
            "m1--epoch:800\n",
            "m1--epoch:820\n",
            "m1--epoch:840\n",
            "m1--epoch:860\n",
            "m1--epoch:880\n",
            "m1--epoch:900\n",
            "m1--epoch:920\n",
            "m1--epoch:940\n",
            "m1--epoch:960\n",
            "m1--epoch:980\n",
            "m1--epoch:1000\n",
            "/content\n",
            "['part2-m3.ckpt.index', 'part2-m1.ckpt.data-00000-of-00001', 'part2-m1.ckpt.meta', 'part2-m4.ckpt.data-00000-of-00001', 'part2-m1.ckpt.index', 'part2-m4.ckpt.index', 'part2m1.ckpt.index', 'checkpoint', 'part2-m3.ckpt.meta', 'part2m1.ckpt.meta', 'part2-m2.ckpt.index', 'part2-m3.ckpt.data-00000-of-00001', 'part2-m4.ckpt.meta', 'part2-m2.ckpt.meta', 'part2-m2.ckpt.data-00000-of-00001', 'part2m1.ckpt.data-00000-of-00001']\n",
            "m2--epoch:20\n",
            "m2--epoch:40\n",
            "m2--epoch:60\n",
            "m2--epoch:80\n",
            "m2--epoch:100\n",
            "m2--epoch:120\n",
            "m2--epoch:140\n",
            "m2--epoch:160\n",
            "m2--epoch:180\n",
            "m2--epoch:200\n",
            "m2--epoch:220\n",
            "m2--epoch:240\n",
            "m2--epoch:260\n",
            "m2--epoch:280\n",
            "m2--epoch:300\n",
            "m2--epoch:320\n",
            "m2--epoch:340\n",
            "m2--epoch:360\n",
            "m2--epoch:380\n",
            "m2--epoch:400\n",
            "m2--epoch:420\n",
            "m2--epoch:440\n",
            "m2--epoch:460\n",
            "m2--epoch:480\n",
            "m2--epoch:500\n",
            "m2--epoch:520\n",
            "m2--epoch:540\n",
            "m2--epoch:560\n",
            "m2--epoch:580\n",
            "m2--epoch:600\n",
            "m2--epoch:620\n",
            "m2--epoch:640\n",
            "m2--epoch:660\n",
            "m2--epoch:680\n",
            "m2--epoch:700\n",
            "m2--epoch:720\n",
            "m2--epoch:740\n",
            "m2--epoch:760\n",
            "m2--epoch:780\n",
            "m2--epoch:800\n",
            "m2--epoch:820\n",
            "m2--epoch:840\n",
            "m2--epoch:860\n",
            "m2--epoch:880\n",
            "m2--epoch:900\n",
            "m2--epoch:920\n",
            "m2--epoch:940\n",
            "m2--epoch:960\n",
            "m2--epoch:980\n",
            "m2--epoch:1000\n",
            "/content\n",
            "['part2-m3.ckpt.index', 'part2-m1.ckpt.data-00000-of-00001', 'part2-m1.ckpt.meta', 'part2-m4.ckpt.data-00000-of-00001', 'part2-m1.ckpt.index', 'part2-m4.ckpt.index', 'part2m1.ckpt.index', 'checkpoint', 'part2-m3.ckpt.meta', 'part2m1.ckpt.meta', 'part2-m2.ckpt.index', 'part2-m3.ckpt.data-00000-of-00001', 'part2-m4.ckpt.meta', 'part2-m2.ckpt.meta', 'part2-m2.ckpt.data-00000-of-00001', 'part2m1.ckpt.data-00000-of-00001']\n",
            "m3--epoch:20\n",
            "m3--epoch:40\n"
          ],
          "name": "stdout"
        },
        {
          "output_type": "stream",
          "text": [
            "m3--epoch:60\n",
            "m3--epoch:80\n",
            "m3--epoch:100\n",
            "m3--epoch:120\n",
            "m3--epoch:140\n",
            "m3--epoch:160\n",
            "m3--epoch:180\n",
            "m3--epoch:200\n",
            "m3--epoch:220\n",
            "m3--epoch:240\n",
            "m3--epoch:260\n",
            "m3--epoch:280\n",
            "m3--epoch:300\n",
            "m3--epoch:320\n",
            "m3--epoch:340\n",
            "m3--epoch:360\n",
            "m3--epoch:380\n",
            "m3--epoch:400\n",
            "m3--epoch:420\n",
            "m3--epoch:440\n",
            "m3--epoch:460\n",
            "m3--epoch:480\n",
            "m3--epoch:500\n",
            "m3--epoch:520\n",
            "m3--epoch:540\n",
            "m3--epoch:560\n",
            "m3--epoch:580\n",
            "m3--epoch:600\n",
            "m3--epoch:620\n",
            "m3--epoch:640\n",
            "m3--epoch:660\n",
            "m3--epoch:680\n",
            "m3--epoch:700\n",
            "m3--epoch:720\n",
            "m3--epoch:740\n",
            "m3--epoch:760\n",
            "m3--epoch:780\n",
            "m3--epoch:800\n",
            "m3--epoch:820\n",
            "m3--epoch:840\n",
            "m3--epoch:860\n",
            "m3--epoch:880\n",
            "m3--epoch:900\n",
            "m3--epoch:920\n",
            "m3--epoch:940\n",
            "m3--epoch:960\n",
            "m3--epoch:980\n",
            "m3--epoch:1000\n",
            "/content\n",
            "['part2-m3.ckpt.index', 'part2-m1.ckpt.data-00000-of-00001', 'part2-m1.ckpt.meta', 'part2-m4.ckpt.data-00000-of-00001', 'part2-m1.ckpt.index', 'part2-m4.ckpt.index', 'part2m1.ckpt.index', 'checkpoint', 'part2-m3.ckpt.meta', 'part2m1.ckpt.meta', 'part2-m2.ckpt.index', 'part2-m3.ckpt.data-00000-of-00001', 'part2-m4.ckpt.meta', 'part2-m2.ckpt.meta', 'part2-m2.ckpt.data-00000-of-00001', 'part2m1.ckpt.data-00000-of-00001']\n",
            "m4--epoch:20\n",
            "m4--epoch:40\n",
            "m4--epoch:60\n",
            "m4--epoch:80\n",
            "m4--epoch:100\n",
            "m4--epoch:120\n",
            "m4--epoch:140\n",
            "m4--epoch:160\n",
            "m4--epoch:180\n",
            "m4--epoch:200\n",
            "m4--epoch:220\n",
            "m4--epoch:240\n",
            "m4--epoch:260\n",
            "m4--epoch:280\n",
            "m4--epoch:300\n",
            "m4--epoch:320\n",
            "m4--epoch:340\n",
            "m4--epoch:360\n",
            "m4--epoch:380\n",
            "m4--epoch:400\n",
            "m4--epoch:420\n",
            "m4--epoch:440\n",
            "m4--epoch:460\n",
            "m4--epoch:480\n",
            "m4--epoch:500\n",
            "m4--epoch:520\n",
            "m4--epoch:540\n",
            "m4--epoch:560\n",
            "m4--epoch:580\n",
            "m4--epoch:600\n",
            "m4--epoch:620\n",
            "m4--epoch:640\n",
            "m4--epoch:660\n",
            "m4--epoch:680\n",
            "m4--epoch:700\n",
            "m4--epoch:720\n",
            "m4--epoch:740\n",
            "m4--epoch:760\n",
            "m4--epoch:780\n",
            "m4--epoch:800\n",
            "m4--epoch:820\n",
            "m4--epoch:840\n",
            "m4--epoch:860\n",
            "m4--epoch:880\n",
            "m4--epoch:900\n",
            "m4--epoch:920\n",
            "m4--epoch:940\n",
            "m4--epoch:960\n",
            "m4--epoch:980\n",
            "m4--epoch:1000\n",
            "/content\n",
            "['part2-m3.ckpt.index', 'part2-m1.ckpt.data-00000-of-00001', 'part2-m1.ckpt.meta', 'part2-m4.ckpt.data-00000-of-00001', 'part2-m1.ckpt.index', 'part2-m4.ckpt.index', 'part2m1.ckpt.index', 'checkpoint', 'part2-m3.ckpt.meta', 'part2m1.ckpt.meta', 'part2-m2.ckpt.index', 'part2-m3.ckpt.data-00000-of-00001', 'part2-m4.ckpt.meta', 'part2-m2.ckpt.meta', 'part2-m2.ckpt.data-00000-of-00001', 'part2m1.ckpt.data-00000-of-00001']\n"
          ],
          "name": "stdout"
        }
      ]
    },
    {
      "metadata": {
        "id": "6Su3fye0NoZd",
        "colab_type": "code",
        "colab": {}
      },
      "cell_type": "code",
      "source": [
        ""
      ],
      "execution_count": 0,
      "outputs": []
    },
    {
      "metadata": {
        "id": "WVa3hXcminFh",
        "colab_type": "text"
      },
      "cell_type": "markdown",
      "source": [
        "### Analysing your recurrent model"
      ]
    },
    {
      "metadata": {
        "id": "1jhC7JmIghuz",
        "colab_type": "code",
        "colab": {
          "base_uri": "https://localhost:8080/",
          "height": 708
        },
        "outputId": "47e61c8f-4d25-4281-f7e3-403bae455741"
      },
      "cell_type": "code",
      "source": [
        "# Plot learning curves \n",
        "def plot_learning_curves(training_loss, testing_loss,modelname,i):\n",
        "  #plt.figure()\n",
        "  plt.subplot(2,2,i)\n",
        "  plt.plot(training_loss)\n",
        "  plt.plot(testing_loss, 'g')\n",
        "  plt.title(modelname)\n",
        "  plt.legend(['Training loss', 'Testing loss'])\n",
        "  \n",
        "def plot_learning_curves2(training_accuracy, testing_accuracy,modelname,i):\n",
        "  #plt.figure()\n",
        "  plt.subplot(2,2,i)\n",
        "  plt.plot(training_accuracy)\n",
        "  plt.plot(testing_accuracy, 'g')\n",
        "  plt.title(modelname)\n",
        "  plt.legend(['Training accuracy', 'Testing accuracy'])\n",
        "\n",
        "\n",
        "plot_learning_curves(train_loss_m1,test_loss_m1,'m1',1)\n",
        "plot_learning_curves(train_loss_m2,test_loss_m2,'m2',2)\n",
        "plot_learning_curves(train_loss_m3,test_loss_m3,'m3',3)\n",
        "plot_learning_curves(train_loss_m4,test_loss_m4,'m4',4)\n",
        "plt.show()\n",
        "\n",
        "plot_learning_curves2(train_acc_m1,test_acc_m1,'m1',1)\n",
        "plot_learning_curves2(train_acc_m2,test_acc_m2,'m2',2)\n",
        "plot_learning_curves2(train_acc_m3,test_acc_m3,'m3',3)\n",
        "plot_learning_curves2(train_acc_m4,test_acc_m4,'m4',4)\n",
        "plt.show()\n"
      ],
      "execution_count": 0,
      "outputs": [
        {
          "output_type": "display_data",
          "data": {
            "image/png": "[encoded data removed]",
            "text/plain": [
              "<matplotlib.figure.Figure at 0x7ff717716c50>"
            ]
          },
          "metadata": {
            "tags": []
          }
        },
        {
          "output_type": "display_data",
          "data": {
            "image/png": "[encoded data removed]",
            "text/plain": [
              "<matplotlib.figure.Figure at 0x7ff7181c5bd0>"
            ]
          },
          "metadata": {
            "tags": []
          }
        }
      ]
    },
    {
      "metadata": {
        "id": "9-JWwb8EhXhi",
        "colab_type": "code",
        "colab": {
          "base_uri": "https://localhost:8080/",
          "height": 53
        },
        "outputId": "42e00511-3fe2-4c57-a990-9437ac770f80"
      },
      "cell_type": "code",
      "source": [
        "alpha = [(10.,1.,1.),(1.3,1.3,1.3)]\n",
        "T = [5,20]\n",
        "batch_size = 1\n",
        "time_step = 100\n",
        "ntasks = [100/t for t in T]\n",
        "\n",
        "test_seq1 = get_minibatch(batch_size,ntasks[0],4,alpha=alpha[0]) #[64,100,4]\n",
        "test_seq2 = get_minibatch(batch_size,ntasks[0],4,alpha=alpha[1])\n",
        "test_seq3 = get_minibatch(batch_size,ntasks[0],4,p=[1.0, 0.0, 0.0])\n",
        "\n",
        "with tf.device('/device:GPU:*'):\n",
        "\n",
        "  tf.reset_default_graph()\n",
        "  \n",
        "  x = tf.placeholder(tf.float32, [None, 100,4])\n",
        "  y = LSTMRnn(x) # batch,100,4\n",
        "  y_sm = tf.nn.softmax(tf.reshape(y,(-1,4)))\n",
        "  y_rsm = tf.reshape(y_sm,(-1,100,4))\n",
        "  #model m1\n",
        "  with tf.Session() as sess1:     \n",
        "    saver = tf.train.Saver()\n",
        "    ckpt_path = './model/part2-m1.ckpt'\n",
        "    saver.restore(sess1, ckpt_path)\n",
        "    y_m1_seq1 = sess1.run(y_rsm,feed_dict={x:test_seq1})\n",
        "    y_m1_seq2 = sess1.run(y_rsm,feed_dict={x:test_seq2})\n",
        "    y_m1_seq3 = sess1.run(y_rsm,feed_dict={x:test_seq3})\n",
        "  \n",
        "  #model m3\n",
        "  with tf.Session() as sess3:     \n",
        "    saver = tf.train.Saver()\n",
        "    ckpt_path = './model/part2-m3.ckpt'\n",
        "    saver.restore(sess3, ckpt_path)\n",
        "    y_m3_seq1 = sess3.run(y_rsm,feed_dict={x:test_seq1})\n",
        "    y_m3_seq2 = sess3.run(y_rsm,feed_dict={x:test_seq2})\n",
        "    y_m3_seq3 = sess3.run(y_rsm,feed_dict={x:test_seq3})\n",
        "\n",
        "\n",
        "# Sample generation of test sequence:\n",
        "# get_minibatch(batch_size, num_tasks_per_batch, num_samples_per_task-1, p=[1.0, 0.0, 0.0])"
      ],
      "execution_count": 0,
      "outputs": [
        {
          "output_type": "stream",
          "text": [
            "INFO:tensorflow:Restoring parameters from ./model/part2-m1.ckpt\n",
            "INFO:tensorflow:Restoring parameters from ./model/part2-m3.ckpt\n"
          ],
          "name": "stdout"
        }
      ]
    },
    {
      "metadata": {
        "id": "r43wYsw6XCsg",
        "colab_type": "code",
        "colab": {
          "base_uri": "https://localhost:8080/",
          "height": 53
        },
        "outputId": "1eb565b4-ba5b-487c-bf67-86ea0146db5f"
      },
      "cell_type": "code",
      "source": [
        "alpha = [(10.,1.,1.),(1.3,1.3,1.3)]\n",
        "T = [5,20]\n",
        "batch_size = 1\n",
        "time_step = 100\n",
        "ntasks = [100/t for t in T]\n",
        "\n",
        "test2_seq1 = get_minibatch(batch_size,ntasks[1],19,alpha=alpha[0]) #[64,100,4]\n",
        "test2_seq2 = get_minibatch(batch_size,ntasks[1],19,alpha=alpha[1])\n",
        "test2_seq3 = get_minibatch(batch_size,ntasks[1],19,p=[1.0, 0.0, 0.0])\n",
        "\n",
        "with tf.device('/device:GPU:*'):\n",
        "\n",
        "  tf.reset_default_graph()\n",
        "  \n",
        "  x = tf.placeholder(tf.float32, [None, 100,4])\n",
        "  y = LSTMRnn(x) # batch,100,4\n",
        "  y_sm = tf.nn.softmax(tf.reshape(y,(-1,4)))\n",
        "  y_rsm = tf.reshape(y_sm,(-1,100,4))\n",
        "  #model m2\n",
        "  with tf.Session() as sess2:     \n",
        "    saver = tf.train.Saver()\n",
        "    ckpt_path = './model/part2-m2.ckpt'\n",
        "    saver.restore(sess2, ckpt_path)\n",
        "    y_m2_seq1 = sess2.run(y_rsm,feed_dict={x:test2_seq1})\n",
        "    y_m2_seq2 = sess2.run(y_rsm,feed_dict={x:test2_seq2})\n",
        "    y_m2_seq3 = sess2.run(y_rsm,feed_dict={x:test2_seq3})\n",
        "  \n",
        "  #model m4\n",
        "  with tf.Session() as sess4:     \n",
        "    saver = tf.train.Saver()\n",
        "    ckpt_path = './model/part2-m4.ckpt'\n",
        "    saver.restore(sess4, ckpt_path)\n",
        "    y_m4_seq1 = sess4.run(y_rsm,feed_dict={x:test2_seq1})\n",
        "    y_m4_seq2 = sess4.run(y_rsm,feed_dict={x:test2_seq2})\n",
        "    y_m4_seq3 = sess4.run(y_rsm,feed_dict={x:test2_seq3})"
      ],
      "execution_count": 0,
      "outputs": [
        {
          "output_type": "stream",
          "text": [
            "INFO:tensorflow:Restoring parameters from ./model/part2-m2.ckpt\n",
            "INFO:tensorflow:Restoring parameters from ./model/part2-m4.ckpt\n"
          ],
          "name": "stdout"
        }
      ]
    },
    {
      "metadata": {
        "id": "oh_4jZ8VdtYs",
        "colab_type": "code",
        "colab": {
          "base_uri": "https://localhost:8080/",
          "height": 1053
        },
        "outputId": "ef898105-4418-476d-ab9e-b2a3476fe9c5"
      },
      "cell_type": "code",
      "source": [
        "# Visualize performance on the test sequences:\n",
        "# Visualization\n",
        "\n",
        "def plotprob(prob,i,modelname):\n",
        "  plt.subplot(1,6,i)\n",
        "  plt.imshow(prob,interpolation='nearest', aspect='auto')\n",
        "  ax = plt.gca()\n",
        "  ax.set_xticks(np.arange(0,4,1))\n",
        "  plt.title(modelname)\n",
        "  \n",
        " \n",
        "  \n",
        "#test_seq1\n",
        "seq1_GT = np.reshape(test_seq1[:,1:,:],(99,4)) #1,99,4\n",
        "seq21_GT = np.reshape(test2_seq1[:,1:,:],(99,4))\n",
        "seq1_m1_pred = np.reshape(y_m1_seq1[:,:-1,:],(99,4))\n",
        "seq1_m3_pred = np.reshape(y_m3_seq1[:,:-1,:],(99,4))\n",
        "seq1_m2_pred = np.reshape(y_m2_seq1[:,:-1,:],(99,4))\n",
        "seq1_m4_pred = np.reshape(y_m4_seq1[:,:-1,:],(99,4))\n",
        "plotprob(seq1_m1_pred,1,'M1-seq1') \n",
        "plotprob(seq1_m3_pred,2,'M3-seq1') \n",
        "plotprob(seq1_m2_pred,4,'M2-seq1') \n",
        "plotprob(seq1_m4_pred,5,'M4-seq1') \n",
        "plotprob(seq1_GT,3,'GT-seq1') \n",
        "plotprob(seq21_GT,6,'GT2-seq1') \n",
        "plt.show()\n",
        "#test_seq2\n",
        "seq2_GT = np.reshape(test_seq2[:,1:,:],(99,4)) #1,99,4\n",
        "seq22_GT = np.reshape(test2_seq2[:,1:,:],(99,4))\n",
        "seq2_m1_pred = np.reshape(y_m1_seq2[:,:-1,:],(99,4))\n",
        "seq2_m3_pred = np.reshape(y_m3_seq2[:,:-1,:],(99,4))\n",
        "seq2_m2_pred = np.reshape(y_m2_seq2[:,:-1,:],(99,4))\n",
        "seq2_m4_pred = np.reshape(y_m4_seq2[:,:-1,:],(99,4))\n",
        "plotprob(seq2_m1_pred,1,'M1-seq2') \n",
        "plotprob(seq2_m3_pred,2,'M3-seq2') \n",
        "plotprob(seq2_m2_pred,4,'M2-seq2') \n",
        "plotprob(seq2_m4_pred,5,'M4-seq2') \n",
        "plotprob(seq2_GT,3,'GT-seq2') \n",
        "plotprob(seq22_GT,6,'GT2-seq2') \n",
        "plt.show()\n",
        "\n",
        "#test_seq3\n",
        "seq3_GT = np.reshape(test_seq3[:,1:,:],(99,4))#1,99,4\n",
        "seq23_GT = np.reshape(test2_seq3[:,1:,:],(99,4))\n",
        "seq3_m1_pred = np.reshape(y_m1_seq3[:,:-1,:],(99,4))\n",
        "seq3_m3_pred = np.reshape(y_m3_seq3[:,:-1,:],(99,4))\n",
        "seq3_m2_pred = np.reshape(y_m2_seq3[:,:-1,:],(99,4))\n",
        "seq3_m4_pred = np.reshape(y_m4_seq3[:,:-1,:],(99,4))\n",
        "plotprob(seq3_m1_pred,1,'M1-seq3') \n",
        "plotprob(seq3_m3_pred,2,'M3-seq3') \n",
        "plotprob(seq3_m2_pred,4,'M2-seq3') \n",
        "plotprob(seq3_m4_pred,5,'M4-seq3') \n",
        "plotprob(seq3_GT,3,'GT-seq3') \n",
        "plotprob(seq23_GT,6,'GT2-seq3') \n",
        "plt.show()\n",
        "\n",
        "  \n"
      ],
      "execution_count": 0,
      "outputs": [
        {
          "output_type": "display_data",
          "data": {
            "image/png": "[encoded data removed]",
            "text/plain": [
              "<matplotlib.figure.Figure at 0x7ff717fc1f10>"
            ]
          },
          "metadata": {
            "tags": []
          }
        },
        {
          "output_type": "display_data",
          "data": {
            "image/png": "[encoded data removed]",
            "text/plain": [
              "<matplotlib.figure.Figure at 0x7ff70cf50bd0>"
            ]
          },
          "metadata": {
            "tags": []
          }
        },
        {
          "output_type": "display_data",
          "data": {
            "image/png": "[encoded data removed]",
            "text/plain": [
              "<matplotlib.figure.Figure at 0x7ff70f67c190>"
            ]
          },
          "metadata": {
            "tags": []
          }
        }
      ]
    },
    {
      "metadata": {
        "id": "wSl5YYqCgm4D",
        "colab_type": "text"
      },
      "cell_type": "markdown",
      "source": [
        "### Bayesian Updates"
      ]
    },
    {
      "metadata": {
        "id": "b_dhNHuSgpRM",
        "colab_type": "code",
        "colab": {}
      },
      "cell_type": "code",
      "source": [
        "# Implement Bayesian update (as if you knew the 'right' prior and model)\n",
        "time_step = 100\n",
        "#test_seq1 [64,100,4]\n",
        "#prior\n",
        "alpha = np.array([[10.,1.,1.],[1.3,1.3,1.3]])\n",
        "p = np.array([1.0, 0.0, 0.0])\n",
        "batch_size = 1\n",
        "\n",
        "def bayesianInference(alpha,seq):\n",
        "  xs = seq[:,:,:-1]\n",
        "  posterior = np.zeros((batch_size,time_step,4))\n",
        "  sum_x = np.zeros((3))\n",
        "  for i in range(batch_size):\n",
        "    for t in range(time_step):\n",
        "      if np.sum(xs[i,t,:]) == 0:\n",
        "        sum_x = np.zeros((3))\n",
        "        posterior[i,t-1,3] = 1\n",
        "      else:\n",
        "        sum_x = sum_x + xs[i,t,:]\n",
        "        post_alpha = alpha+sum_x\n",
        "        p = np.random.dirichlet(post_alpha,1)[0]\n",
        "        posterior[i,t,:3] = p\n",
        "  return posterior\n",
        "\n",
        "#test_seq1:\n",
        "seq1_post = bayesianInference(alpha[0],test2_seq1)\n",
        "#test_seq2\n",
        "seq2_post = bayesianInference(alpha[1],test2_seq2)\n",
        "#test_seq3\n",
        "seq3_post1 = bayesianInference(alpha[0],test2_seq3)\n",
        "seq3_post2 = bayesianInference(alpha[1],test2_seq3)\n",
        "\n",
        "# From the posterior infer the mean of the probability vector. Use this as your \n",
        "# estimate to compare again the LSTM predictions\n"
      ],
      "execution_count": 0,
      "outputs": []
    },
    {
      "metadata": {
        "id": "6ONgmeEVX9r0",
        "colab_type": "code",
        "colab": {
          "base_uri": "https://localhost:8080/",
          "height": 35
        },
        "outputId": "793bda7d-e7e6-4f46-f7ed-ad21b2827396"
      },
      "cell_type": "code",
      "source": [
        "seq1_post.shape"
      ],
      "execution_count": 0,
      "outputs": [
        {
          "output_type": "execute_result",
          "data": {
            "text/plain": [
              "(1, 100, 4)"
            ]
          },
          "metadata": {
            "tags": []
          },
          "execution_count": 142
        }
      ]
    },
    {
      "metadata": {
        "id": "0PoqrDkoiKM5",
        "colab_type": "code",
        "colab": {
          "base_uri": "https://localhost:8080/",
          "height": 1399
        },
        "outputId": "a28df14b-8f2a-4aa1-bcdd-b3631b42a208"
      },
      "cell_type": "code",
      "source": [
        "# Visualize and compare performance on the test sequences:\n",
        "#test_seq1\n",
        "seq21_GT = np.reshape(test2_seq1[:,1:,:],(99,4))\n",
        "seq1_m2_pred = np.reshape(y_m2_seq1[:,:-1,:],(99,4))\n",
        "seq1_m4_pred = np.reshape(y_m4_seq1[:,:-1,:],(99,4))\n",
        "seq1_bayes = np.reshape(seq1_post[:,:-1,:],(99,4))\n",
        "plotprob(seq1_m2_pred,1,'M2-seq1') \n",
        "plotprob(seq1_m4_pred,2,'M4-seq1') \n",
        "plotprob(seq21_GT,3,'GT-seq1') \n",
        "plotprob(seq1_bayes,4,'Bayes-seq1')  \n",
        "plt.show()\n",
        "#test_seq2\n",
        "seq22_GT = np.reshape(test2_seq2[:,1:,:],(99,4))\n",
        "seq2_m2_pred = np.reshape(y_m2_seq2[:,:-1,:],(99,4))\n",
        "seq2_m4_pred = np.reshape(y_m4_seq2[:,:-1,:],(99,4))\n",
        "seq2_bayes = np.reshape(seq2_post[:,:-1,:],(99,4))\n",
        "plotprob(seq2_m2_pred,1,'M2-seq2') \n",
        "plotprob(seq2_m4_pred,2,'M4-seq2') \n",
        "plotprob(seq22_GT,3,'GT-seq2') \n",
        "plotprob(seq2_bayes,4,'Bayes-seq2') \n",
        "plt.show()\n",
        "#test_seq3-1\n",
        "seq23_GT = np.reshape(test2_seq3[:,1:,:],(99,4))\n",
        "seq3_m2_pred = np.reshape(y_m2_seq3[:,:-1,:],(99,4))\n",
        "seq3_m4_pred = np.reshape(y_m4_seq3[:,:-1,:],(99,4))\n",
        "seq3_bayes = np.reshape(seq3_post1[:,:-1,:],(99,4))\n",
        "plotprob(seq1_m2_pred,1,'M2-seq3') \n",
        "plotprob(seq1_m4_pred,2,'M4-seq3') \n",
        "plotprob(seq23_GT,3,'GT-seq3') \n",
        "plotprob(seq1_bayes,4,'Bayes-seq3-1') \n",
        "plt.show()\n",
        "#test_seq3-2\n",
        "seq23_GT = np.reshape(test2_seq3[:,1:,:],(99,4))\n",
        "seq3_m2_pred = np.reshape(y_m2_seq3[:,:-1,:],(99,4))\n",
        "seq3_m4_pred = np.reshape(y_m4_seq3[:,:-1,:],(99,4))\n",
        "seq3_bayes2 = np.reshape(seq3_post2[:,:-1,:],(99,4))\n",
        "plotprob(seq3_m2_pred,1,'M2-seq3') \n",
        "plotprob(seq3_m4_pred,2,'M4-seq3') \n",
        "plotprob(seq23_GT,3,'GT-seq3') \n",
        "plotprob(seq3_bayes2,4,'Bayes-seq3-2')\n",
        "plt.show()"
      ],
      "execution_count": 0,
      "outputs": [
        {
          "output_type": "display_data",
          "data": {
            "image/png": "[encoded data removed]",
            "text/plain": [
              "<matplotlib.figure.Figure at 0x7ff7182f3290>"
            ]
          },
          "metadata": {
            "tags": []
          }
        },
        {
          "output_type": "display_data",
          "data": {
            "image/png": "[encoded data removed]",
            "text/plain": [
              "<matplotlib.figure.Figure at 0x7ff717d40fd0>"
            ]
          },
          "metadata": {
            "tags": []
          }
        },
        {
          "output_type": "display_data",
          "data": {
            "image/png": "[encoded data removed]",
            "text/plain": [
              "<matplotlib.figure.Figure at 0x7ff7149ed090>"
            ]
          },
          "metadata": {
            "tags": []
          }
        },
        {
          "output_type": "display_data",
          "data": {
            "image/png": "[encoded data removed]",
            "text/plain": [
              "<matplotlib.figure.Figure at 0x7ff7174f7cd0>"
            ]
          },
          "metadata": {
            "tags": []
          }
        }
      ]
    },
    {
      "metadata": {
        "id": "dy9v9HlziMuq",
        "colab_type": "code",
        "colab": {}
      },
      "cell_type": "code",
      "source": [
        ""
      ],
      "execution_count": 0,
      "outputs": []
    },
    {
      "metadata": {
        "id": "sL4N1nxW47Uw",
        "colab_type": "code",
        "colab": {
          "base_uri": "https://localhost:8080/",
          "height": 35
        },
        "outputId": "114355fa-5e67-431f-a5e6-6552a9c17592"
      },
      "cell_type": "code",
      "source": [
        ""
      ],
      "execution_count": 0,
      "outputs": [
        {
          "output_type": "execute_result",
          "data": {
            "text/plain": [
              "[None, None, None]"
            ]
          },
          "metadata": {
            "tags": []
          },
          "execution_count": 69
        }
      ]
    },
    {
      "metadata": {
        "id": "3PbNmRrP5Ljk",
        "colab_type": "code",
        "colab": {}
      },
      "cell_type": "code",
      "source": [
        ""
      ],
      "execution_count": 0,
      "outputs": []
    }
  ]
}