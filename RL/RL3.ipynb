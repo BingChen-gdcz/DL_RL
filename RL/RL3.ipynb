{
  "nbformat": 4,
  "nbformat_minor": 0,
  "metadata": {
    "colab": {
      "name": "17028246_RL_cw3.ipynb.txt",
      "version": "0.3.2",
      "views": {},
      "default_view": {},
      "provenance": [
        {
          "file_id": "1mIWeHr4YB6AVcwtRszH87Lj7y3pEhLVM",
          "timestamp": 1520447403512
        },
        {
          "file_id": "1AmoBDF9hWeKfxWp6h_ihyI-KFbhQeSJW",
          "timestamp": 1520259410401
        },
        {
          "file_id": "1FwMxkDPkt68fxovrMmmWwm6ohYvX2wt1",
          "timestamp": 1517660129183
        },
        {
          "file_id": "1wwTq5nociiMHUb26jxrvZvGN6l11xV5o",
          "timestamp": 1517174839485
        },
        {
          "file_id": "1_gJNoj9wG4mnigscGRAcZx7RHix3HCjG",
          "timestamp": 1515086437469
        },
        {
          "file_id": "1hcBeMVfaSh8g1R2ujtmxOSHoxJ8xYkaW",
          "timestamp": 1511098107887
        }
      ],
      "collapsed_sections": []
    }
  },
  "cells": [
    {
      "metadata": {
        "id": "pYs6LMEbNqoQ",
        "colab_type": "text"
      },
      "cell_type": "markdown",
      "source": [
        "# RL homework 3\n",
        "\n",
        "-------------------------------\n",
        "\n",
        "\n",
        "**Name:** Bing CHEN\n",
        "\n",
        "**SN:** 17028246\n",
        "\n",
        "-----------------------------------\n",
        "\n",
        "\n",
        "**Start date:** *7th March 2018*\n",
        "\n",
        "**Due date:** *21st March 2018, 11:55 pm*\n",
        "\n",
        "------------------------------------\n",
        "\n",
        "## How to Submit\n",
        "\n",
        "When you have completed the exercises and everything has finsihed running, click on 'File' in the menu-bar and then 'Download .ipynb'. This file must be submitted to Moodle named as **studentnumber_RL_hw3.ipynb** before the deadline above.\n",
        "\n",
        "Also send a **sharable link** to the notebook at the following email: ucl.coursework.submit@gmail.com. You can also make it sharable via link to everyone, up to you.\n",
        "\n",
        "Please compile all results and all answers to the understanding questions into a PDF. Name convention: **studentnumber_RL_hw3.pdf**. Do not include any of the code (we will use the notebook for that). \n",
        "\n",
        "**Page limit: 10 pg **\n"
      ]
    },
    {
      "metadata": {
        "id": "9v_SYckYfv5G",
        "colab_type": "text"
      },
      "cell_type": "markdown",
      "source": [
        "## Context\n",
        "\n",
        "In this assignment, we will investigate the properties of 3 distinct reinforcement learning algorithms:\n",
        "\n",
        "* Online Q-learning\n",
        "* Experience Replay\n",
        "* Dyna-Q\n",
        "\n",
        "We will consider two different dimensions:\n",
        "* Tabular vs Function Approximation\n",
        "* Stationary vs Non-Stationary environments\n",
        "\n",
        "## Background reading\n",
        "\n",
        "* Sutton and Barto (2018), Chapters 8"
      ]
    },
    {
      "metadata": {
        "id": "rNuohp44N00i",
        "colab_type": "text"
      },
      "cell_type": "markdown",
      "source": [
        "# The Assignment\n",
        "\n",
        "### Objectives\n",
        "\n",
        "You will use Python to implement several reinforcement learning algorithms **[50 pts]**.\n",
        "\n",
        "You will then run these algorithms on a few problems, to understand their properties.\n",
        "\n",
        "Finally you will answer a few question about the performance of these algorithms in the various problems **[50pts]**."
      ]
    },
    {
      "metadata": {
        "id": "ztQEQvnKh2t6",
        "colab_type": "text"
      },
      "cell_type": "markdown",
      "source": [
        "# Setup"
      ]
    },
    {
      "metadata": {
        "id": "Ps5OnkPmDbMX",
        "colab_type": "code",
        "colab": {
          "autoexec": {
            "startup": false,
            "wait_interval": 0
          }
        }
      },
      "cell_type": "code",
      "source": [
        "import matplotlib.pyplot as plt\n",
        "import numpy as np\n",
        "from collections import namedtuple\n",
        "\n",
        "np.set_printoptions(precision=3, suppress=1)\n",
        "plt.style.use('seaborn-notebook')"
      ],
      "execution_count": 0,
      "outputs": []
    },
    {
      "metadata": {
        "id": "ALrRR76eAd6u",
        "colab_type": "text"
      },
      "cell_type": "markdown",
      "source": [
        "# Grid worlds"
      ]
    },
    {
      "metadata": {
        "id": "uMC6nODK1HAV",
        "colab_type": "text"
      },
      "cell_type": "markdown",
      "source": [
        "**Tabular Grid-World**\n",
        "\n",
        "Simple tabular grid world.\n",
        "\n",
        "You can visualize the grid worlds we will train our agents on, by running the cells below.\n",
        "`S` indicates the start state and `G` indicates the goal.  The agent has four possible actions: up, right, down, and left.  Rewards are: `-5` for bumping into a wall, `+10` for reaching the goal, and `0` otherwise.  The episode ends when the agent reaches the goal, and otherwise continues.  The discount, on continuing steps, is $\\gamma = 0.9$.\n",
        "\n",
        "We will use three distinct GridWorlds:\n",
        "* `Grid` tabular grid world withh a goal in the top right of the grid\n",
        "* `AltGrid` tabular grid world withh a goal in the bottom left of the grid\n",
        "* `FeatureGrid` a grid world with a non tabular representation of states, the features are such to allow some degree of state aliasing"
      ]
    },
    {
      "metadata": {
        "id": "YP97bVN3NuG8",
        "colab_type": "code",
        "colab": {
          "autoexec": {
            "startup": false,
            "wait_interval": 0
          }
        },
        "cellView": "form"
      },
      "cell_type": "code",
      "source": [
        "#@title Grid\n",
        "class Grid(object):\n",
        "\n",
        "  def __init__(self, discount=0.9):\n",
        "    # -1: wall\n",
        "    # 0: empty, episode continues\n",
        "    # other: number indicates reward, episode will terminate\n",
        "    self._layout = np.array([\n",
        "      [-1, -1, -1, -1, -1, -1, -1, -1, -1, -1],\n",
        "      [-1,  0,  0,  0,  0,  0,  0,  0,  0, -1],\n",
        "      [-1,  0,  0,  0, -1, -1,  0,  0, 10, -1],\n",
        "      [-1,  0,  0,  0, -1, -1,  0,  0,  0, -1],\n",
        "      [-1,  0,  0,  0, -1, -1,  0,  0,  0, -1],\n",
        "      [-1,  0,  0,  0,  0,  0,  0,  0,  0, -1],\n",
        "      [-1,  0,  0,  0,  0,  0,  0,  0,  0, -1],\n",
        "      [-1,  0,  0,  0,  0,  0,  0,  0,  0, -1],\n",
        "      [-1, -1, -1, -1, -1, -1, -1, -1, -1, -1]\n",
        "    ])\n",
        "    self._start_state = (2, 2)\n",
        "    self._goal_state = (8, 2)\n",
        "    self._state = self._start_state\n",
        "    self._number_of_states = np.prod(np.shape(self._layout))\n",
        "    self._discount = discount\n",
        "\n",
        "  @property\n",
        "  def number_of_states(self):\n",
        "      return self._number_of_states\n",
        "    \n",
        "  def plot_grid(self):\n",
        "    plt.figure(figsize=(3, 3))\n",
        "    plt.imshow(self._layout > -1, interpolation=\"nearest\", cmap='pink')     \n",
        "    ax = plt.gca()\n",
        "    ax.grid(0)\n",
        "    plt.xticks([])\n",
        "    plt.yticks([])\n",
        "    plt.title(\"The grid\")\n",
        "    plt.text(\n",
        "        self._start_state[0], self._start_state[1], \n",
        "        r\"$\\mathbf{S}$\", ha='center', va='center')\n",
        "    plt.text(\n",
        "        self._goal_state[0], self._goal_state[1], \n",
        "        r\"$\\mathbf{G}$\", ha='center', va='center')\n",
        "    h, w = self._layout.shape\n",
        "    for y in range(h-1):\n",
        "      plt.plot([-0.5, w-0.5], [y+0.5, y+0.5], '-k', lw=2)\n",
        "    for x in range(w-1):\n",
        "      plt.plot([x+0.5, x+0.5], [-0.5, h-0.5], '-k', lw=2)\n",
        "\n",
        "  \n",
        "  def get_obs(self):\n",
        "    y, x = self._state\n",
        "    return y*self._layout.shape[1] + x\n",
        "  \n",
        "  def int_to_state(self, int_obs):\n",
        "    x = int_obs % self._layout.shape[1]\n",
        "    y = int_obs // self._layout.shape[1]\n",
        "    return y, x\n",
        "\n",
        "  def step(self, action):\n",
        "    y, x = self._state\n",
        "\n",
        "    if action == 0:  # up\n",
        "      new_state = (y - 1, x)\n",
        "    elif action == 1:  # right\n",
        "      new_state = (y, x + 1)\n",
        "    elif action == 2:  # down\n",
        "      new_state = (y + 1, x)\n",
        "    elif action == 3:  # left\n",
        "      new_state = (y, x - 1)\n",
        "    else:\n",
        "      raise ValueError(\"Invalid action: {} is not 0, 1, 2, or 3.\".format(action))\n",
        "\n",
        "    new_y, new_x = new_state\n",
        "    if self._layout[new_y, new_x] == -1:  # wall\n",
        "      reward = -5.\n",
        "      discount = self._discount\n",
        "      new_state = (y, x)\n",
        "    elif self._layout[new_y, new_x] == 0:  # empty cell\n",
        "      reward = 0.\n",
        "      discount = self._discount\n",
        "    else:  # a goal\n",
        "      reward = self._layout[new_y, new_x]\n",
        "      discount = 0.\n",
        "      new_state = self._start_state\n",
        "    \n",
        "    self._state = new_state\n",
        "    return reward, discount, self.get_obs()"
      ],
      "execution_count": 0,
      "outputs": []
    },
    {
      "metadata": {
        "id": "UXyPvOq-S2OT",
        "colab_type": "code",
        "colab": {
          "autoexec": {
            "startup": false,
            "wait_interval": 0
          }
        },
        "cellView": "form"
      },
      "cell_type": "code",
      "source": [
        "#@title AltGrid\n",
        "class AltGrid(Grid):\n",
        "  \n",
        "    def __init__(self, discount=0.9):\n",
        "      # -1: wall\n",
        "      # 0: empty, episode continues\n",
        "      # other: number indicates reward, episode will terminate\n",
        "      self._layout = np.array([\n",
        "        [-1, -1, -1, -1, -1, -1, -1, -1, -1, -1],\n",
        "        [-1,  0,  0,  0,  0,  0,  0,  0,  0, -1],\n",
        "        [-1,  0,  0,  0, -1, -1,  0,  0,  0, -1],\n",
        "        [-1,  0,  0,  0, -1, -1,  0,  0,  0, -1],\n",
        "        [-1,  0,  0,  0, -1, -1,  0,  0,  0, -1],\n",
        "        [-1,  0,  0,  0,  0,  0,  0,  0,  0, -1],\n",
        "        [-1,  0,  0,  0,  0,  0,  0,  0,  0, -1],\n",
        "        [-1,  0, 10,  0,  0,  0,  0,  0,  0, -1],\n",
        "        [-1, -1, -1, -1, -1, -1, -1, -1, -1, -1]\n",
        "      ])\n",
        "      self._start_state = (2, 2)\n",
        "      self._goal_state = (2, 7)\n",
        "      self._state = self._start_state\n",
        "      self._number_of_states = np.prod(np.shape(self._layout))\n",
        "      self._discount = discount"
      ],
      "execution_count": 0,
      "outputs": []
    },
    {
      "metadata": {
        "id": "a1OFB5Mv1gC_",
        "colab_type": "code",
        "colab": {
          "autoexec": {
            "startup": false,
            "wait_interval": 0
          }
        },
        "cellView": "form"
      },
      "cell_type": "code",
      "source": [
        "#@title FeatureGrid\n",
        "class FeatureGrid(Grid):\n",
        "  \n",
        "  def get_obs(self):\n",
        "    return self.state_to_features(self._state)\n",
        "  \n",
        "  def state_to_features(self, state):\n",
        "    y, x = state\n",
        "    x /= float(self._layout.shape[1] - 1)\n",
        "    y /= float(self._layout.shape[0] - 1)\n",
        "    markers = np.arange(0.1, 1.0, 0.1)\n",
        "    features = np.array([np.exp(-40*((x - m)**2+(y - n)**2))\n",
        "                         for m in markers\n",
        "                         for n in markers] + [1.])\n",
        "    return features / np.sum(features**2)\n",
        "  \n",
        "  def int_to_features(self, int_state):\n",
        "    return self.state_to_features(self.int_to_state(int_state))\n",
        "  \n",
        "  @property\n",
        "  def number_of_features(self):\n",
        "      return len(self.get_obs())"
      ],
      "execution_count": 0,
      "outputs": []
    },
    {
      "metadata": {
        "id": "ZVUhh2qqwep_",
        "colab_type": "code",
        "colab": {
          "autoexec": {
            "startup": false,
            "wait_interval": 0
          },
          "output_extras": [
            {
              "item_id": 1
            },
            {
              "item_id": 2
            },
            {
              "item_id": 3
            }
          ],
          "base_uri": "https://localhost:8080/",
          "height": 690
        },
        "outputId": "3f87b2d1-0f13-4222-8e5e-f786ecc6f6e8",
        "executionInfo": {
          "status": "ok",
          "timestamp": 1521658565467,
          "user_tz": 0,
          "elapsed": 4629,
          "user": {
            "displayName": "bing chen",
            "photoUrl": "https://lh3.googleusercontent.com/a/default-user=s128",
            "userId": "100806938327485036108"
          }
        }
      },
      "cell_type": "code",
      "source": [
        "# Instantiate the two tabular environments\n",
        "grid = Grid()\n",
        "alt_grid = AltGrid()\n",
        "\n",
        "# Plot tabular environments\n",
        "grid.plot_grid()\n",
        "alt_grid.plot_grid()\n",
        "\n",
        "# Instantiate the non tabular version of the environment.\n",
        "feat_grid = FeatureGrid()\n",
        "\n",
        "# Plot the features of each state\n",
        "shape = feat_grid._layout.shape\n",
        "f, axes = plt.subplots(shape[0], shape[1])\n",
        "for state_idx, ax in enumerate(axes.flatten()):\n",
        "  ax.imshow(np.reshape((feat_grid.int_to_features(state_idx)[:-1]),(9,9)), interpolation='nearest')\n",
        "  ax.set_xticks([])\n",
        "  ax.set_yticks([])"
      ],
      "execution_count": 5,
      "outputs": [
        {
          "output_type": "display_data",
          "data": {
            "image/png": "[encoded data removed]",
            "text/plain": [
              "<matplotlib.figure.Figure at 0x7fd56e2fa850>"
            ]
          },
          "metadata": {
            "tags": []
          }
        },
        {
          "output_type": "display_data",
          "data": {
            "image/png": "[encoded data removed]",
            "text/plain": [
              "<matplotlib.figure.Figure at 0x7fd56e2fa890>"
            ]
          },
          "metadata": {
            "tags": []
          }
        },
        {
          "output_type": "display_data",
          "data": {
            "image/png": "[encoded data removed]",
            "text/plain": [
              "<matplotlib.figure.Figure at 0x7fd56e1a70d0>"
            ]
          },
          "metadata": {
            "tags": []
          }
        }
      ]
    },
    {
      "metadata": {
        "id": "cOu9RZY3AkF1",
        "colab_type": "text"
      },
      "cell_type": "markdown",
      "source": [
        "# Helper functions"
      ]
    },
    {
      "metadata": {
        "id": "6EttQGJ1n5Zn",
        "colab_type": "code",
        "colab": {
          "autoexec": {
            "startup": false,
            "wait_interval": 0
          }
        }
      },
      "cell_type": "code",
      "source": [
        "def run_experiment(env, agent, number_of_steps):\n",
        "    mean_reward = 0.\n",
        "    try:\n",
        "      action = agent.initial_action()\n",
        "    except AttributeError:\n",
        "      action = 0\n",
        "    for i in range(number_of_steps):\n",
        "      reward, discount, next_state = env.step(action)\n",
        "      action = agent.step(reward, discount, next_state)\n",
        "      mean_reward += (reward - mean_reward)/(i + 1.)\n",
        "\n",
        "    return mean_reward\n",
        "\n",
        "map_from_action_to_subplot = lambda a: (2, 6, 8, 4)[a]\n",
        "map_from_action_to_name = lambda a: (\"up\", \"right\", \"down\", \"left\")[a]\n",
        "\n",
        "def plot_values(values, colormap='pink', vmin=-1, vmax=10):\n",
        "  plt.imshow(values, interpolation=\"nearest\", cmap=colormap, vmin=vmin, vmax=vmax)\n",
        "  plt.yticks([])\n",
        "  plt.xticks([])\n",
        "  plt.colorbar(ticks=[vmin, vmax])\n",
        "\n",
        "def plot_state_value(action_values):\n",
        "  q = action_values\n",
        "  fig = plt.figure(figsize=(4, 4))\n",
        "  vmin = np.min(action_values)\n",
        "  vmax = np.max(action_values)\n",
        "  v = 0.9 * np.max(q, axis=-1) + 0.1 * np.mean(q, axis=-1)\n",
        "  plot_values(v, colormap='summer', vmin=vmin, vmax=vmax)\n",
        "  plt.title(\"$v(s)$\")\n",
        "\n",
        "def plot_action_values(action_values):\n",
        "  q = action_values\n",
        "  fig = plt.figure(figsize=(8, 8))\n",
        "  fig.subplots_adjust(wspace=0.3, hspace=0.3)\n",
        "  vmin = np.min(action_values)\n",
        "  vmax = np.max(action_values)\n",
        "  dif = vmax - vmin\n",
        "  for a in [0, 1, 2, 3]:\n",
        "    plt.subplot(3, 3, map_from_action_to_subplot(a))\n",
        "    \n",
        "    plot_values(q[..., a], vmin=vmin - 0.05*dif, vmax=vmax + 0.05*dif)\n",
        "    action_name = map_from_action_to_name(a)\n",
        "    plt.title(r\"$q(s, \\mathrm{\" + action_name + r\"})$\")\n",
        "    \n",
        "  plt.subplot(3, 3, 5)\n",
        "  v = 0.9 * np.max(q, axis=-1) + 0.1 * np.mean(q, axis=-1)\n",
        "  plot_values(v, colormap='summer', vmin=vmin, vmax=vmax)\n",
        "  plt.title(\"$v(s)$\")\n",
        "  \n",
        "def random_policy(q):\n",
        "  return np.random.randint(4)\n",
        "\n",
        "def plot_greedy_policy(grid, q):\n",
        "  action_names = [r\"$\\uparrow$\",r\"$\\rightarrow$\", r\"$\\downarrow$\", r\"$\\leftarrow$\"]\n",
        "  greedy_actions = np.argmax(q, axis=2)\n",
        "  grid.plot_grid()\n",
        "  plt.hold('on')\n",
        "  for i in range(9):\n",
        "    for j in range(10):\n",
        "      action_name = action_names[greedy_actions[i,j]]\n",
        "      plt.text(j, i, action_name, ha='center', va='center')"
      ],
      "execution_count": 0,
      "outputs": []
    },
    {
      "metadata": {
        "id": "fzpb_dGVjT0O",
        "colab_type": "text"
      },
      "cell_type": "markdown",
      "source": [
        "# Part 1: Implement Agents\n",
        "\n",
        "Each agent, should implement a step function:\n",
        "\n",
        "### `__init__(self, number_of_actions, number_of_states, initial_observation)`:\n",
        "The constructor will provide the agent the number of actions, number of states, and the initial observation. You can get the initial observation by first instatiating an environment, using `grid = Grid()`, and then calling `grid.get_obs()`.\n",
        "\n",
        "All agents should be in pure Python - so you cannot use TensorFlow to, e.g., compute gradients.  Using `numpy` is fine.\n",
        "\n",
        "### `step(self, reward, discount, next_observation, ...)`:\n",
        "where `...` indicates there could be other inputs (discussed below).  The step should update the internal values, and return a new action to take.\n",
        "\n",
        "When the discount is zero ($\\text{discount} = \\gamma = 0$), then the `next_observation` will be the initial observation of the next episode.  One shouldn't bootstrap on the value of this state, which can simply be guaranteed when using \"$\\gamma \\cdot v(\\text{next_observation})$\" (for whatever definition of $v$ is appropriate) in the update, because $\\gamma = 0$.  So, the end of an episode can be seamlessly handled with the same step function.\n",
        "\n",
        "### `q_values()`:\n",
        "\n",
        "Tabular agents implement a function `q_values()` returning a matrix of Q values of shape: (`number_of_states`, `number_of_actions`)\n",
        "\n",
        "### `q_values(state)`:\n",
        "\n",
        "Agents with Linear function approximation implement a method `q_values(state)` returning an array of Q values of shape: (`number_of_actions`)\n",
        "\n",
        "\n",
        "### A note on the initial action\n",
        "Normally, you would also have to implement a method that gives the initial action, based on the initial state.  As in the previous assignment you can use the action `0` (which corresponds to `up`) as initial action, so that otherwise we do not have to worry about this.  Note that this initial action is only executed once, and the beginning of the first episode---not at the beginning of each episode.\n",
        "\n",
        "Q-learning and it's variants needs to remember the last action in order to update its value when they see the next state.  In the `__init__`, make sure you set the initial action to zero, e.g.,\n",
        "```\n",
        "def __init__(...):\n",
        "  (...)\n",
        "  self._action = 0\n",
        "  (...)\n",
        "```\n"
      ]
    },
    {
      "metadata": {
        "id": "B8oKd0oyvNcH",
        "colab_type": "text"
      },
      "cell_type": "markdown",
      "source": [
        "\n",
        "# Part 1: Implement Agents\n",
        "\n",
        "We are going to implement 5 agent:\n",
        "- Online Tabular Q-learning\n",
        "- Tabular Experience Replay\n",
        "- Tabular Dyna-Q (with a Tabular model)\n",
        "- Experience Replay with linear function approximation\n",
        "- Dyna-Q with linear function approximation (with a linear model)\n",
        "\n"
      ]
    },
    {
      "metadata": {
        "id": "pIgXk6LblHgV",
        "colab_type": "text"
      },
      "cell_type": "markdown",
      "source": [
        "## 1.1 Tabular Model\n",
        "**[5 pts]** Implement a trainable tabular Model of the environment.\n",
        "\n",
        "The Model should implement: \n",
        "* a *next_state* method, taking a state and action and returning the next state in the environment.\n",
        "* a *reward* method, taking a state and action and returning the immediate reward associated to execution that action in that state.\n",
        "* a *discount* method, taking a state and action and returning the discount associated to execution that action in that state.\n",
        "* a *transition* method, taking a state and an action and returning both the next state and the reward associated to that transition.\n",
        "* a *update* method, taking a full transition *(state, action, reward, next_state)* and updating the model (in its reward, discount and next_state component)\n",
        "\n",
        "Given that the environment is deterministic and tabular the model will basically reduce to a simple lookup table."
      ]
    },
    {
      "metadata": {
        "id": "13zx3tTrll1g",
        "colab_type": "code",
        "colab": {
          "autoexec": {
            "startup": false,
            "wait_interval": 0
          }
        }
      },
      "cell_type": "code",
      "source": [
        "class TabularModel(object):\n",
        "\n",
        "  def __init__(self, number_of_states, number_of_actions):\n",
        "    self._number_of_actions = number_of_actions\n",
        "    self.table_sas = np.zeros((number_of_states,number_of_actions))\n",
        "    self.table_reward = np.zeros((number_of_states,number_of_actions))\n",
        "    self.table_discount = np.zeros((number_of_states,number_of_actions))\n",
        "\n",
        "  def next_state(self, s, a):\n",
        "    #return np.argmax(self.table_sas[s,a,:])\n",
        "    return self.table_sas[s,a]\n",
        "  \n",
        "  def reward(self, s, a):\n",
        "    return self.table_reward[s,a]\n",
        "\n",
        "  def discount(self, s, a):\n",
        "    return self.table_discount[s,a]\n",
        "  \n",
        "  def transition(self, state, action):\n",
        "    return (\n",
        "        self.reward(state, action), \n",
        "        self.discount(state, action),\n",
        "        self.next_state(state, action))\n",
        "  \n",
        "  def update(self, state, action, reward, discount, next_state):\n",
        "    self.table_sas[state,action] = next_state \n",
        "    self.table_reward[state,action] = reward\n",
        "    self.table_discount[state, action] = discount"
      ],
      "execution_count": 0,
      "outputs": []
    },
    {
      "metadata": {
        "id": "rPBcz1riy_fD",
        "colab_type": "text"
      },
      "cell_type": "markdown",
      "source": [
        "## 1.2 Linear Model\n",
        "\n",
        "**[5 pts]** Implement a trainable linear model of the environment.\n",
        "\n",
        "The Model should implement: \n",
        "* a *next_state* method, taking a state and action and returning the predicted next state in the environment.\n",
        "* a *reward* method, taking a state and action and returning the predicted immediate reward associated to execution that action in that state.\n",
        "* a *discount* method, taking a state and action and returning the predicted discount associated to execution that action in that state.\n",
        "* a *transition* method, taking a state and an action and returning both the next state and the reward associated to that transition.\n",
        "* a *update* method, taking a full transition *(state, action, reward, next_state)* and updating the model (in its reward, discount and next_state component)\n",
        "\n",
        "For each selected action, the predicted reward, discount and next state will all be a linear function of the state.\n",
        "* $\\text{s'} = T_a s$\n",
        "* $\\text{r'} = R_a s$\n",
        "* $\\text{g'} = G_a s$\n",
        "\n",
        "Where $T_a$ is a matrix of shape $(\\text{number_of_features}, \\text{number_of_features})$, $R_a$ and $G_a$are vectors of shape $(\\text{number_of_features},)$\n",
        "\n",
        "The parameters of all these linear transformations must be trained by gradient descent. Write down the update to the parameters of the models and implement the update in the model below.\n",
        "\n"
      ]
    },
    {
      "metadata": {
        "id": "226SA-xjlyDe",
        "colab_type": "code",
        "colab": {
          "autoexec": {
            "startup": false,
            "wait_interval": 0
          }
        }
      },
      "cell_type": "code",
      "source": [
        "class LinearModel(object):\n",
        "\n",
        "  def __init__(self, number_of_features, number_of_actions):\n",
        "    self.Ta = np.zeros((number_of_actions,number_of_features,number_of_features))\n",
        "    self.Ra = np.zeros((number_of_actions,number_of_features))\n",
        "    self.Ga = np.zeros((number_of_actions,number_of_features))\n",
        "    self._number_of_features = number_of_features\n",
        "    self._number_of_actions = number_of_actions\n",
        "    \n",
        "\n",
        "  def next_state(self, s, a):\n",
        "    return np.matmul(self.Ta[a,:,:], s) \n",
        "    \n",
        "  \n",
        "  def reward(self, s, a):\n",
        "    return np.matmul(self.Ra[a,:], s) #r:num_features*1,s:(82,)\n",
        "    \n",
        "\n",
        "  def discount(self, s, a):\n",
        "    return np.matmul(self.Ga[a,:], s)\n",
        "\n",
        "  def transition(self, state, action):\n",
        "    return (\n",
        "        self.reward(state, action),\n",
        "        self.discount(state, action),\n",
        "        self.next_state(state, action))\n",
        "\n",
        "  def update(self, state, action, reward, discount, next_state, step_size=0.1):\n",
        "    next_s = self.next_state(state, action)\n",
        "    r = self.reward(state,action)\n",
        "    g = self.discount(state,action)\n",
        "    delta = np.reshape((next_state - next_s),(self._number_of_features,1))\n",
        "    self.Ta[action,:,:] = self.Ta[action,:,:]+step_size*delta*np.reshape(state,(1,self._number_of_features))\n",
        "    #self.Ta[action,:,:] = self.Ta[action,:,:]+step_size*np.tile((next_state-next_s),(self._number_of_features,1)).T*np.tile(state,(self._number_of_features,1))\n",
        "    self.Ra[action,:] = self.Ra[action,:]+step_size*(reward-r)*state\n",
        "    self.Ga[action,:] = self.Ga[action,:]+step_size*(discount-g)*state\n",
        "    "
      ],
      "execution_count": 0,
      "outputs": []
    },
    {
      "metadata": {
        "id": "omzJxb5ds0Iq",
        "colab_type": "text"
      },
      "cell_type": "markdown",
      "source": [
        "## 1.3 Experience Replay\n",
        "\n",
        "**[10 pts]** Implement an agent that uses **Experience Replay** to learn action values, at each step:\n",
        "* select actions randomly\n",
        "* accumulate all observed transitions *(s, a, r, s')* in the environment in a *replay buffer*,\n",
        "* apply an online Q-learning \n",
        "* apply multiple Q-learning updates based on transitions sampled (uniformly) from the *replay buffer* (in addition to the online updates).\n",
        "\n",
        "**Initialize** $Q(s, a)$ and $\\text{Model}(s, a)$ for all s ∈ S and a ∈ A(s)\n",
        "\n",
        "**Loop forever**:\n",
        "\n",
        "1. $S \\gets{}$current (nonterminal) state\n",
        " \n",
        "2. $A \\gets{} \\text{random_action}(S)$\n",
        " \n",
        "3. Take action $A$; observe resultant reward $R$, discount $\\gamma$, and state, $S'$\n",
        "\n",
        "4. $Q(S, A) \\gets Q(S, A) + \\alpha (R + \\gamma \\max_a Q(S', a) − Q(S, A))$\n",
        "\n",
        "5. $\\text{ReplayBuffer}.\\text{append_transition}(S, A, R, \\gamma, S')$\n",
        "\n",
        "6. Loop repeat n times:\n",
        "\n",
        "  1. $S, A, R, \\gamma, S' \\gets \\text{ReplayBuffer}.\\text{sample_transition}()$\n",
        "  \n",
        "  4. $Q(S, A) \\gets Q(S, A) + \\alpha (R + \\gamma \\max_a Q(S', a) − Q(S, A))$"
      ]
    },
    {
      "metadata": {
        "id": "TB9e_reb2pJX",
        "colab_type": "code",
        "colab": {
          "autoexec": {
            "startup": false,
            "wait_interval": 0
          }
        }
      },
      "cell_type": "code",
      "source": [
        " class ExperienceQ(object):\n",
        "\n",
        "  def __init__(\n",
        "      self, number_of_states, number_of_actions, initial_state, \n",
        "      behaviour_policy, num_offline_updates=0, step_size=0.1):\n",
        "    self._state = initial_state\n",
        "    self._action = 0\n",
        "    self._behaviour_policy = behaviour_policy\n",
        "    self._q = np.zeros((number_of_states, number_of_actions)) \n",
        "    self._step_size = step_size\n",
        "    self._num_offline_updates = num_offline_updates\n",
        "    self._transitions = []\n",
        "    self._number_of_states = number_of_states\n",
        "  @property\n",
        "  def q_values(self):\n",
        "    return self._q \n",
        "\n",
        "  def step(self, reward, discount, next_state):\n",
        "    s = self._state\n",
        "    a = self._action\n",
        "    r = reward\n",
        "    g = discount\n",
        "    next_s = next_state\n",
        "    self._q[s,a] = self._q[s,a] + self._step_size*(r+g*np.amax(self._q[next_s,:])-self._q[s,a])   \n",
        "    self._transitions.append([s,a,r,g,next_s])\n",
        "    \n",
        "    for i in range(self._num_offline_updates):\n",
        "      \n",
        "      sample = np.random.randint(len(self._transitions))\n",
        "      _s,_a,_r,_g,_next_s = self._transitions[sample]\n",
        "      #_s = np.int(_s)\n",
        "      #_a = np.int(_a)\n",
        "      self._q[_s,_a] = self._q[_s,_a] + self._step_size*(_r+_g*np.amax(self._q[_next_s,:])-self._q[_s,_a])  \n",
        "      \n",
        "    self._state = next_s\n",
        "    self._action = self._behaviour_policy(self._state )\n",
        "      \n",
        "    return self._action\n",
        "    \n",
        "      \n",
        "    \n",
        "    \n",
        "    "
      ],
      "execution_count": 0,
      "outputs": []
    },
    {
      "metadata": {
        "id": "MKfA7ifHvO-M",
        "colab_type": "text"
      },
      "cell_type": "markdown",
      "source": [
        "\n",
        "## 1.4 Dyna-Q\n",
        "**[10 pts]** Implement an agent that uses **Dyna-Q** to learn action values.  \n",
        "* select actions randomly\n",
        "* accumulate all observed transitions *(s, a, r, s')* in the environment in a *replay buffer*,\n",
        "* apply an online Q-learning to Q-value\n",
        "* apply an update to the *model* based on the latest transition\n",
        "* apply multiple Q-learning updates based on transitions *(s, a, model.reward(s), model.next_state(s))* for some previous state and action pair *(s, a)*.\n",
        "\n",
        "**Initialize** $Q(s, a)$ and $\\text{Model}(s, a)$ for all s ∈ S and a ∈ A(s)\n",
        "\n",
        "**Loop forever**:\n",
        "\n",
        "1. $S \\gets{}$current (nonterminal) state\n",
        " \n",
        "2. $A \\gets{} \\text{random_action}(S)$\n",
        " \n",
        "3. Take action $A$; observe resultant reward $R$, discount $\\gamma$, and state, $S'$\n",
        "\n",
        "4. $Q(S, A) \\gets Q(S, A) + \\alpha (R + \\gamma \\max_a Q(S', a) − Q(S, A))$\n",
        "\n",
        "5. $\\text{ReplayBuffer}.\\text{append_transition}(S, A)$\n",
        "\n",
        "6. $\\text{Model}.\\text{update}(S, A, R, \\gamma, S')$\n",
        "\n",
        "6. Loop repeat n times:\n",
        "\n",
        "  1. $S, A \\gets \\text{ReplayBuffer}.\\text{sample_transition}()$\n",
        "  \n",
        "  2. $R, \\gamma, S' \\gets \\text{Model}.\\text{transition}(S, A)$\n",
        "  \n",
        "  3. $Q(S, A) \\gets Q(S, A) + \\alpha (R + \\gamma \\max_a Q(S', a) − Q(S, A))$"
      ]
    },
    {
      "metadata": {
        "id": "WdJgVK6_3Q3-",
        "colab_type": "code",
        "colab": {
          "autoexec": {
            "startup": false,
            "wait_interval": 0
          }
        }
      },
      "cell_type": "code",
      "source": [
        "class DynaQ(object):\n",
        "\n",
        "  def __init__(\n",
        "      self, number_of_states, number_of_actions, initial_state, \n",
        "      behaviour_policy, num_offline_updates=0, step_size=0.1):\n",
        "    self._state = initial_state\n",
        "    self._action = 0\n",
        "    self._behaviour_policy = behaviour_policy\n",
        "    self._q = np.zeros((number_of_states, number_of_actions)) \n",
        "    self._step_size = step_size\n",
        "    self._num_offline_updates = num_offline_updates\n",
        "    self._transitions = []\n",
        "    self.model = TabularModel(number_of_states, number_of_actions)\n",
        "    \n",
        "    \n",
        "  @property\n",
        "  def q_values(self):\n",
        "    return self._q\n",
        "\n",
        "  def step(self, reward, discount, next_state):\n",
        "    s = self._state\n",
        "    a = self._action\n",
        "    r = reward\n",
        "    g = discount\n",
        "    next_s = np.int(next_state)\n",
        "    self._q[s,a] = self._q[s,a] + self._step_size*(r+g*np.amax(self._q[next_state,:])-self._q[s,a])   \n",
        "    self._transitions.append([s,a])\n",
        "    self.model.update(s, a, r, g, next_s)\n",
        "    \n",
        "    for i in range(self._num_offline_updates):      \n",
        "      sample = np.random.randint(len(self._transitions))\n",
        "      _s,_a = self._transitions[sample]\n",
        "      _r,_g,_next_s = self.model.transition(_s,_a)\n",
        "      #_s = np.int(_s)\n",
        "      #_a = np.int(_a)\n",
        "      _next_s = np.int(_next_s)\n",
        "      self._q[_s,_a] = self._q[_s,_a] + self._step_size*(_r+_g*np.amax(self._q[_next_s,:])-self._q[_s,_a]) \n",
        "      \n",
        "    self._state = next_s\n",
        "    self._action = self._behaviour_policy(next_s)\n",
        "    return self._action\n",
        "    "
      ],
      "execution_count": 0,
      "outputs": []
    },
    {
      "metadata": {
        "id": "ra01mmV5VPgm",
        "colab_type": "text"
      },
      "cell_type": "markdown",
      "source": [
        "## 1.5 Experience Replay with Linear Function Approximation\n",
        "\n",
        "**[10 pts]** Implement an agent that uses **Experience Replay** to learn action values as a linear function approximation over a given set of features.\n",
        "\n",
        "**Training**: To make sure of the experience in an online fashion, we will learn this linear model via gradient descent. Write down the update to the parameters of the value function and implement the update in the agent below."
      ]
    },
    {
      "metadata": {
        "id": "XOy_bpVa3j6V",
        "colab_type": "code",
        "colab": {
          "autoexec": {
            "startup": false,
            "wait_interval": 0
          }
        }
      },
      "cell_type": "code",
      "source": [
        "class FeatureExperienceQ(ExperienceQ):\n",
        "\n",
        "  def __init__(\n",
        "      self, number_of_features, number_of_actions, *args, **kwargs):\n",
        "    super(FeatureExperienceQ, self).__init__(\n",
        "        number_of_actions=number_of_actions, *args, **kwargs)\n",
        "    self._number_of_actions = number_of_actions\n",
        "    self._number_of_features = number_of_features\n",
        "    self.f = np.zeros((number_of_actions,number_of_features))\n",
        "    \n",
        "    \n",
        "\n",
        "  def q(self, state):\n",
        "    return np.matmul(self.f[:,:],state)\n",
        "\n",
        "  def step(self, reward, discount, next_state):\n",
        "    s = self._state\n",
        "    a = self._action\n",
        "    r = reward\n",
        "    g = discount\n",
        "    next_s = next_state\n",
        "    \n",
        "    qa = np.matmul(self.f[a,:],s) #s:(82,)\n",
        "    qns = np.amax(np.matmul(self.f[:,:],next_s))\n",
        "    delta = (r+g*qns)-qa\n",
        "    self.f[a,:] = self.f[a,:]+self._step_size*delta*s\n",
        "    self._transitions.append([s,a,r,g,next_s])\n",
        "    \n",
        "    for i in range(self._num_offline_updates):\n",
        "      \n",
        "      sample = np.random.randint(len(self._transitions))\n",
        "      _s,_a,_r,_g,_next_s = self._transitions[sample]\n",
        "      #_a = np.int(_a)\n",
        "      _qa = np.matmul(self.f[_a,:],_s) #s:(82,) \n",
        "      _qns = np.amax(np.matmul(self.f[:,:],_next_s))\n",
        "      _delta = _r+_g*_qns-_qa\n",
        "      self.f[_a,:] = self.f[_a,:]+self._step_size*_delta*_s\n",
        "  \n",
        "    \n",
        "    self._state = next_s\n",
        "    self._action = self._behaviour_policy(s)\n",
        "    \n",
        "      \n",
        "    return self._action"
      ],
      "execution_count": 0,
      "outputs": []
    },
    {
      "metadata": {
        "id": "hlu3YPGAO9ss",
        "colab_type": "text"
      },
      "cell_type": "markdown",
      "source": [
        "\n",
        "## 1.6 Dyna-Q with Linear Function Approximation\n",
        "\n",
        "**[10 pts]** Implement an agent that uses **Dyna-Q** that uses a linear function approximation to represent the value functions and a learnt linear model of the environment (represent and learn both the **transition model**(action conditioned) and the **reward model** as linear transformations of the given set of features).  \n",
        "* select actions randomly\n",
        "* accumulate all observed transitions *(s, a, r, s')* in the environment in a *replay buffer*,\n",
        "* apply an online Q-learning to Q-value\n",
        "* apply an update to the *model* based on the latest transition, use a step_size of 0.01\n",
        "* apply multiple Q-learning updates based on transitions *(s, a, model.reward(s), model.next_state(s))* for some previous state and action pair *(s, a)*.\n",
        "\n",
        "**Initialize** $Q(s, a)$ and $\\text{Model}(s, a)$ for all s ∈ S and a ∈ A(s)\n",
        "\n",
        "**Loop forever**:\n",
        "\n",
        "1. $S \\gets{}$current (nonterminal) state\n",
        " \n",
        "2. $A \\gets{} \\text{random_action}(S)$\n",
        " \n",
        "3. Take action $A$; observe resultant reward $R$, discount $\\gamma$, and state, $S'$\n",
        "\n",
        "4. $Q(S, A) \\gets Q(S, A) + \\alpha (R + \\gamma \\max_a Q(S', a) − Q(S, A))$\n",
        "\n",
        "5. $\\text{ReplayBuffer}.\\text{append_transition}(S, A)$\n",
        "\n",
        "6. $\\text{Model}.\\text{update}(S, A, R, \\gamma, S')$\n",
        "\n",
        "6. Loop repeat n times:\n",
        "\n",
        "  1. $S, A \\gets \\text{ReplayBuffer}.\\text{sample_transition}()$\n",
        "  \n",
        "  2. $R, \\gamma, S' \\gets \\text{Model}.\\text{transition}(S, A)$\n",
        "  \n",
        "  3. $Q(S, A) \\gets Q(S, A) + \\alpha (R + \\gamma \\max_a Q(S', a) − Q(S, A))$"
      ]
    },
    {
      "metadata": {
        "id": "1RxFwgIU39dI",
        "colab_type": "code",
        "colab": {
          "autoexec": {
            "startup": false,
            "wait_interval": 0
          }
        }
      },
      "cell_type": "code",
      "source": [
        "class FeatureDynaQ(DynaQ):\n",
        "\n",
        "  def __init__(self, number_of_features, number_of_actions, *args, **kwargs):\n",
        "    super(FeatureDynaQ, self).__init__(\n",
        "        number_of_actions=number_of_actions, *args, **kwargs)\n",
        "    self._number_of_actions = number_of_actions\n",
        "    self._number_of_features = number_of_features\n",
        "    self.f = np.zeros((number_of_actions,number_of_features))\n",
        "    self.model = LinearModel(number_of_features, number_of_actions)\n",
        "\n",
        "\n",
        "  def q(self, state):\n",
        "    return np.matmul(self.f[:,:],state)\n",
        "\n",
        "  def step(self, reward, discount, next_state):\n",
        "    s = self._state\n",
        "    a = self._action\n",
        "    r = reward\n",
        "    g = discount\n",
        "    next_s = next_state\n",
        "    #qa = self.q(s)[a] + self._step_size*(r+g*np.amax(self.q(next_s))-self.q(s)[a])\n",
        "    #qa_ = np.matmul(self.f[a,:],s)\n",
        "\n",
        "    delta = r+g*np.amax(self.q(next_s))-self.q(s)[a]\n",
        "    self.f[a,:] = self.f[a,:]+self._step_size*delta*s\n",
        "    self._transitions.append([s,a])\n",
        "    self.model.update(s, a, r, g, next_s,0.01)\n",
        "    \n",
        "    for i in range(self._num_offline_updates):      \n",
        "      sample = np.random.randint(len(self._transitions))\n",
        "      _s,_a = self._transitions[sample]\n",
        "      _r,_g,_next_s = self.model.transition(_s,_a)\n",
        "      _a = np.int(_a)\n",
        "      \n",
        "      #_qa = self.q(_s)[_a] + self._step_size*(_r+_g*np.amax(self.q(_next_s))-self.q(_s)[_a]) \n",
        "      #_qa_ = np.matmul(self.f[_a,:],_s)\n",
        "      _delta = _r+_g*np.amax(self.q(_next_s))-self.q(_s)[_a]\n",
        "   \n",
        "      self.f[_a,:] = self.f[_a,:]+self._step_size*_delta*_s #self._step_size*\n",
        "    \n",
        "        \n",
        "    self._state = next_s\n",
        "    self._action = self._behaviour_policy(s)\n",
        "    \n",
        "    return self._action"
      ],
      "execution_count": 0,
      "outputs": []
    },
    {
      "metadata": {
        "id": "1jZsPzCmDxAh",
        "colab_type": "text"
      },
      "cell_type": "markdown",
      "source": [
        "# Assignment 2: Analyse Results"
      ]
    },
    {
      "metadata": {
        "id": "Q5AWyVs16A-x",
        "colab_type": "text"
      },
      "cell_type": "markdown",
      "source": [
        "## 2.1 Tabular Learning"
      ]
    },
    {
      "metadata": {
        "id": "qekcmj4R5Y6J",
        "colab_type": "text"
      },
      "cell_type": "markdown",
      "source": [
        "### 2.1.1 Data Efficiency"
      ]
    },
    {
      "metadata": {
        "id": "JWutE_URvT7K",
        "colab_type": "text"
      },
      "cell_type": "markdown",
      "source": [
        "**Online Q-learning**\n",
        "\n",
        "* $\\text{number_of_steps}$ = $1e3$ and $\\text{num_offline_updates}$ = $0$"
      ]
    },
    {
      "metadata": {
        "id": "Iix-yw-MKS4Y",
        "colab_type": "code",
        "colab": {
          "autoexec": {
            "startup": false,
            "wait_interval": 0
          },
          "output_extras": [
            {
              "item_id": 1
            }
          ],
          "base_uri": "https://localhost:8080/",
          "height": 476
        },
        "outputId": "b915627a-5011-43e5-981e-25cbfd5f288d",
        "executionInfo": {
          "status": "ok",
          "timestamp": 1521658571267,
          "user_tz": 0,
          "elapsed": 1186,
          "user": {
            "displayName": "bing chen",
            "photoUrl": "https://lh3.googleusercontent.com/a/default-user=s128",
            "userId": "100806938327485036108"
          }
        }
      },
      "cell_type": "code",
      "source": [
        "grid = Grid()\n",
        "agent = ExperienceQ(\n",
        "  grid._layout.size, 4, grid.get_obs(),\n",
        "  random_policy, num_offline_updates=0, step_size=0.1)\n",
        "run_experiment(grid, agent, int(1e3))\n",
        "q = agent.q_values.reshape(grid._layout.shape + (4,))\n",
        "plot_action_values(q)"
      ],
      "execution_count": 13,
      "outputs": [
        {
          "output_type": "display_data",
          "data": {
            "image/png": "[encoded data removed]",
            "text/plain": [
              "<matplotlib.figure.Figure at 0x7fd56c9d2810>"
            ]
          },
          "metadata": {
            "tags": []
          }
        }
      ]
    },
    {
      "metadata": {
        "id": "KZXsXJYBgC_N",
        "colab_type": "text"
      },
      "cell_type": "markdown",
      "source": [
        "**Experience Replay**\n",
        "\n",
        "* $\\text{number_of_steps}$ = $1e3$ and $\\text{num_offline_updates}$ = $30$"
      ]
    },
    {
      "metadata": {
        "id": "ASml5uAeIl4A",
        "colab_type": "code",
        "colab": {
          "autoexec": {
            "startup": false,
            "wait_interval": 0
          },
          "output_extras": [
            {
              "item_id": 1
            }
          ],
          "base_uri": "https://localhost:8080/",
          "height": 476
        },
        "outputId": "67f548d0-a544-44bb-d388-f7533a89df34",
        "executionInfo": {
          "status": "ok",
          "timestamp": 1521658572723,
          "user_tz": 0,
          "elapsed": 1407,
          "user": {
            "displayName": "bing chen",
            "photoUrl": "https://lh3.googleusercontent.com/a/default-user=s128",
            "userId": "100806938327485036108"
          }
        }
      },
      "cell_type": "code",
      "source": [
        "grid = Grid()\n",
        "agent = ExperienceQ(\n",
        "  grid._layout.size, 4, grid.get_obs(),\n",
        "  random_policy, num_offline_updates=30, step_size=0.1)\n",
        "run_experiment(grid, agent, int(1e3))\n",
        "q = agent.q_values.reshape(grid._layout.shape + (4,))\n",
        "plot_action_values(q)"
      ],
      "execution_count": 14,
      "outputs": [
        {
          "output_type": "display_data",
          "data": {
            "image/png": "[encoded data removed]",
            "text/plain": [
              "<matplotlib.figure.Figure at 0x7fd56cf62090>"
            ]
          },
          "metadata": {
            "tags": []
          }
        }
      ]
    },
    {
      "metadata": {
        "id": "dwVs2rrpwL4H",
        "colab_type": "text"
      },
      "cell_type": "markdown",
      "source": [
        "**DynaQ**\n",
        "\n",
        "* $\\text{number_of_steps}$ = $1e3$ and $\\text{num_offline_updates}$ = $30$"
      ]
    },
    {
      "metadata": {
        "id": "YG-_cjw-wRzm",
        "colab_type": "code",
        "colab": {
          "autoexec": {
            "startup": false,
            "wait_interval": 0
          },
          "output_extras": [
            {
              "item_id": 1
            }
          ],
          "base_uri": "https://localhost:8080/",
          "height": 476
        },
        "outputId": "262c5d3c-8a42-4a7f-a7a4-7f611ae3a187",
        "executionInfo": {
          "status": "ok",
          "timestamp": 1521658574234,
          "user_tz": 0,
          "elapsed": 1469,
          "user": {
            "displayName": "bing chen",
            "photoUrl": "https://lh3.googleusercontent.com/a/default-user=s128",
            "userId": "100806938327485036108"
          }
        }
      },
      "cell_type": "code",
      "source": [
        "grid = Grid()\n",
        "agent = DynaQ(\n",
        "  grid._layout.size, 4, grid.get_obs(),\n",
        "  random_policy, num_offline_updates=30, step_size=0.1)\n",
        "run_experiment(grid, agent, int(1e3))\n",
        "q = agent.q_values.reshape(grid._layout.shape + (4,))\n",
        "plot_action_values(q)"
      ],
      "execution_count": 15,
      "outputs": [
        {
          "output_type": "display_data",
          "data": {
            "image/png": "[encoded data removed]",
            "text/plain": [
              "<matplotlib.figure.Figure at 0x7fd56a538e90>"
            ]
          },
          "metadata": {
            "tags": []
          }
        }
      ]
    },
    {
      "metadata": {
        "id": "ujZNsXFY52fi",
        "colab_type": "text"
      },
      "cell_type": "markdown",
      "source": [
        "### 2.1.2 Computational Cost\n",
        "\n",
        "What if sampling from the environment is cheap and I don't care about data efficiency but only care about the number of updates to the model?\n",
        "\n",
        "How do Online Q-learning, ExperienceReplay and Dyna-Q compare if I apply the same number of total updates?"
      ]
    },
    {
      "metadata": {
        "id": "SAdl2r7NwUF4",
        "colab_type": "text"
      },
      "cell_type": "markdown",
      "source": [
        "**Online Q-learning**\n",
        "\n",
        "* $\\text{number_of_steps}$ = $3e4$ and $\\text{num_offline_updates}$ = $0$\n",
        "\n"
      ]
    },
    {
      "metadata": {
        "id": "OVVWtGoUwiAe",
        "colab_type": "code",
        "colab": {
          "autoexec": {
            "startup": false,
            "wait_interval": 0
          },
          "output_extras": [
            {
              "item_id": 1
            },
            {
              "item_id": 2
            },
            {
              "item_id": 3
            }
          ],
          "base_uri": "https://localhost:8080/",
          "height": 812
        },
        "outputId": "4e2ad503-1788-4ce6-938a-9c33eb5e37a4",
        "executionInfo": {
          "status": "ok",
          "timestamp": 1521658576111,
          "user_tz": 0,
          "elapsed": 1830,
          "user": {
            "displayName": "bing chen",
            "photoUrl": "https://lh3.googleusercontent.com/a/default-user=s128",
            "userId": "100806938327485036108"
          }
        }
      },
      "cell_type": "code",
      "source": [
        "grid = Grid()\n",
        "agent = ExperienceQ(\n",
        "  grid._layout.size, 4, grid.get_obs(),\n",
        "  random_policy, num_offline_updates=0, step_size=0.1)\n",
        "run_experiment(grid, agent, int(3e4))\n",
        "q = agent.q_values.reshape(grid._layout.shape + (4,))\n",
        "plot_action_values(q)\n",
        "plot_greedy_policy(grid, q)"
      ],
      "execution_count": 16,
      "outputs": [
        {
          "output_type": "stream",
          "text": [
            "/usr/local/lib/python2.7/dist-packages/ipykernel_launcher.py:58: MatplotlibDeprecationWarning: pyplot.hold is deprecated.\n",
            "    Future behavior will be consistent with the long-time default:\n",
            "    plot commands add elements without first clearing the\n",
            "    Axes and/or Figure.\n",
            "/usr/local/lib/python2.7/dist-packages/matplotlib/__init__.py:805: MatplotlibDeprecationWarning: axes.hold is deprecated. Please remove it from your matplotlibrc and/or style files.\n",
            "  mplDeprecation)\n",
            "/usr/local/lib/python2.7/dist-packages/matplotlib/rcsetup.py:155: MatplotlibDeprecationWarning: axes.hold is deprecated, will be removed in 3.0\n",
            "  mplDeprecation)\n"
          ],
          "name": "stderr"
        },
        {
          "output_type": "display_data",
          "data": {
            "image/png": "[encoded data removed]",
            "text/plain": [
              "<matplotlib.figure.Figure at 0x7fd56cbebd10>"
            ]
          },
          "metadata": {
            "tags": []
          }
        },
        {
          "output_type": "display_data",
          "data": {
            "image/png": "[encoded data removed]",
            "text/plain": [
              "<matplotlib.figure.Figure at 0x7fd57213ee50>"
            ]
          },
          "metadata": {
            "tags": []
          }
        }
      ]
    },
    {
      "metadata": {
        "id": "AoO6dEZqftB1",
        "colab_type": "text"
      },
      "cell_type": "markdown",
      "source": [
        "**ExperienceReplay**\n",
        "\n",
        "* $\\text{number_of_steps}$ = $1e3$ and $\\text{num_offline_updates}$ = $30$"
      ]
    },
    {
      "metadata": {
        "id": "PuoUs8xVxady",
        "colab_type": "code",
        "colab": {
          "autoexec": {
            "startup": false,
            "wait_interval": 0
          },
          "output_extras": [
            {
              "item_id": 1
            },
            {
              "item_id": 2
            },
            {
              "item_id": 3
            }
          ],
          "base_uri": "https://localhost:8080/",
          "height": 724
        },
        "outputId": "08bec7b6-d8ff-4649-8c24-dfac9de14115",
        "executionInfo": {
          "status": "ok",
          "timestamp": 1521658578104,
          "user_tz": 0,
          "elapsed": 1942,
          "user": {
            "displayName": "bing chen",
            "photoUrl": "https://lh3.googleusercontent.com/a/default-user=s128",
            "userId": "100806938327485036108"
          }
        }
      },
      "cell_type": "code",
      "source": [
        "grid = Grid()\n",
        "agent = ExperienceQ(\n",
        "  grid._layout.size, 4, grid.get_obs(),\n",
        "  random_policy, num_offline_updates=30, step_size=0.1)\n",
        "run_experiment(grid, agent, int(1e3))\n",
        "q = agent.q_values.reshape(grid._layout.shape + (4,))\n",
        "plot_action_values(q)\n",
        "plot_greedy_policy(grid, q)"
      ],
      "execution_count": 17,
      "outputs": [
        {
          "output_type": "stream",
          "text": [
            "/usr/local/lib/python2.7/dist-packages/ipykernel_launcher.py:58: MatplotlibDeprecationWarning: pyplot.hold is deprecated.\n",
            "    Future behavior will be consistent with the long-time default:\n",
            "    plot commands add elements without first clearing the\n",
            "    Axes and/or Figure.\n"
          ],
          "name": "stderr"
        },
        {
          "output_type": "display_data",
          "data": {
            "image/png": "[encoded data removed]",
            "text/plain": [
              "<matplotlib.figure.Figure at 0x7fd569f3e9d0>"
            ]
          },
          "metadata": {
            "tags": []
          }
        },
        {
          "output_type": "display_data",
          "data": {
            "image/png": "[encoded data removed]",
            "text/plain": [
              "<matplotlib.figure.Figure at 0x7fd569f3e750>"
            ]
          },
          "metadata": {
            "tags": []
          }
        }
      ]
    },
    {
      "metadata": {
        "id": "2U-4sam12y95",
        "colab_type": "text"
      },
      "cell_type": "markdown",
      "source": [
        "**DynaQ**\n",
        "\n",
        "* $\\text{number_of_steps}$ = $1e3$ and $\\text{num_offline_updates}$ = $30$"
      ]
    },
    {
      "metadata": {
        "id": "hDOW4dd221L6",
        "colab_type": "code",
        "colab": {
          "autoexec": {
            "startup": false,
            "wait_interval": 0
          },
          "output_extras": [
            {
              "item_id": 1
            },
            {
              "item_id": 2
            },
            {
              "item_id": 3
            }
          ],
          "base_uri": "https://localhost:8080/",
          "height": 724
        },
        "outputId": "4c1b0545-5e7f-4f1b-e5b8-a00b868ee0ee",
        "executionInfo": {
          "status": "ok",
          "timestamp": 1521658579927,
          "user_tz": 0,
          "elapsed": 1783,
          "user": {
            "displayName": "bing chen",
            "photoUrl": "https://lh3.googleusercontent.com/a/default-user=s128",
            "userId": "100806938327485036108"
          }
        }
      },
      "cell_type": "code",
      "source": [
        "grid = Grid()\n",
        "agent = DynaQ(\n",
        "  grid._layout.size, 4, grid.get_obs(),\n",
        "  random_policy, num_offline_updates=30, step_size=0.1)\n",
        "run_experiment(grid, agent, int(1e3))\n",
        "q = agent.q_values.reshape(grid._layout.shape + (4,))\n",
        "plot_action_values(q)\n",
        "plot_greedy_policy(grid, q)"
      ],
      "execution_count": 18,
      "outputs": [
        {
          "output_type": "stream",
          "text": [
            "/usr/local/lib/python2.7/dist-packages/ipykernel_launcher.py:58: MatplotlibDeprecationWarning: pyplot.hold is deprecated.\n",
            "    Future behavior will be consistent with the long-time default:\n",
            "    plot commands add elements without first clearing the\n",
            "    Axes and/or Figure.\n"
          ],
          "name": "stderr"
        },
        {
          "output_type": "display_data",
          "data": {
            "image/png": "[encoded data removed]",
            "text/plain": [
              "<matplotlib.figure.Figure at 0x7fd56a322c50>"
            ]
          },
          "metadata": {
            "tags": []
          }
        },
        {
          "output_type": "display_data",
          "data": {
            "image/png": "[encoded data removed]",
            "text/plain": [
              "<matplotlib.figure.Figure at 0x7fd56a322150>"
            ]
          },
          "metadata": {
            "tags": []
          }
        }
      ]
    },
    {
      "metadata": {
        "id": "GBLluo2AXMsH",
        "colab_type": "text"
      },
      "cell_type": "markdown",
      "source": [
        "## 2.3 Linear function approximation\n",
        "\n",
        "We will now consider the $\\text{FeatureGrid}$ domain.\n",
        "\n",
        "And evaluate $\\text{Q-learning}$, $\\text{Experience Replay}$ and $\\text{DynaQ}$, in the context of linear function approximation.\n",
        "\n",
        "All experiments are run for $\\text{number_of_steps}$ = $1e5$"
      ]
    },
    {
      "metadata": {
        "id": "cSrpV6pgcCR-",
        "colab_type": "text"
      },
      "cell_type": "markdown",
      "source": [
        "**Online Q-learning with Linear Function Approximation**"
      ]
    },
    {
      "metadata": {
        "id": "zwlRPm1uXMyv",
        "colab_type": "code",
        "colab": {
          "autoexec": {
            "startup": false,
            "wait_interval": 0
          },
          "output_extras": [
            {
              "item_id": 1
            },
            {
              "item_id": 2
            },
            {
              "item_id": 3
            }
          ],
          "base_uri": "https://localhost:8080/",
          "height": 724
        },
        "outputId": "55ba98c8-9d6a-481a-b745-e23cbe71094d",
        "executionInfo": {
          "status": "ok",
          "timestamp": 1521658609655,
          "user_tz": 0,
          "elapsed": 29689,
          "user": {
            "displayName": "bing chen",
            "photoUrl": "https://lh3.googleusercontent.com/a/default-user=s128",
            "userId": "100806938327485036108"
          }
        }
      },
      "cell_type": "code",
      "source": [
        "grid = FeatureGrid()\n",
        "\n",
        "agent = FeatureExperienceQ(\n",
        "  number_of_features=grid.number_of_features, number_of_actions=4,\n",
        "  number_of_states=grid._layout.size, initial_state=grid.get_obs(),\n",
        "  num_offline_updates=0, step_size=0.01, behaviour_policy=random_policy)\n",
        "run_experiment(grid, agent, int(1e5))\n",
        "q = np.reshape(\n",
        "    np.array([agent.q(grid.int_to_features(i)) for i in xrange(grid.number_of_states)]),\n",
        "    [grid._layout.shape[0], grid._layout.shape[1], 4])\n",
        "plot_action_values(q)\n",
        "plot_greedy_policy(grid, q)"
      ],
      "execution_count": 19,
      "outputs": [
        {
          "output_type": "stream",
          "text": [
            "/usr/local/lib/python2.7/dist-packages/ipykernel_launcher.py:58: MatplotlibDeprecationWarning: pyplot.hold is deprecated.\n",
            "    Future behavior will be consistent with the long-time default:\n",
            "    plot commands add elements without first clearing the\n",
            "    Axes and/or Figure.\n"
          ],
          "name": "stderr"
        },
        {
          "output_type": "display_data",
          "data": {
            "image/png": "[encoded data removed]",
            "text/plain": [
              "<matplotlib.figure.Figure at 0x7fd590f8c350>"
            ]
          },
          "metadata": {
            "tags": []
          }
        },
        {
          "output_type": "display_data",
          "data": {
            "image/png": "[encoded data removed]",
            "text/plain": [
              "<matplotlib.figure.Figure at 0x7fd56a1fb650>"
            ]
          },
          "metadata": {
            "tags": []
          }
        }
      ]
    },
    {
      "metadata": {
        "id": "LguqeKO4dXBH",
        "colab_type": "text"
      },
      "cell_type": "markdown",
      "source": [
        "**Experience Replay with Linear Function Approximation**"
      ]
    },
    {
      "metadata": {
        "id": "Wb6XeKzXcIsi",
        "colab_type": "code",
        "colab": {
          "autoexec": {
            "startup": false,
            "wait_interval": 0
          },
          "output_extras": [
            {
              "item_id": 1
            },
            {
              "item_id": 2
            },
            {
              "item_id": 3
            }
          ],
          "base_uri": "https://localhost:8080/",
          "height": 724
        },
        "outputId": "a960b60a-45ea-4519-b4c4-5e9887887aad",
        "executionInfo": {
          "status": "ok",
          "timestamp": 1521658656312,
          "user_tz": 0,
          "elapsed": 46626,
          "user": {
            "displayName": "bing chen",
            "photoUrl": "https://lh3.googleusercontent.com/a/default-user=s128",
            "userId": "100806938327485036108"
          }
        }
      },
      "cell_type": "code",
      "source": [
        "grid = FeatureGrid()\n",
        "\n",
        "agent = FeatureExperienceQ(\n",
        "  number_of_features=grid.number_of_features, number_of_actions=4,\n",
        "  number_of_states=grid._layout.size, initial_state=grid.get_obs(),\n",
        "  num_offline_updates=10, step_size=0.01, behaviour_policy=random_policy)\n",
        "run_experiment(grid, agent, int(1e5))\n",
        "q = np.reshape(\n",
        "    np.array([agent.q(grid.int_to_features(i)) for i in xrange(grid.number_of_states)]),\n",
        "    [grid._layout.shape[0], grid._layout.shape[1], 4])\n",
        "plot_action_values(q)\n",
        "plot_greedy_policy(grid, q)"
      ],
      "execution_count": 20,
      "outputs": [
        {
          "output_type": "stream",
          "text": [
            "/usr/local/lib/python2.7/dist-packages/ipykernel_launcher.py:58: MatplotlibDeprecationWarning: pyplot.hold is deprecated.\n",
            "    Future behavior will be consistent with the long-time default:\n",
            "    plot commands add elements without first clearing the\n",
            "    Axes and/or Figure.\n"
          ],
          "name": "stderr"
        },
        {
          "output_type": "display_data",
          "data": {
            "image/png": "[encoded data removed]",
            "text/plain": [
              "<matplotlib.figure.Figure at 0x7fd56cbebd10>"
            ]
          },
          "metadata": {
            "tags": []
          }
        },
        {
          "output_type": "display_data",
          "data": {
            "image/png": "[encoded data removed]",
            "text/plain": [
              "<matplotlib.figure.Figure at 0x7fd57f233250>"
            ]
          },
          "metadata": {
            "tags": []
          }
        }
      ]
    },
    {
      "metadata": {
        "id": "ERjyViuj1EkS",
        "colab_type": "text"
      },
      "cell_type": "markdown",
      "source": [
        "**DynaQ with Linear Function Approximation**"
      ]
    },
    {
      "metadata": {
        "id": "DVDRVknH1MXw",
        "colab_type": "code",
        "colab": {
          "autoexec": {
            "startup": false,
            "wait_interval": 0
          },
          "output_extras": [
            {
              "item_id": 1
            },
            {
              "item_id": 2
            },
            {
              "item_id": 3
            }
          ],
          "base_uri": "https://localhost:8080/",
          "height": 724
        },
        "outputId": "ec11816a-5697-42cc-8cb7-42ecf3de178a",
        "executionInfo": {
          "status": "ok",
          "timestamp": 1521658856375,
          "user_tz": 0,
          "elapsed": 66870,
          "user": {
            "displayName": "bing chen",
            "photoUrl": "https://lh3.googleusercontent.com/a/default-user=s128",
            "userId": "100806938327485036108"
          }
        }
      },
      "cell_type": "code",
      "source": [
        "grid = FeatureGrid()\n",
        "\n",
        "agent = FeatureDynaQ(\n",
        "  number_of_features=grid.number_of_features, \n",
        "  number_of_actions=4,\n",
        "  number_of_states=grid._layout.size, \n",
        "  initial_state=grid.get_obs(),\n",
        "  num_offline_updates=10, \n",
        "  step_size=0.01,\n",
        "  behaviour_policy=random_policy)\n",
        "\n",
        "run_experiment(grid, agent, int(1e5))\n",
        "q = np.reshape(\n",
        "    np.array([agent.q(grid.int_to_features(i)) for i in xrange(grid.number_of_states)]),\n",
        "    [grid._layout.shape[0], grid._layout.shape[1], 4])\n",
        "plot_action_values(q)\n",
        "plot_greedy_policy(grid, q)"
      ],
      "execution_count": 29,
      "outputs": [
        {
          "output_type": "stream",
          "text": [
            "/usr/local/lib/python2.7/dist-packages/ipykernel_launcher.py:58: MatplotlibDeprecationWarning: pyplot.hold is deprecated.\n",
            "    Future behavior will be consistent with the long-time default:\n",
            "    plot commands add elements without first clearing the\n",
            "    Axes and/or Figure.\n"
          ],
          "name": "stderr"
        },
        {
          "output_type": "display_data",
          "data": {
            "image/png": "[encoded data removed]",
            "text/plain": [
              "<matplotlib.figure.Figure at 0x7fd571e6c090>"
            ]
          },
          "metadata": {
            "tags": []
          }
        },
        {
          "output_type": "display_data",
          "data": {
            "image/png": "[encoded data removed]",
            "text/plain": [
              "<matplotlib.figure.Figure at 0x7fd59420b3d0>"
            ]
          },
          "metadata": {
            "tags": []
          }
        }
      ]
    },
    {
      "metadata": {
        "id": "arP0Nf0XUGrB",
        "colab_type": "text"
      },
      "cell_type": "markdown",
      "source": [
        "## 2.4 Non stationary Environments\n",
        "\n",
        "We now consider a non-stationary setting where after `pretrain_steps` in the environment, the goal is moved to a new location (from the top-right of the grid to the bottom-left).\n",
        "\n",
        "The agent is allowed to continue training for a (shorter) amount of time in this new setting, and then we evaluate the value estimates."
      ]
    },
    {
      "metadata": {
        "id": "Hjhd4kylg-BA",
        "colab_type": "code",
        "colab": {
          "autoexec": {
            "startup": false,
            "wait_interval": 0
          }
        }
      },
      "cell_type": "code",
      "source": [
        "pretrain_steps = 2e4\n",
        "new_env_steps = pretrain_steps / 30"
      ],
      "execution_count": 0,
      "outputs": []
    },
    {
      "metadata": {
        "id": "K1kJZmOgX7du",
        "colab_type": "text"
      },
      "cell_type": "markdown",
      "source": [
        "**Online Q-learning**"
      ]
    },
    {
      "metadata": {
        "id": "6P9lC323X7uH",
        "colab_type": "code",
        "colab": {
          "autoexec": {
            "startup": false,
            "wait_interval": 0
          },
          "output_extras": [
            {
              "item_id": 1
            }
          ],
          "base_uri": "https://localhost:8080/",
          "height": 258
        },
        "outputId": "85ccc2a9-9c6a-43de-b118-ad777402d7f7",
        "executionInfo": {
          "status": "ok",
          "timestamp": 1521658717987,
          "user_tz": 0,
          "elapsed": 814,
          "user": {
            "displayName": "bing chen",
            "photoUrl": "https://lh3.googleusercontent.com/a/default-user=s128",
            "userId": "100806938327485036108"
          }
        }
      },
      "cell_type": "code",
      "source": [
        "# Train on first environment\n",
        "grid = Grid()\n",
        "agent = ExperienceQ(\n",
        "  grid._layout.size, 4, grid.get_obs(),\n",
        "  random_policy, num_offline_updates=0, step_size=0.1)\n",
        "run_experiment(grid, agent, int(pretrain_steps))\n",
        "q = agent.q_values.reshape(grid._layout.shape + (4,))\n",
        "# plot_state_value(q)\n",
        "\n",
        "# Change goal location\n",
        "alt_grid = AltGrid()\n",
        "run_experiment(alt_grid, agent, int(new_env_steps))\n",
        "alt_q = agent.q_values.reshape(alt_grid._layout.shape + (4,))\n",
        "plot_state_value(alt_q)"
      ],
      "execution_count": 23,
      "outputs": [
        {
          "output_type": "display_data",
          "data": {
            "image/png": "[encoded data removed]",
            "text/plain": [
              "<matplotlib.figure.Figure at 0x7fd590f8c350>"
            ]
          },
          "metadata": {
            "tags": []
          }
        }
      ]
    },
    {
      "metadata": {
        "id": "z0UeIltFc3lR",
        "colab_type": "text"
      },
      "cell_type": "markdown",
      "source": [
        "**Experience Replay**"
      ]
    },
    {
      "metadata": {
        "id": "bq5msw1iY-Q5",
        "colab_type": "code",
        "colab": {
          "autoexec": {
            "startup": false,
            "wait_interval": 0
          },
          "output_extras": [
            {
              "item_id": 1
            }
          ],
          "base_uri": "https://localhost:8080/",
          "height": 258
        },
        "outputId": "eb4bd14d-9ed4-4ac5-fe4a-969ebef17976",
        "executionInfo": {
          "status": "ok",
          "timestamp": 1521658723355,
          "user_tz": 0,
          "elapsed": 5021,
          "user": {
            "displayName": "bing chen",
            "photoUrl": "https://lh3.googleusercontent.com/a/default-user=s128",
            "userId": "100806938327485036108"
          }
        }
      },
      "cell_type": "code",
      "source": [
        "# Train on first environment\n",
        "grid = Grid()\n",
        "agent = ExperienceQ(\n",
        "  grid._layout.size, 4, grid.get_obs(),\n",
        "  random_policy, num_offline_updates=30, step_size=0.1)\n",
        "run_experiment(grid, agent, int(pretrain_steps))\n",
        "q = agent.q_values.reshape(grid._layout.shape + (4,))\n",
        "# plot_state_value(q)\n",
        "\n",
        "# Change goal location\n",
        "alt_grid = AltGrid()\n",
        "run_experiment(alt_grid, agent, int(new_env_steps))\n",
        "alt_q = agent.q_values.reshape(alt_grid._layout.shape + (4,))\n",
        "plot_state_value(alt_q)"
      ],
      "execution_count": 24,
      "outputs": [
        {
          "output_type": "display_data",
          "data": {
            "image/png": "[encoded data removed]",
            "text/plain": [
              "<matplotlib.figure.Figure at 0x7fd56a618850>"
            ]
          },
          "metadata": {
            "tags": []
          }
        }
      ]
    },
    {
      "metadata": {
        "id": "uPHiZc0-X26F",
        "colab_type": "text"
      },
      "cell_type": "markdown",
      "source": [
        "**Dyna**"
      ]
    },
    {
      "metadata": {
        "id": "AwztU4EbUXe0",
        "colab_type": "code",
        "colab": {
          "autoexec": {
            "startup": false,
            "wait_interval": 0
          },
          "output_extras": [
            {
              "item_id": 1
            }
          ],
          "base_uri": "https://localhost:8080/",
          "height": 258
        },
        "outputId": "ac12a8a9-bbf9-4d31-cb30-79fd7e8353df",
        "executionInfo": {
          "status": "ok",
          "timestamp": 1521658729225,
          "user_tz": 0,
          "elapsed": 5834,
          "user": {
            "displayName": "bing chen",
            "photoUrl": "https://lh3.googleusercontent.com/a/default-user=s128",
            "userId": "100806938327485036108"
          }
        }
      },
      "cell_type": "code",
      "source": [
        "# Train on first environment\n",
        "grid = Grid()\n",
        "agent = DynaQ(\n",
        "  grid._layout.size, 4, grid.get_obs(),\n",
        "  random_policy, num_offline_updates=30, step_size=0.1)\n",
        "run_experiment(grid, agent, int(pretrain_steps))\n",
        "q = agent.q_values.reshape(grid._layout.shape + (4,))\n",
        "# plot_state_value(q)\n",
        "\n",
        "# Change goal location\n",
        "alt_grid = AltGrid()\n",
        "run_experiment(alt_grid, agent, int(new_env_steps))\n",
        "alt_q = agent.q_values.reshape(alt_grid._layout.shape + (4,))\n",
        "plot_state_value(alt_q)"
      ],
      "execution_count": 25,
      "outputs": [
        {
          "output_type": "display_data",
          "data": {
            "image/png": "[encoded data removed]",
            "text/plain": [
              "<matplotlib.figure.Figure at 0x7fd56a618710>"
            ]
          },
          "metadata": {
            "tags": []
          }
        }
      ]
    },
    {
      "metadata": {
        "id": "LGptHwE23lmP",
        "colab_type": "text"
      },
      "cell_type": "markdown",
      "source": [
        "## Questions\n",
        "\n",
        "### Basic Tabular Learning\n",
        "\n",
        "**[5 pts]** Why is the ExperienceReplay agent so much more data efficient than online Q-learning?\n",
        "\n",
        "Because for online Q-learning, model only use online experience to update its q values. However, as for Experience Replay, model can use offline experience which are sampled from its real experience to update its q values. Thus, Experience Replay makes fuller use of a limit amount of experience and achieve a better policy. \n",
        "\n",
        "**[5 pts]** If we run the experiments for the same number of updates, rather than the same number of steps in the environment, which among online Q-learning and Experience Replay performs better? Why?\n",
        "\n",
        "Online Q-learning will be better.\n",
        "With same number of updates, which means online Q-learning and Experience Replay update q values for the same times. Online Q-learning is a directly reinforcement learning and its experience are all real observations. It learns more new information since its data is less repeative.\n",
        "\n",
        "For Experience Replay, some of its experience are sampled from real observations and it only exploit its knowledge and does not explore.\n",
        "\n",
        "\n",
        "**[5 pts]** Which among online Q-learning and Dyna-Q is more data efficient? why?\n",
        "\n",
        "Dyna-Q is more data efficient.\n",
        "As shown in the graph, as it can be seen that in Dyna-Q graph, be closer to goal, the value is larger. \n",
        "\n",
        "Dyna-Q use the real experience not only to directly improve the value function and policy, but also to learn the model and then simulate experience to improve value and policy.\n",
        "Q-learning only learn from its real experience and it will be slower to reach its optimal performance.  \n",
        "\n",
        "Hence, with the same number of steps, the performance of Dyna-Q will improved faster and better.\n",
        "\n",
        "\n",
        "**[5 pts]** If we run the experiments for the same number of updates, rather than the same number of steps in the environment, which among online Q-learning and Dyna-Q performs better? Why?\n",
        "\n",
        "Online Q-learning will be better.\n",
        "\n",
        "With the same number of updates, online Q-learning and Dyna-Q both improve their value and policy for the same times. As for online Q-learning, it only use real experience to improve its value and policy. As for Dyna-Q, it usea both real experience and experience simulated by the model. Hence, Dyna-Q is more easily affected by bias in the design of the model.\n",
        "\n",
        "Thus, with the same number of updates, although Q-learning is slower, its performance is better.\n",
        "\n",
        "\n",
        "### Linear function approximation\n",
        "\n",
        "**[5 pts]** The value estimates with function approximation are considerably more blurry than in the tabular setting despite more training steps and interactions with the environment, why is this the case?\n",
        "\n",
        "Function approximation may not accurate because features may not represent all information of state.\n",
        "\n",
        "\n",
        "**[5 pts]** Inspect the policies derived by training agents with linear function approximation on `FeatureGrid` (as shown by `plot_greedy_policy`). How does this compare to the optimal policy? Are there any inconsistencies you can spot? What is the reason of these?\n",
        "\n",
        "Policy suggests to move back to the starting point.\n",
        "\n",
        "\n",
        "### Learning in a non stationary environment\n",
        "\n",
        "Consider now the tabular but non-stationary setting of section 2.4.\n",
        "\n",
        "After an initial pretraining phase, the goal location is moved to a new location, where the agent is allowed to train for some (shorter) time.\n",
        "\n",
        "**[10 pts]** Compare the value estimates of online Q-learning and Experience Replay, after training also on the new goal location, explain what you see. \n",
        "\n",
        "From the graphs, it can be seen that after moving the goal to a new location, Q-learning response faster than Experience replay. In Experience Replay graph, values of states around the previous goal are still very high. In Q-learning graph, although values of state around the previous goal are still high, values of state around the new goal increase slight.\n",
        "\n",
        "The reason of this is: for Q-learning, it improve its values and policy from real experience. When the goal is moved to a new position, Q-learning will starts using new real experience to improve its values and policy.\n",
        "For Experience Replay, it improve its values and policy using both real experience and experience sampled from its real experience. When the goal is moved to a new position, although Experience Replay also uses new real experience to improve its values and policy, however, it uses also experience of old position. Hence, after a short time training, Q-learning perform better and faster than Experience Replay.\n",
        "\n",
        "**[10 pts]** Compare the value estimates of online Q-learning and Dyna-Q, after training also on the new goal location, explain what you see.\n",
        "\n",
        "From the graphs, it can be seen that after moving the goal to a new location, Dyna-Q response much faster than Q-learning. In Dyna-Q graph, values of states around the new goal are very high,although values of state around the previous goal is also quite high. In Q-learning graph, although values of state around the previous goal are still high, values of state around the new goal increase slight.\n",
        "\n",
        "The difference between Dyna-Q and Q-learning is that Dyna-Q is model-based while Q-learning is model-free. Real experience in Dyna-Q can be used to improve values and policy and also can be use to improve model of environment. After moving the goal to a new position(changing the environment), Dyna-Q can use the new real experience to improve its values and policy. At the same time, it can also use new real experience to improve its model of environment which enables its model to change ** in line with  ** the change of environment. Then in the planning process, Dyna-Q uses experience simulated by model to improve it values and policy, which enables values and policy of Dyna-Q improve fast. \n",
        "\n",
        "Hence, compared with Q-learning which only learning directly from its real experience, Dyna-Q can response to the change of environment faster and more effective.\n",
        "\n",
        "Back up your observations with visualizations of the value/policy.\n",
        "\n"
      ]
    },
    {
      "metadata": {
        "id": "-9MNyXV165oG",
        "colab_type": "code",
        "colab": {
          "autoexec": {
            "startup": false,
            "wait_interval": 0
          }
        }
      },
      "cell_type": "code",
      "source": [
        ""
      ],
      "execution_count": 0,
      "outputs": []
    }
  ]
}